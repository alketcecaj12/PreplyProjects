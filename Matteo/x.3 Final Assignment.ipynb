{
 "cells": [
  {
   "cell_type": "markdown",
   "id": "fced9a7c-bf3f-478c-9860-5d24a88b172b",
   "metadata": {},
   "source": [
    "# Final Assignment"
   ]
  },
  {
   "cell_type": "code",
   "execution_count": 2,
   "id": "734a815f-7e3e-4032-9721-eb5409fbc523",
   "metadata": {},
   "outputs": [],
   "source": [
    "import numpy as np\n",
    "import pandas as pd\n",
    "\n",
    "import matplotlib.pyplot as plt\n",
    "import seaborn as sns\n",
    "sns.set_theme()\n",
    "sns.set(rc={'figure.figsize':(15, 9)})\n",
    "sns.set(font_scale=1.5) "
   ]
  },
  {
   "cell_type": "markdown",
   "id": "7b2d5563-e2df-4934-b313-c15a3fc6e6d2",
   "metadata": {},
   "source": [
    "### Part 1\n",
    "\n",
    "The `food_consumption.csv` dataset from the `data` folder contains data on the several countries' food consumption per food category and their respective CO2 emissions. Load it to a DataFrame named `food` and check its contents."
   ]
  },
  {
   "cell_type": "code",
   "execution_count": 3,
   "id": "dfd5da95-6fdd-4f31-acb8-9c6e1a424df7",
   "metadata": {},
   "outputs": [
    {
     "data": {
      "text/html": [
       "<div>\n",
       "<style scoped>\n",
       "    .dataframe tbody tr th:only-of-type {\n",
       "        vertical-align: middle;\n",
       "    }\n",
       "\n",
       "    .dataframe tbody tr th {\n",
       "        vertical-align: top;\n",
       "    }\n",
       "\n",
       "    .dataframe thead th {\n",
       "        text-align: right;\n",
       "    }\n",
       "</style>\n",
       "<table border=\"1\" class=\"dataframe\">\n",
       "  <thead>\n",
       "    <tr style=\"text-align: right;\">\n",
       "      <th></th>\n",
       "      <th>country</th>\n",
       "      <th>food_category</th>\n",
       "      <th>consumption</th>\n",
       "      <th>co2_emission</th>\n",
       "    </tr>\n",
       "  </thead>\n",
       "  <tbody>\n",
       "    <tr>\n",
       "      <th>1420</th>\n",
       "      <td>Bangladesh</td>\n",
       "      <td>poultry</td>\n",
       "      <td>1.40</td>\n",
       "      <td>1.50</td>\n",
       "    </tr>\n",
       "    <tr>\n",
       "      <th>1266</th>\n",
       "      <td>Nigeria</td>\n",
       "      <td>poultry</td>\n",
       "      <td>1.73</td>\n",
       "      <td>1.86</td>\n",
       "    </tr>\n",
       "    <tr>\n",
       "      <th>449</th>\n",
       "      <td>Belarus</td>\n",
       "      <td>soybeans</td>\n",
       "      <td>0.30</td>\n",
       "      <td>0.14</td>\n",
       "    </tr>\n",
       "    <tr>\n",
       "      <th>1244</th>\n",
       "      <td>Malawi</td>\n",
       "      <td>poultry</td>\n",
       "      <td>1.38</td>\n",
       "      <td>1.48</td>\n",
       "    </tr>\n",
       "    <tr>\n",
       "      <th>1272</th>\n",
       "      <td>Nigeria</td>\n",
       "      <td>wheat</td>\n",
       "      <td>20.82</td>\n",
       "      <td>3.97</td>\n",
       "    </tr>\n",
       "    <tr>\n",
       "      <th>475</th>\n",
       "      <td>New Caledonia</td>\n",
       "      <td>beef</td>\n",
       "      <td>16.07</td>\n",
       "      <td>495.89</td>\n",
       "    </tr>\n",
       "    <tr>\n",
       "      <th>1061</th>\n",
       "      <td>Malaysia</td>\n",
       "      <td>eggs</td>\n",
       "      <td>16.57</td>\n",
       "      <td>15.22</td>\n",
       "    </tr>\n",
       "    <tr>\n",
       "      <th>576</th>\n",
       "      <td>Ecuador</td>\n",
       "      <td>fish</td>\n",
       "      <td>5.17</td>\n",
       "      <td>8.25</td>\n",
       "    </tr>\n",
       "    <tr>\n",
       "      <th>731</th>\n",
       "      <td>Bosnia and Herzegovina</td>\n",
       "      <td>eggs</td>\n",
       "      <td>4.49</td>\n",
       "      <td>4.12</td>\n",
       "    </tr>\n",
       "    <tr>\n",
       "      <th>882</th>\n",
       "      <td>Slovakia</td>\n",
       "      <td>beef</td>\n",
       "      <td>5.19</td>\n",
       "      <td>160.15</td>\n",
       "    </tr>\n",
       "  </tbody>\n",
       "</table>\n",
       "</div>"
      ],
      "text/plain": [
       "                     country food_category  consumption  co2_emission\n",
       "1420              Bangladesh       poultry         1.40          1.50\n",
       "1266                 Nigeria       poultry         1.73          1.86\n",
       "449                  Belarus      soybeans         0.30          0.14\n",
       "1244                  Malawi       poultry         1.38          1.48\n",
       "1272                 Nigeria         wheat        20.82          3.97\n",
       "475            New Caledonia          beef        16.07        495.89\n",
       "1061                Malaysia          eggs        16.57         15.22\n",
       "576                  Ecuador          fish         5.17          8.25\n",
       "731   Bosnia and Herzegovina          eggs         4.49          4.12\n",
       "882                 Slovakia          beef         5.19        160.15"
      ]
     },
     "execution_count": 3,
     "metadata": {},
     "output_type": "execute_result"
    }
   ],
   "source": [
    "food = pd.read_csv('data/food_consumption.csv')\n",
    "food.sample(10)"
   ]
  },
  {
   "cell_type": "code",
   "execution_count": 4,
   "id": "f6ad85fa",
   "metadata": {},
   "outputs": [
    {
     "data": {
      "text/html": [
       "<div>\n",
       "<style scoped>\n",
       "    .dataframe tbody tr th:only-of-type {\n",
       "        vertical-align: middle;\n",
       "    }\n",
       "\n",
       "    .dataframe tbody tr th {\n",
       "        vertical-align: top;\n",
       "    }\n",
       "\n",
       "    .dataframe thead th {\n",
       "        text-align: right;\n",
       "    }\n",
       "</style>\n",
       "<table border=\"1\" class=\"dataframe\">\n",
       "  <thead>\n",
       "    <tr style=\"text-align: right;\">\n",
       "      <th></th>\n",
       "      <th>country</th>\n",
       "      <th>food_category</th>\n",
       "      <th>consumption</th>\n",
       "      <th>co2_emission</th>\n",
       "    </tr>\n",
       "  </thead>\n",
       "  <tbody>\n",
       "    <tr>\n",
       "      <th>0</th>\n",
       "      <td>Argentina</td>\n",
       "      <td>pork</td>\n",
       "      <td>10.51</td>\n",
       "      <td>37.20</td>\n",
       "    </tr>\n",
       "    <tr>\n",
       "      <th>1</th>\n",
       "      <td>Argentina</td>\n",
       "      <td>poultry</td>\n",
       "      <td>38.66</td>\n",
       "      <td>41.53</td>\n",
       "    </tr>\n",
       "    <tr>\n",
       "      <th>2</th>\n",
       "      <td>Argentina</td>\n",
       "      <td>beef</td>\n",
       "      <td>55.48</td>\n",
       "      <td>1712.00</td>\n",
       "    </tr>\n",
       "    <tr>\n",
       "      <th>3</th>\n",
       "      <td>Argentina</td>\n",
       "      <td>lamb_goat</td>\n",
       "      <td>1.56</td>\n",
       "      <td>54.63</td>\n",
       "    </tr>\n",
       "    <tr>\n",
       "      <th>4</th>\n",
       "      <td>Argentina</td>\n",
       "      <td>fish</td>\n",
       "      <td>4.36</td>\n",
       "      <td>6.96</td>\n",
       "    </tr>\n",
       "  </tbody>\n",
       "</table>\n",
       "</div>"
      ],
      "text/plain": [
       "     country food_category  consumption  co2_emission\n",
       "0  Argentina          pork        10.51         37.20\n",
       "1  Argentina       poultry        38.66         41.53\n",
       "2  Argentina          beef        55.48       1712.00\n",
       "3  Argentina     lamb_goat         1.56         54.63\n",
       "4  Argentina          fish         4.36          6.96"
      ]
     },
     "execution_count": 4,
     "metadata": {},
     "output_type": "execute_result"
    }
   ],
   "source": [
    "food.head()"
   ]
  },
  {
   "cell_type": "code",
   "execution_count": 5,
   "id": "4066fae0",
   "metadata": {},
   "outputs": [
    {
     "name": "stdout",
     "output_type": "stream",
     "text": [
      "<class 'pandas.core.frame.DataFrame'>\n",
      "RangeIndex: 1430 entries, 0 to 1429\n",
      "Data columns (total 4 columns):\n",
      " #   Column         Non-Null Count  Dtype  \n",
      "---  ------         --------------  -----  \n",
      " 0   country        1430 non-null   object \n",
      " 1   food_category  1430 non-null   object \n",
      " 2   consumption    1430 non-null   float64\n",
      " 3   co2_emission   1430 non-null   float64\n",
      "dtypes: float64(2), object(2)\n",
      "memory usage: 44.8+ KB\n"
     ]
    }
   ],
   "source": [
    "food.info()"
   ]
  },
  {
   "cell_type": "markdown",
   "id": "472b304f-f6f4-4a5b-a662-71e0250b2cce",
   "metadata": {},
   "source": [
    "1. Use the `.describe()` method on the `food` DataFrame to produce descriptive statistics about the `consumption` metric for each class in the `food_category` variable. **Which `food_category` has the highest median value of `food_consumption`?** "
   ]
  },
  {
   "cell_type": "code",
   "execution_count": 6,
   "id": "2e8dad5d-eff2-4aea-8ee6-8013d526cc48",
   "metadata": {},
   "outputs": [
    {
     "data": {
      "text/html": [
       "<div>\n",
       "<style scoped>\n",
       "    .dataframe tbody tr th:only-of-type {\n",
       "        vertical-align: middle;\n",
       "    }\n",
       "\n",
       "    .dataframe tbody tr th {\n",
       "        vertical-align: top;\n",
       "    }\n",
       "\n",
       "    .dataframe thead th {\n",
       "        text-align: right;\n",
       "    }\n",
       "</style>\n",
       "<table border=\"1\" class=\"dataframe\">\n",
       "  <thead>\n",
       "    <tr style=\"text-align: right;\">\n",
       "      <th></th>\n",
       "      <th>count</th>\n",
       "      <th>mean</th>\n",
       "      <th>std</th>\n",
       "      <th>min</th>\n",
       "      <th>25%</th>\n",
       "      <th>50%</th>\n",
       "      <th>75%</th>\n",
       "      <th>max</th>\n",
       "    </tr>\n",
       "    <tr>\n",
       "      <th>food_category</th>\n",
       "      <th></th>\n",
       "      <th></th>\n",
       "      <th></th>\n",
       "      <th></th>\n",
       "      <th></th>\n",
       "      <th></th>\n",
       "      <th></th>\n",
       "      <th></th>\n",
       "    </tr>\n",
       "  </thead>\n",
       "  <tbody>\n",
       "    <tr>\n",
       "      <th>beef</th>\n",
       "      <td>130.0</td>\n",
       "      <td>12.123385</td>\n",
       "      <td>9.654140</td>\n",
       "      <td>0.78</td>\n",
       "      <td>4.9975</td>\n",
       "      <td>8.285</td>\n",
       "      <td>17.9400</td>\n",
       "      <td>55.48</td>\n",
       "    </tr>\n",
       "    <tr>\n",
       "      <th>dairy</th>\n",
       "      <td>130.0</td>\n",
       "      <td>125.774692</td>\n",
       "      <td>93.327721</td>\n",
       "      <td>3.04</td>\n",
       "      <td>45.7925</td>\n",
       "      <td>110.975</td>\n",
       "      <td>192.7150</td>\n",
       "      <td>430.76</td>\n",
       "    </tr>\n",
       "    <tr>\n",
       "      <th>eggs</th>\n",
       "      <td>130.0</td>\n",
       "      <td>8.163769</td>\n",
       "      <td>5.032582</td>\n",
       "      <td>0.16</td>\n",
       "      <td>3.9450</td>\n",
       "      <td>8.420</td>\n",
       "      <td>12.3125</td>\n",
       "      <td>19.15</td>\n",
       "    </tr>\n",
       "    <tr>\n",
       "      <th>fish</th>\n",
       "      <td>130.0</td>\n",
       "      <td>17.287077</td>\n",
       "      <td>19.013508</td>\n",
       "      <td>0.24</td>\n",
       "      <td>6.0250</td>\n",
       "      <td>13.950</td>\n",
       "      <td>21.8525</td>\n",
       "      <td>179.71</td>\n",
       "    </tr>\n",
       "    <tr>\n",
       "      <th>lamb_goat</th>\n",
       "      <td>130.0</td>\n",
       "      <td>2.600154</td>\n",
       "      <td>3.665252</td>\n",
       "      <td>0.00</td>\n",
       "      <td>0.5600</td>\n",
       "      <td>1.325</td>\n",
       "      <td>3.1025</td>\n",
       "      <td>21.12</td>\n",
       "    </tr>\n",
       "    <tr>\n",
       "      <th>nuts</th>\n",
       "      <td>130.0</td>\n",
       "      <td>4.137231</td>\n",
       "      <td>3.372817</td>\n",
       "      <td>0.18</td>\n",
       "      <td>1.8050</td>\n",
       "      <td>3.495</td>\n",
       "      <td>5.6100</td>\n",
       "      <td>23.03</td>\n",
       "    </tr>\n",
       "    <tr>\n",
       "      <th>pork</th>\n",
       "      <td>130.0</td>\n",
       "      <td>16.123692</td>\n",
       "      <td>15.717646</td>\n",
       "      <td>0.00</td>\n",
       "      <td>2.0900</td>\n",
       "      <td>10.355</td>\n",
       "      <td>28.2275</td>\n",
       "      <td>67.11</td>\n",
       "    </tr>\n",
       "    <tr>\n",
       "      <th>poultry</th>\n",
       "      <td>130.0</td>\n",
       "      <td>21.219231</td>\n",
       "      <td>14.571980</td>\n",
       "      <td>0.47</td>\n",
       "      <td>10.9100</td>\n",
       "      <td>19.855</td>\n",
       "      <td>29.7475</td>\n",
       "      <td>62.50</td>\n",
       "    </tr>\n",
       "    <tr>\n",
       "      <th>rice</th>\n",
       "      <td>130.0</td>\n",
       "      <td>29.375154</td>\n",
       "      <td>37.324471</td>\n",
       "      <td>0.95</td>\n",
       "      <td>4.7200</td>\n",
       "      <td>11.875</td>\n",
       "      <td>43.4425</td>\n",
       "      <td>171.73</td>\n",
       "    </tr>\n",
       "    <tr>\n",
       "      <th>soybeans</th>\n",
       "      <td>130.0</td>\n",
       "      <td>0.860538</td>\n",
       "      <td>2.083336</td>\n",
       "      <td>0.00</td>\n",
       "      <td>0.0100</td>\n",
       "      <td>0.075</td>\n",
       "      <td>0.6400</td>\n",
       "      <td>16.95</td>\n",
       "    </tr>\n",
       "    <tr>\n",
       "      <th>wheat</th>\n",
       "      <td>130.0</td>\n",
       "      <td>71.549538</td>\n",
       "      <td>44.191318</td>\n",
       "      <td>2.74</td>\n",
       "      <td>37.0450</td>\n",
       "      <td>69.420</td>\n",
       "      <td>103.3725</td>\n",
       "      <td>197.50</td>\n",
       "    </tr>\n",
       "  </tbody>\n",
       "</table>\n",
       "</div>"
      ],
      "text/plain": [
       "               count        mean        std   min      25%      50%       75%  \\\n",
       "food_category                                                                   \n",
       "beef           130.0   12.123385   9.654140  0.78   4.9975    8.285   17.9400   \n",
       "dairy          130.0  125.774692  93.327721  3.04  45.7925  110.975  192.7150   \n",
       "eggs           130.0    8.163769   5.032582  0.16   3.9450    8.420   12.3125   \n",
       "fish           130.0   17.287077  19.013508  0.24   6.0250   13.950   21.8525   \n",
       "lamb_goat      130.0    2.600154   3.665252  0.00   0.5600    1.325    3.1025   \n",
       "nuts           130.0    4.137231   3.372817  0.18   1.8050    3.495    5.6100   \n",
       "pork           130.0   16.123692  15.717646  0.00   2.0900   10.355   28.2275   \n",
       "poultry        130.0   21.219231  14.571980  0.47  10.9100   19.855   29.7475   \n",
       "rice           130.0   29.375154  37.324471  0.95   4.7200   11.875   43.4425   \n",
       "soybeans       130.0    0.860538   2.083336  0.00   0.0100    0.075    0.6400   \n",
       "wheat          130.0   71.549538  44.191318  2.74  37.0450   69.420  103.3725   \n",
       "\n",
       "                  max  \n",
       "food_category          \n",
       "beef            55.48  \n",
       "dairy          430.76  \n",
       "eggs            19.15  \n",
       "fish           179.71  \n",
       "lamb_goat       21.12  \n",
       "nuts            23.03  \n",
       "pork            67.11  \n",
       "poultry         62.50  \n",
       "rice           171.73  \n",
       "soybeans        16.95  \n",
       "wheat          197.50  "
      ]
     },
     "execution_count": 6,
     "metadata": {},
     "output_type": "execute_result"
    }
   ],
   "source": [
    "food_description = food.groupby('food_category')['consumption'].describe()\n",
    "food_description"
   ]
  },
  {
   "cell_type": "code",
   "execution_count": 7,
   "id": "1bd6a87f",
   "metadata": {},
   "outputs": [
    {
     "name": "stdout",
     "output_type": "stream",
     "text": [
      "The food category with the highest median value of food_consumption is: dairy\n"
     ]
    }
   ],
   "source": [
    "highest_median_value = food_description[food_description['50%'] == food_description['50%'].max()].index[0]\n",
    "print(f\"The food category with the highest median value of food_consumption is: {highest_median_value}\")"
   ]
  },
  {
   "cell_type": "code",
   "execution_count": 8,
   "id": "245adef7",
   "metadata": {},
   "outputs": [
    {
     "data": {
      "text/html": [
       "<div>\n",
       "<style scoped>\n",
       "    .dataframe tbody tr th:only-of-type {\n",
       "        vertical-align: middle;\n",
       "    }\n",
       "\n",
       "    .dataframe tbody tr th {\n",
       "        vertical-align: top;\n",
       "    }\n",
       "\n",
       "    .dataframe thead th {\n",
       "        text-align: right;\n",
       "    }\n",
       "</style>\n",
       "<table border=\"1\" class=\"dataframe\">\n",
       "  <thead>\n",
       "    <tr style=\"text-align: right;\">\n",
       "      <th></th>\n",
       "      <th>consumption</th>\n",
       "      <th>co2_emission</th>\n",
       "    </tr>\n",
       "  </thead>\n",
       "  <tbody>\n",
       "    <tr>\n",
       "      <th>min</th>\n",
       "      <td>0.000000</td>\n",
       "      <td>0.000000</td>\n",
       "    </tr>\n",
       "    <tr>\n",
       "      <th>25%</th>\n",
       "      <td>2.365000</td>\n",
       "      <td>5.210000</td>\n",
       "    </tr>\n",
       "    <tr>\n",
       "      <th>50%</th>\n",
       "      <td>8.890000</td>\n",
       "      <td>16.530000</td>\n",
       "    </tr>\n",
       "    <tr>\n",
       "      <th>mean</th>\n",
       "      <td>28.110406</td>\n",
       "      <td>74.383993</td>\n",
       "    </tr>\n",
       "    <tr>\n",
       "      <th>75%</th>\n",
       "      <td>28.132500</td>\n",
       "      <td>62.597500</td>\n",
       "    </tr>\n",
       "    <tr>\n",
       "      <th>std</th>\n",
       "      <td>49.818044</td>\n",
       "      <td>152.098566</td>\n",
       "    </tr>\n",
       "    <tr>\n",
       "      <th>max</th>\n",
       "      <td>430.760000</td>\n",
       "      <td>1712.000000</td>\n",
       "    </tr>\n",
       "    <tr>\n",
       "      <th>count</th>\n",
       "      <td>1430.000000</td>\n",
       "      <td>1430.000000</td>\n",
       "    </tr>\n",
       "  </tbody>\n",
       "</table>\n",
       "</div>"
      ],
      "text/plain": [
       "       consumption  co2_emission\n",
       "min       0.000000      0.000000\n",
       "25%       2.365000      5.210000\n",
       "50%       8.890000     16.530000\n",
       "mean     28.110406     74.383993\n",
       "75%      28.132500     62.597500\n",
       "std      49.818044    152.098566\n",
       "max     430.760000   1712.000000\n",
       "count  1430.000000   1430.000000"
      ]
     },
     "execution_count": 8,
     "metadata": {},
     "output_type": "execute_result"
    }
   ],
   "source": [
    "food.describe().sort_values('consumption')"
   ]
  },
  {
   "cell_type": "code",
   "execution_count": null,
   "id": "9542cfb8",
   "metadata": {},
   "outputs": [],
   "source": []
  },
  {
   "cell_type": "code",
   "execution_count": null,
   "id": "db0681e3",
   "metadata": {},
   "outputs": [],
   "source": []
  },
  {
   "cell_type": "markdown",
   "id": "78301ce2-ff86-4065-b681-3f08468dca5a",
   "metadata": {},
   "source": [
    "2. In a single chart, plot one boxplot for each `food_category` (11 in total) using the variable `co2_emission` as the metric. **By looking at the chart, which `food_category` has the highest interquartile range (IQR)?**"
   ]
  },
  {
   "cell_type": "code",
   "execution_count": 9,
   "id": "0f42d7f9-ccdc-4206-b4e4-b7e6748a65a7",
   "metadata": {},
   "outputs": [
    {
     "data": {
      "image/png": "[encoded data removed]",
      "text/plain": [
       "<Figure size 1200x800 with 1 Axes>"
      ]
     },
     "metadata": {},
     "output_type": "display_data"
    }
   ],
   "source": [
    "sns.set(style=\"whitegrid\")\n",
    "\n",
    "plt.figure(figsize=(12, 8))\n",
    "sns.boxplot(x='food_category', y='co2_emission', data=food)\n",
    "plt.title('CO2 Emission by Food Category')\n",
    "plt.xlabel('Food Category')\n",
    "plt.ylabel('CO2 Emission')\n",
    "\n",
    "plt.show()"
   ]
  },
  {
   "cell_type": "code",
   "execution_count": 10,
   "id": "5d2ceca8",
   "metadata": {},
   "outputs": [
    {
     "name": "stdout",
     "output_type": "stream",
     "text": [
      "Beef is the food_category that has the highest interquartile range\n"
     ]
    }
   ],
   "source": [
    "print('Beef is the food_category that has the highest interquartile range')"
   ]
  },
  {
   "cell_type": "code",
   "execution_count": 11,
   "id": "d70ba21b",
   "metadata": {},
   "outputs": [
    {
     "name": "stdout",
     "output_type": "stream",
     "text": [
      "beef 399.37749999999994\n",
      "dairy 209.2725\n",
      "eggs 7.6850000000000005\n",
      "fish 25.27\n",
      "lamb_goat 89.03750000000001\n",
      "nuts 6.734999999999999\n",
      "pork 92.52\n",
      "poultry 20.230000000000004\n",
      "rice 49.55\n",
      "soybeans 0.29\n",
      "wheat 12.645000000000001\n"
     ]
    }
   ],
   "source": [
    "gbf = food.groupby('food_category')\n",
    "\n",
    "for i, frame in gbf:\n",
    "    iqr = frame.co2_emission.quantile(0.75) - frame.co2_emission.quantile(0.25)\n",
    "    print(i, iqr)"
   ]
  },
  {
   "cell_type": "markdown",
   "id": "50a7f9f2-6fe9-4707-a734-7dc1d9b010f9",
   "metadata": {},
   "source": [
    "3. Looking at the chart from the previous question, which is the `food_category` with the highest median `co2_emission` value? "
   ]
  },
  {
   "cell_type": "code",
   "execution_count": 12,
   "id": "b0a27598-6e5d-437e-a879-15a86197bd4c",
   "metadata": {},
   "outputs": [
    {
     "name": "stdout",
     "output_type": "stream",
     "text": [
      "beef 255.655\n",
      "dairy 158.075\n",
      "eggs 7.734999999999999\n",
      "fish 22.27\n",
      "lamb_goat 46.405\n",
      "nuts 6.1850000000000005\n",
      "pork 36.650000000000006\n",
      "poultry 21.325\n",
      "rice 15.2\n",
      "soybeans 0.035\n",
      "wheat 13.24\n"
     ]
    }
   ],
   "source": [
    "for i, frame in gbf:\n",
    "    median = frame.co2_emission.quantile(0.5)\n",
    "    print(i, median)"
   ]
  },
  {
   "cell_type": "markdown",
   "id": "bccd7696-498d-4220-89ff-2154275d2469",
   "metadata": {},
   "source": [
    "4. Consider the `consumption` of \"poultry\" and \"fish\" across all available `countries`; looking at the table from question 1, the average of poultry consumption (21.22) seems to be higher than that of fish consumption (17.29), but is this difference statistically significant? Create a permutation test in order to assess the null hypothesis that there is no difference between the two means. **Do you accept or reject the null hypothesis?** Explain why. "
   ]
  },
  {
   "cell_type": "markdown",
   "id": "21cf7d67-d92f-4cd8-969a-e517e4165996",
   "metadata": {},
   "source": [
    "### Permutation Test\n",
    "A permutation test, also known as a randomization test, is a non-parametric statistical test used to assess the significance of a hypothesis. It works by shuffling the data and comparing the observed test statistic to a null distribution created from these permutations."
   ]
  },
  {
   "cell_type": "code",
   "execution_count": 20,
   "id": "256316a4-8491-4171-90b9-3ec54ca949b0",
   "metadata": {},
   "outputs": [],
   "source": [
    "#create the two intervals of data to be compared\n",
    "poultry = food.groupby(\"food_category\").get_group(\"poultry\")\n",
    "poultry_cons = poultry.sample(100)[\"consumption\"].values\n",
    "fish = food.groupby(\"food_category\").get_group(\"fish\")\n",
    "fish_cons = fish.sample(100)[\"consumption\"].values"
   ]
  },
  {
   "cell_type": "code",
   "execution_count": 22,
   "id": "159f3cd2-90f7-4eb9-a85b-263341415ba1",
   "metadata": {},
   "outputs": [
    {
     "name": "stdout",
     "output_type": "stream",
     "text": [
      "0.428\n",
      "Fail to reject the null hypothesis\n"
     ]
    }
   ],
   "source": [
    "# Define your observed test statistic (e.g., mean difference)\n",
    "observed_statistic = np.mean(fish_cons) - np.mean(poultry_cons)\n",
    "\n",
    "# Combine the data from both groups into a single array\n",
    "combined_data = np.concatenate((poultry_cons, fish_cons))\n",
    "\n",
    "# Create an empty list to store the permuted test statistics\n",
    "permuted_statistics = []\n",
    "\n",
    "# Number of permutations (you can adjust as needed, but fewer permutations are used here)\n",
    "num_permutations = 500\n",
    "\n",
    "for _ in range(num_permutations):\n",
    "    # Shuffle the combined data\n",
    "    np.random.shuffle(combined_data)\n",
    "\n",
    "    # Calculate the test statistic for the shuffled data\n",
    "    shuffled_poultry = combined_data[:len(poultry_cons)]\n",
    "    shuffled_fish = combined_data[len(fish_cons):]\n",
    "    permuted_statistic = np.mean(shuffled_poultry) - np.mean(shuffled_fish)\n",
    "\n",
    "    permuted_statistics.append(permuted_statistic)\n",
    "\n",
    "# Calculate the p-value\n",
    "p_value = (np.abs(permuted_statistics) >= np.abs(observed_statistic)).mean()\n",
    "print(p_value)\n",
    "# Make a decision based on the p-value (e.g., compare it to a significance level)\n",
    "if p_value < 0.05:\n",
    "    print(\"Reject the null hypothesis\")\n",
    "else:\n",
    "    print(\"Fail to reject the null hypothesis\")\n"
   ]
  },
  {
   "cell_type": "markdown",
   "id": "93e48d1d-6af4-47dc-93ba-a5305d9f3869",
   "metadata": {},
   "source": [
    "#### We typically choose a level of hypothesis of 95% confidence in order to test the hypothesis. \n",
    "#### This means a p-value of 5%. If the p-value is less then 5% it means that the difference between the two means it is \n",
    "#### not due to simple chance but it is significative. Given that the p-value in this case is more than 0.05 (5%) it means that we fail to reject the \n",
    "#### null hypothesis i.e. that there is no significant difference between the two means"
   ]
  },
  {
   "cell_type": "markdown",
   "id": "96d54b9c",
   "metadata": {},
   "source": [
    "### Part 2\n",
    "\n",
    "The `distributions.csv` dataset from the `data` folder contains data drawn from 7 probability distributions – one per column. Load it to a DataFrame named `distributions` and check its contents."
   ]
  },
  {
   "cell_type": "code",
   "execution_count": 24,
   "id": "018dcdb7",
   "metadata": {},
   "outputs": [
    {
     "data": {
      "text/html": [
       "<div>\n",
       "<style scoped>\n",
       "    .dataframe tbody tr th:only-of-type {\n",
       "        vertical-align: middle;\n",
       "    }\n",
       "\n",
       "    .dataframe tbody tr th {\n",
       "        vertical-align: top;\n",
       "    }\n",
       "\n",
       "    .dataframe thead th {\n",
       "        text-align: right;\n",
       "    }\n",
       "</style>\n",
       "<table border=\"1\" class=\"dataframe\">\n",
       "  <thead>\n",
       "    <tr style=\"text-align: right;\">\n",
       "      <th></th>\n",
       "      <th>distribution_1</th>\n",
       "      <th>distribution_2</th>\n",
       "      <th>distribution_3</th>\n",
       "      <th>distribution_4</th>\n",
       "      <th>distribution_5</th>\n",
       "      <th>distribution_6</th>\n",
       "      <th>distribution_7</th>\n",
       "    </tr>\n",
       "  </thead>\n",
       "  <tbody>\n",
       "    <tr>\n",
       "      <th>663</th>\n",
       "      <td>False</td>\n",
       "      <td>100.017227</td>\n",
       "      <td>5.574829</td>\n",
       "      <td>898</td>\n",
       "      <td>1</td>\n",
       "      <td>-34</td>\n",
       "      <td>0.745577</td>\n",
       "    </tr>\n",
       "    <tr>\n",
       "      <th>493</th>\n",
       "      <td>False</td>\n",
       "      <td>99.970063</td>\n",
       "      <td>1.835615</td>\n",
       "      <td>899</td>\n",
       "      <td>0</td>\n",
       "      <td>-31</td>\n",
       "      <td>0.518819</td>\n",
       "    </tr>\n",
       "    <tr>\n",
       "      <th>116</th>\n",
       "      <td>False</td>\n",
       "      <td>100.002352</td>\n",
       "      <td>1.519488</td>\n",
       "      <td>918</td>\n",
       "      <td>2</td>\n",
       "      <td>-38</td>\n",
       "      <td>0.265786</td>\n",
       "    </tr>\n",
       "    <tr>\n",
       "      <th>633</th>\n",
       "      <td>False</td>\n",
       "      <td>100.020973</td>\n",
       "      <td>4.369405</td>\n",
       "      <td>897</td>\n",
       "      <td>0</td>\n",
       "      <td>-33</td>\n",
       "      <td>0.789282</td>\n",
       "    </tr>\n",
       "    <tr>\n",
       "      <th>818</th>\n",
       "      <td>False</td>\n",
       "      <td>100.004043</td>\n",
       "      <td>5.894007</td>\n",
       "      <td>908</td>\n",
       "      <td>3</td>\n",
       "      <td>-39</td>\n",
       "      <td>0.777774</td>\n",
       "    </tr>\n",
       "    <tr>\n",
       "      <th>80</th>\n",
       "      <td>False</td>\n",
       "      <td>99.994126</td>\n",
       "      <td>1.359701</td>\n",
       "      <td>915</td>\n",
       "      <td>2</td>\n",
       "      <td>-39</td>\n",
       "      <td>0.085863</td>\n",
       "    </tr>\n",
       "    <tr>\n",
       "      <th>817</th>\n",
       "      <td>False</td>\n",
       "      <td>100.007844</td>\n",
       "      <td>4.975212</td>\n",
       "      <td>909</td>\n",
       "      <td>1</td>\n",
       "      <td>-39</td>\n",
       "      <td>0.186296</td>\n",
       "    </tr>\n",
       "    <tr>\n",
       "      <th>46</th>\n",
       "      <td>False</td>\n",
       "      <td>99.999316</td>\n",
       "      <td>2.486439</td>\n",
       "      <td>896</td>\n",
       "      <td>1</td>\n",
       "      <td>-35</td>\n",
       "      <td>0.672223</td>\n",
       "    </tr>\n",
       "    <tr>\n",
       "      <th>609</th>\n",
       "      <td>False</td>\n",
       "      <td>100.006319</td>\n",
       "      <td>1.029851</td>\n",
       "      <td>894</td>\n",
       "      <td>0</td>\n",
       "      <td>-32</td>\n",
       "      <td>0.910147</td>\n",
       "    </tr>\n",
       "    <tr>\n",
       "      <th>677</th>\n",
       "      <td>False</td>\n",
       "      <td>99.993375</td>\n",
       "      <td>1.215063</td>\n",
       "      <td>906</td>\n",
       "      <td>2</td>\n",
       "      <td>-37</td>\n",
       "      <td>0.839247</td>\n",
       "    </tr>\n",
       "  </tbody>\n",
       "</table>\n",
       "</div>"
      ],
      "text/plain": [
       "     distribution_1  distribution_2  distribution_3  distribution_4  \\\n",
       "663           False      100.017227        5.574829             898   \n",
       "493           False       99.970063        1.835615             899   \n",
       "116           False      100.002352        1.519488             918   \n",
       "633           False      100.020973        4.369405             897   \n",
       "818           False      100.004043        5.894007             908   \n",
       "80            False       99.994126        1.359701             915   \n",
       "817           False      100.007844        4.975212             909   \n",
       "46            False       99.999316        2.486439             896   \n",
       "609           False      100.006319        1.029851             894   \n",
       "677           False       99.993375        1.215063             906   \n",
       "\n",
       "     distribution_5  distribution_6  distribution_7  \n",
       "663               1             -34        0.745577  \n",
       "493               0             -31        0.518819  \n",
       "116               2             -38        0.265786  \n",
       "633               0             -33        0.789282  \n",
       "818               3             -39        0.777774  \n",
       "80                2             -39        0.085863  \n",
       "817               1             -39        0.186296  \n",
       "46                1             -35        0.672223  \n",
       "609               0             -32        0.910147  \n",
       "677               2             -37        0.839247  "
      ]
     },
     "execution_count": 24,
     "metadata": {},
     "output_type": "execute_result"
    }
   ],
   "source": [
    "distributions = pd.read_csv('data/distributions.csv')\n",
    "distributions.sample(10)"
   ]
  },
  {
   "cell_type": "markdown",
   "id": "3cd39aa6",
   "metadata": {},
   "source": [
    "1. Use the `.describe()` and `info()` methods on the `distributions` DataFrame to produce some preliminary information about each column. **What is the data type of each column?**"
   ]
  },
  {
   "cell_type": "code",
   "execution_count": 25,
   "id": "8f50a43d",
   "metadata": {},
   "outputs": [
    {
     "name": "stdout",
     "output_type": "stream",
     "text": [
      "<class 'pandas.core.frame.DataFrame'>\n",
      "RangeIndex: 1000 entries, 0 to 999\n",
      "Data columns (total 7 columns):\n",
      " #   Column          Non-Null Count  Dtype  \n",
      "---  ------          --------------  -----  \n",
      " 0   distribution_1  1000 non-null   bool   \n",
      " 1   distribution_2  1000 non-null   float64\n",
      " 2   distribution_3  1000 non-null   float64\n",
      " 3   distribution_4  1000 non-null   int64  \n",
      " 4   distribution_5  1000 non-null   int64  \n",
      " 5   distribution_6  1000 non-null   int64  \n",
      " 6   distribution_7  1000 non-null   float64\n",
      "dtypes: bool(1), float64(3), int64(3)\n",
      "memory usage: 48.0 KB\n"
     ]
    }
   ],
   "source": [
    "distributions.info()"
   ]
  },
  {
   "cell_type": "code",
   "execution_count": 26,
   "id": "e74f42c2",
   "metadata": {},
   "outputs": [
    {
     "data": {
      "text/html": [
       "<div>\n",
       "<style scoped>\n",
       "    .dataframe tbody tr th:only-of-type {\n",
       "        vertical-align: middle;\n",
       "    }\n",
       "\n",
       "    .dataframe tbody tr th {\n",
       "        vertical-align: top;\n",
       "    }\n",
       "\n",
       "    .dataframe thead th {\n",
       "        text-align: right;\n",
       "    }\n",
       "</style>\n",
       "<table border=\"1\" class=\"dataframe\">\n",
       "  <thead>\n",
       "    <tr style=\"text-align: right;\">\n",
       "      <th></th>\n",
       "      <th>distribution_2</th>\n",
       "      <th>distribution_3</th>\n",
       "      <th>distribution_4</th>\n",
       "      <th>distribution_5</th>\n",
       "      <th>distribution_6</th>\n",
       "      <th>distribution_7</th>\n",
       "    </tr>\n",
       "  </thead>\n",
       "  <tbody>\n",
       "    <tr>\n",
       "      <th>count</th>\n",
       "      <td>1000.000000</td>\n",
       "      <td>1000.000000</td>\n",
       "      <td>1000.000000</td>\n",
       "      <td>1000.000000</td>\n",
       "      <td>1000.000000</td>\n",
       "      <td>1000.000000</td>\n",
       "    </tr>\n",
       "    <tr>\n",
       "      <th>mean</th>\n",
       "      <td>100.000263</td>\n",
       "      <td>3.462706</td>\n",
       "      <td>899.630000</td>\n",
       "      <td>1.192000</td>\n",
       "      <td>-34.539000</td>\n",
       "      <td>0.513223</td>\n",
       "    </tr>\n",
       "    <tr>\n",
       "      <th>std</th>\n",
       "      <td>0.010155</td>\n",
       "      <td>1.466874</td>\n",
       "      <td>9.729531</td>\n",
       "      <td>1.091938</td>\n",
       "      <td>2.889087</td>\n",
       "      <td>0.497540</td>\n",
       "    </tr>\n",
       "    <tr>\n",
       "      <th>min</th>\n",
       "      <td>99.961668</td>\n",
       "      <td>1.002417</td>\n",
       "      <td>865.000000</td>\n",
       "      <td>0.000000</td>\n",
       "      <td>-39.000000</td>\n",
       "      <td>0.000033</td>\n",
       "    </tr>\n",
       "    <tr>\n",
       "      <th>25%</th>\n",
       "      <td>99.993916</td>\n",
       "      <td>2.223423</td>\n",
       "      <td>893.000000</td>\n",
       "      <td>0.000000</td>\n",
       "      <td>-37.000000</td>\n",
       "      <td>0.141789</td>\n",
       "    </tr>\n",
       "    <tr>\n",
       "      <th>50%</th>\n",
       "      <td>100.000598</td>\n",
       "      <td>3.426250</td>\n",
       "      <td>900.000000</td>\n",
       "      <td>1.000000</td>\n",
       "      <td>-34.000000</td>\n",
       "      <td>0.362279</td>\n",
       "    </tr>\n",
       "    <tr>\n",
       "      <th>75%</th>\n",
       "      <td>100.007031</td>\n",
       "      <td>4.679788</td>\n",
       "      <td>906.000000</td>\n",
       "      <td>2.000000</td>\n",
       "      <td>-32.000000</td>\n",
       "      <td>0.735851</td>\n",
       "    </tr>\n",
       "    <tr>\n",
       "      <th>max</th>\n",
       "      <td>100.034052</td>\n",
       "      <td>5.997595</td>\n",
       "      <td>929.000000</td>\n",
       "      <td>6.000000</td>\n",
       "      <td>-30.000000</td>\n",
       "      <td>3.039330</td>\n",
       "    </tr>\n",
       "  </tbody>\n",
       "</table>\n",
       "</div>"
      ],
      "text/plain": [
       "       distribution_2  distribution_3  distribution_4  distribution_5  \\\n",
       "count     1000.000000     1000.000000     1000.000000     1000.000000   \n",
       "mean       100.000263        3.462706      899.630000        1.192000   \n",
       "std          0.010155        1.466874        9.729531        1.091938   \n",
       "min         99.961668        1.002417      865.000000        0.000000   \n",
       "25%         99.993916        2.223423      893.000000        0.000000   \n",
       "50%        100.000598        3.426250      900.000000        1.000000   \n",
       "75%        100.007031        4.679788      906.000000        2.000000   \n",
       "max        100.034052        5.997595      929.000000        6.000000   \n",
       "\n",
       "       distribution_6  distribution_7  \n",
       "count     1000.000000     1000.000000  \n",
       "mean       -34.539000        0.513223  \n",
       "std          2.889087        0.497540  \n",
       "min        -39.000000        0.000033  \n",
       "25%        -37.000000        0.141789  \n",
       "50%        -34.000000        0.362279  \n",
       "75%        -32.000000        0.735851  \n",
       "max        -30.000000        3.039330  "
      ]
     },
     "execution_count": 26,
     "metadata": {},
     "output_type": "execute_result"
    }
   ],
   "source": [
    "distributions.describe()"
   ]
  },
  {
   "cell_type": "markdown",
   "id": "c98368c9",
   "metadata": {},
   "source": [
    "2. Loop through each column of `distributions` and for each column produce a plot to show the distribution on a separate chart."
   ]
  },
  {
   "cell_type": "code",
   "execution_count": 27,
   "id": "b625c6c2",
   "metadata": {},
   "outputs": [],
   "source": [
    "def transform(x):\n",
    "    if x == False:\n",
    "        return 0\n",
    "    else:\n",
    "        return 1\n",
    "distributions['distribution_1'] = distributions['distribution_1'].apply(lambda x: transform(x))"
   ]
  },
  {
   "cell_type": "code",
   "execution_count": 28,
   "id": "161eb87d",
   "metadata": {},
   "outputs": [
    {
     "data": {
      "text/html": [
       "<div>\n",
       "<style scoped>\n",
       "    .dataframe tbody tr th:only-of-type {\n",
       "        vertical-align: middle;\n",
       "    }\n",
       "\n",
       "    .dataframe tbody tr th {\n",
       "        vertical-align: top;\n",
       "    }\n",
       "\n",
       "    .dataframe thead th {\n",
       "        text-align: right;\n",
       "    }\n",
       "</style>\n",
       "<table border=\"1\" class=\"dataframe\">\n",
       "  <thead>\n",
       "    <tr style=\"text-align: right;\">\n",
       "      <th></th>\n",
       "      <th>distribution_1</th>\n",
       "      <th>distribution_2</th>\n",
       "      <th>distribution_3</th>\n",
       "      <th>distribution_4</th>\n",
       "      <th>distribution_5</th>\n",
       "      <th>distribution_6</th>\n",
       "      <th>distribution_7</th>\n",
       "    </tr>\n",
       "  </thead>\n",
       "  <tbody>\n",
       "    <tr>\n",
       "      <th>438</th>\n",
       "      <td>0</td>\n",
       "      <td>99.993386</td>\n",
       "      <td>4.913907</td>\n",
       "      <td>901</td>\n",
       "      <td>2</td>\n",
       "      <td>-35</td>\n",
       "      <td>0.327121</td>\n",
       "    </tr>\n",
       "    <tr>\n",
       "      <th>285</th>\n",
       "      <td>0</td>\n",
       "      <td>99.978233</td>\n",
       "      <td>3.741620</td>\n",
       "      <td>896</td>\n",
       "      <td>1</td>\n",
       "      <td>-34</td>\n",
       "      <td>1.647113</td>\n",
       "    </tr>\n",
       "    <tr>\n",
       "      <th>14</th>\n",
       "      <td>0</td>\n",
       "      <td>100.002671</td>\n",
       "      <td>3.687924</td>\n",
       "      <td>902</td>\n",
       "      <td>3</td>\n",
       "      <td>-33</td>\n",
       "      <td>0.453254</td>\n",
       "    </tr>\n",
       "    <tr>\n",
       "      <th>729</th>\n",
       "      <td>0</td>\n",
       "      <td>100.023220</td>\n",
       "      <td>2.597519</td>\n",
       "      <td>902</td>\n",
       "      <td>2</td>\n",
       "      <td>-38</td>\n",
       "      <td>2.137052</td>\n",
       "    </tr>\n",
       "    <tr>\n",
       "      <th>315</th>\n",
       "      <td>0</td>\n",
       "      <td>100.004662</td>\n",
       "      <td>2.323494</td>\n",
       "      <td>892</td>\n",
       "      <td>1</td>\n",
       "      <td>-34</td>\n",
       "      <td>0.454178</td>\n",
       "    </tr>\n",
       "  </tbody>\n",
       "</table>\n",
       "</div>"
      ],
      "text/plain": [
       "     distribution_1  distribution_2  distribution_3  distribution_4  \\\n",
       "438               0       99.993386        4.913907             901   \n",
       "285               0       99.978233        3.741620             896   \n",
       "14                0      100.002671        3.687924             902   \n",
       "729               0      100.023220        2.597519             902   \n",
       "315               0      100.004662        2.323494             892   \n",
       "\n",
       "     distribution_5  distribution_6  distribution_7  \n",
       "438               2             -35        0.327121  \n",
       "285               1             -34        1.647113  \n",
       "14                3             -33        0.453254  \n",
       "729               2             -38        2.137052  \n",
       "315               1             -34        0.454178  "
      ]
     },
     "execution_count": 28,
     "metadata": {},
     "output_type": "execute_result"
    }
   ],
   "source": [
    "distributions.sample(5)"
   ]
  },
  {
   "cell_type": "code",
   "execution_count": 29,
   "id": "2aba7622",
   "metadata": {},
   "outputs": [
    {
     "name": "stdout",
     "output_type": "stream",
     "text": [
      "<class 'pandas.core.frame.DataFrame'>\n",
      "RangeIndex: 1000 entries, 0 to 999\n",
      "Data columns (total 7 columns):\n",
      " #   Column          Non-Null Count  Dtype  \n",
      "---  ------          --------------  -----  \n",
      " 0   distribution_1  1000 non-null   int64  \n",
      " 1   distribution_2  1000 non-null   float64\n",
      " 2   distribution_3  1000 non-null   float64\n",
      " 3   distribution_4  1000 non-null   int64  \n",
      " 4   distribution_5  1000 non-null   int64  \n",
      " 5   distribution_6  1000 non-null   int64  \n",
      " 6   distribution_7  1000 non-null   float64\n",
      "dtypes: float64(3), int64(4)\n",
      "memory usage: 54.8 KB\n"
     ]
    }
   ],
   "source": [
    "distributions.info()"
   ]
  },
  {
   "cell_type": "code",
   "execution_count": 30,
   "id": "bdcfceed",
   "metadata": {},
   "outputs": [
    {
     "name": "stdout",
     "output_type": "stream",
     "text": [
      "distribution_1\n"
     ]
    },
    {
     "data": {
      "image/png": "[encoded data removed]",
      "text/plain": [
       "<Figure size 600x500 with 1 Axes>"
      ]
     },
     "metadata": {},
     "output_type": "display_data"
    },
    {
     "name": "stdout",
     "output_type": "stream",
     "text": [
      "distribution_2\n"
     ]
    },
    {
     "data": {
      "image/png": "[encoded data removed]",
      "text/plain": [
       "<Figure size 600x500 with 1 Axes>"
      ]
     },
     "metadata": {},
     "output_type": "display_data"
    },
    {
     "name": "stdout",
     "output_type": "stream",
     "text": [
      "distribution_3\n"
     ]
    },
    {
     "data": {
      "image/png": "[encoded data removed]",
      "text/plain": [
       "<Figure size 600x500 with 1 Axes>"
      ]
     },
     "metadata": {},
     "output_type": "display_data"
    },
    {
     "name": "stdout",
     "output_type": "stream",
     "text": [
      "distribution_4\n"
     ]
    },
    {
     "data": {
      "image/png": "[encoded data removed]",
      "text/plain": [
       "<Figure size 600x500 with 1 Axes>"
      ]
     },
     "metadata": {},
     "output_type": "display_data"
    },
    {
     "name": "stdout",
     "output_type": "stream",
     "text": [
      "distribution_5\n"
     ]
    },
    {
     "data": {
      "image/png": "[encoded data removed]",
      "text/plain": [
       "<Figure size 600x500 with 1 Axes>"
      ]
     },
     "metadata": {},
     "output_type": "display_data"
    },
    {
     "name": "stdout",
     "output_type": "stream",
     "text": [
      "distribution_6\n"
     ]
    },
    {
     "data": {
      "image/png": "[encoded data removed]",
      "text/plain": [
       "<Figure size 600x500 with 1 Axes>"
      ]
     },
     "metadata": {},
     "output_type": "display_data"
    },
    {
     "name": "stdout",
     "output_type": "stream",
     "text": [
      "distribution_7\n"
     ]
    },
    {
     "data": {
      "image/png": "[encoded data removed]",
      "text/plain": [
       "<Figure size 600x500 with 1 Axes>"
      ]
     },
     "metadata": {},
     "output_type": "display_data"
    }
   ],
   "source": [
    "for i in distributions.columns:\n",
    "    # if i == 'distribution_1': continue\n",
    "    di = distributions[i]\n",
    "    print(i)\n",
    "    plt.figure(figsize=(6, 5))\n",
    "    plt.title(i)\n",
    "    plt.hist(di)\n",
    "    plt.show()"
   ]
  },
  {
   "cell_type": "markdown",
   "id": "4558e57a",
   "metadata": {},
   "source": [
    "3. Each column of the `distributions` dataframe contains data drawn from a different distribution. **Associate each column to its probability distribution.** This is the list of the probability distributions used (one for each column):\n",
    "    - Bernoulli\n",
    "    - Binomial\n",
    "    - Continuous Uniform\n",
    "    - Gaussian\n",
    "    - Discrete Uniform\n",
    "    - Poisson\n",
    "    - Exponential (this was not explain in classroom, go by exclusion)"
   ]
  },
  {
   "cell_type": "code",
   "execution_count": 31,
   "id": "338e68cf",
   "metadata": {},
   "outputs": [],
   "source": [
    "# Bernoulli = distributions_1\n",
    "# Binomial = distributions_4\n",
    "# Continuous Uniform = distributions_3\n",
    "# Gaussian = distributions_2\n",
    "# Discrete Uniform = distributions_6\n",
    "# Poisson = istributions_5\n",
    "# Exponential = distributions_7"
   ]
  },
  {
   "cell_type": "code",
   "execution_count": null,
   "id": "8292ad55",
   "metadata": {},
   "outputs": [],
   "source": []
  },
  {
   "cell_type": "code",
   "execution_count": null,
   "id": "28ff0a8f-d276-47c9-9917-24422b540db3",
   "metadata": {},
   "outputs": [],
   "source": []
  },
  {
   "cell_type": "code",
   "execution_count": null,
   "id": "f80bbf90-ebe7-4888-9f4f-a186c0e8eab1",
   "metadata": {},
   "outputs": [],
   "source": []
  },
  {
   "cell_type": "code",
   "execution_count": null,
   "id": "6e25e8a0-ebab-4ac9-8d91-866660e2bf96",
   "metadata": {},
   "outputs": [],
   "source": []
  },
  {
   "cell_type": "code",
   "execution_count": null,
   "id": "b459d556-e86c-4b44-ab6e-22dcdaf41edc",
   "metadata": {},
   "outputs": [],
   "source": []
  }
 ],
 "metadata": {
  "kernelspec": {
   "display_name": "Python 3 (ipykernel)",
   "language": "python",
   "name": "python3"
  },
  "language_info": {
   "codemirror_mode": {
    "name": "ipython",
    "version": 3
   },
   "file_extension": ".py",
   "mimetype": "text/x-python",
   "name": "python",
   "nbconvert_exporter": "python",
   "pygments_lexer": "ipython3",
   "version": "3.10.13"
  }
 },
 "nbformat": 4,
 "nbformat_minor": 5
}
