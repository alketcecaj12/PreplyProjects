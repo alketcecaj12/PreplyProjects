{
 "cells": [
  {
   "cell_type": "markdown",
   "id": "9d17a8dd-b145-4cef-aa31-8e1b0b2a5d13",
   "metadata": {},
   "source": [
    "# AB Test Case Study"
   ]
  },
  {
   "cell_type": "markdown",
   "id": "c1ea4b50-4545-4271-840b-187a4b464bed",
   "metadata": {},
   "source": [
    "### Homework"
   ]
  },
  {
   "cell_type": "markdown",
   "id": "04f7e232-fd68-47a1-9a64-cf798e694be1",
   "metadata": {},
   "source": [
    "Before you begin, remember to import the necessary libraries."
   ]
  },
  {
   "cell_type": "code",
   "execution_count": 19,
   "id": "adc6ceaa-c8cc-42b3-b9bf-6a45c3cc7a2e",
   "metadata": {},
   "outputs": [],
   "source": [
    "import pandas as pd\n",
    "import numpy as np\n",
    "from scipy import stats\n",
    "\n",
    "import matplotlib.pyplot as plt\n",
    "import seaborn as sns\n",
    "sns.set_theme()"
   ]
  },
  {
   "cell_type": "markdown",
   "id": "afc95414-f92a-4d41-98e9-ddc16fce501c",
   "metadata": {},
   "source": [
    "The Marketing and Product teams are studying a new bundle-offer that they want to test in the checkout funnel of the e-commerce platform. In particular, once the user adds something to the cart, they will see an additional screen showing a special offer on a related product if they add it to the cart and purchase them together. \n",
    "\n",
    "To be sure that this is a good idea, they conducted an AB test and, after the fact, they call you in to analyse the results, to verify whether the increased conversion rate is statistically significant. \n",
    "\n",
    "1. The test results are in the `data/ab-test-homework.csv` csv file. Import them, familiarise yourself with the data and perform a permutation test to assess wether the treatment's higher conversion rate is statistically significant (note: control group = 'GRP A'; treatment group = 'GRP B'). \n",
    "2. Are you satisfied with the results? If you would have been consulted before the test, would you have done things differently?"
   ]
  },
  {
   "cell_type": "markdown",
   "id": "2beb47a6-466f-4c4a-918d-55c6347ed327",
   "metadata": {},
   "source": [
    "***"
   ]
  },
  {
   "cell_type": "code",
   "execution_count": 20,
   "id": "ab225ca0-8fe8-462e-8c83-a0a2df6c63e3",
   "metadata": {},
   "outputs": [
    {
     "data": {
      "text/html": [
       "<div>\n",
       "<style scoped>\n",
       "    .dataframe tbody tr th:only-of-type {\n",
       "        vertical-align: middle;\n",
       "    }\n",
       "\n",
       "    .dataframe tbody tr th {\n",
       "        vertical-align: top;\n",
       "    }\n",
       "\n",
       "    .dataframe thead th {\n",
       "        text-align: right;\n",
       "    }\n",
       "</style>\n",
       "<table border=\"1\" class=\"dataframe\">\n",
       "  <thead>\n",
       "    <tr style=\"text-align: right;\">\n",
       "      <th></th>\n",
       "      <th>idUser</th>\n",
       "      <th>dtPurchased</th>\n",
       "      <th>nmGroup</th>\n",
       "      <th>isConv</th>\n",
       "    </tr>\n",
       "  </thead>\n",
       "  <tbody>\n",
       "    <tr>\n",
       "      <th>5198</th>\n",
       "      <td>60091027</td>\n",
       "      <td>2017-10-02</td>\n",
       "      <td>GRP B</td>\n",
       "      <td>0</td>\n",
       "    </tr>\n",
       "    <tr>\n",
       "      <th>1705</th>\n",
       "      <td>17538793</td>\n",
       "      <td>2017-03-14</td>\n",
       "      <td>GRP A</td>\n",
       "      <td>0</td>\n",
       "    </tr>\n",
       "    <tr>\n",
       "      <th>368</th>\n",
       "      <td>75180339</td>\n",
       "      <td>2017-04-26</td>\n",
       "      <td>GRP A</td>\n",
       "      <td>1</td>\n",
       "    </tr>\n",
       "    <tr>\n",
       "      <th>1062</th>\n",
       "      <td>58094131</td>\n",
       "      <td>2017-04-23</td>\n",
       "      <td>GRP A</td>\n",
       "      <td>0</td>\n",
       "    </tr>\n",
       "    <tr>\n",
       "      <th>3070</th>\n",
       "      <td>76253764</td>\n",
       "      <td>2017-03-03</td>\n",
       "      <td>GRP B</td>\n",
       "      <td>0</td>\n",
       "    </tr>\n",
       "    <tr>\n",
       "      <th>2132</th>\n",
       "      <td>11785259</td>\n",
       "      <td>2017-05-29</td>\n",
       "      <td>GRP A</td>\n",
       "      <td>0</td>\n",
       "    </tr>\n",
       "    <tr>\n",
       "      <th>1803</th>\n",
       "      <td>68088927</td>\n",
       "      <td>2017-03-16</td>\n",
       "      <td>GRP A</td>\n",
       "      <td>1</td>\n",
       "    </tr>\n",
       "    <tr>\n",
       "      <th>1566</th>\n",
       "      <td>64967316</td>\n",
       "      <td>2017-12-14</td>\n",
       "      <td>GRP A</td>\n",
       "      <td>0</td>\n",
       "    </tr>\n",
       "    <tr>\n",
       "      <th>2695</th>\n",
       "      <td>32356826</td>\n",
       "      <td>2017-09-23</td>\n",
       "      <td>GRP A</td>\n",
       "      <td>0</td>\n",
       "    </tr>\n",
       "    <tr>\n",
       "      <th>5967</th>\n",
       "      <td>52539873</td>\n",
       "      <td>2017-09-14</td>\n",
       "      <td>GRP B</td>\n",
       "      <td>0</td>\n",
       "    </tr>\n",
       "  </tbody>\n",
       "</table>\n",
       "</div>"
      ],
      "text/plain": [
       "        idUser dtPurchased nmGroup  isConv\n",
       "5198  60091027  2017-10-02   GRP B       0\n",
       "1705  17538793  2017-03-14   GRP A       0\n",
       "368   75180339  2017-04-26   GRP A       1\n",
       "1062  58094131  2017-04-23   GRP A       0\n",
       "3070  76253764  2017-03-03   GRP B       0\n",
       "2132  11785259  2017-05-29   GRP A       0\n",
       "1803  68088927  2017-03-16   GRP A       1\n",
       "1566  64967316  2017-12-14   GRP A       0\n",
       "2695  32356826  2017-09-23   GRP A       0\n",
       "5967  52539873  2017-09-14   GRP B       0"
      ]
     },
     "execution_count": 20,
     "metadata": {},
     "output_type": "execute_result"
    }
   ],
   "source": [
    "df = pd.read_csv('data/ab-test-homework.csv')\n",
    "df.sample(10)"
   ]
  },
  {
   "cell_type": "code",
   "execution_count": 21,
   "id": "dd7396fa",
   "metadata": {},
   "outputs": [
    {
     "name": "stdout",
     "output_type": "stream",
     "text": [
      "<class 'pandas.core.frame.DataFrame'>\n",
      "RangeIndex: 6177 entries, 0 to 6176\n",
      "Data columns (total 4 columns):\n",
      " #   Column       Non-Null Count  Dtype \n",
      "---  ------       --------------  ----- \n",
      " 0   idUser       6177 non-null   int64 \n",
      " 1   dtPurchased  6177 non-null   object\n",
      " 2   nmGroup      6177 non-null   object\n",
      " 3   isConv       6177 non-null   int64 \n",
      "dtypes: int64(2), object(2)\n",
      "memory usage: 193.2+ KB\n"
     ]
    }
   ],
   "source": [
    "df.info()"
   ]
  },
  {
   "cell_type": "code",
   "execution_count": 22,
   "id": "485addab",
   "metadata": {},
   "outputs": [
    {
     "name": "stdout",
     "output_type": "stream",
     "text": [
      "<class 'pandas.core.frame.DataFrame'>\n",
      "RangeIndex: 6177 entries, 0 to 6176\n",
      "Data columns (total 4 columns):\n",
      " #   Column       Non-Null Count  Dtype         \n",
      "---  ------       --------------  -----         \n",
      " 0   idUser       6177 non-null   int64         \n",
      " 1   dtPurchased  6177 non-null   datetime64[ns]\n",
      " 2   nmGroup      6177 non-null   object        \n",
      " 3   isConv       6177 non-null   int64         \n",
      "dtypes: datetime64[ns](1), int64(2), object(1)\n",
      "memory usage: 193.2+ KB\n"
     ]
    }
   ],
   "source": [
    "df['dtPurchased'] = pd.to_datetime(df['dtPurchased'])\n",
    "df.info()"
   ]
  },
  {
   "cell_type": "code",
   "execution_count": 23,
   "id": "76036129",
   "metadata": {},
   "outputs": [
    {
     "data": {
      "text/html": [
       "<div>\n",
       "<style scoped>\n",
       "    .dataframe tbody tr th:only-of-type {\n",
       "        vertical-align: middle;\n",
       "    }\n",
       "\n",
       "    .dataframe tbody tr th {\n",
       "        vertical-align: top;\n",
       "    }\n",
       "\n",
       "    .dataframe thead th {\n",
       "        text-align: right;\n",
       "    }\n",
       "</style>\n",
       "<table border=\"1\" class=\"dataframe\">\n",
       "  <thead>\n",
       "    <tr style=\"text-align: right;\">\n",
       "      <th></th>\n",
       "      <th>idUser</th>\n",
       "      <th>dtPurchased</th>\n",
       "      <th>nmGroup</th>\n",
       "      <th>isConv</th>\n",
       "    </tr>\n",
       "  </thead>\n",
       "  <tbody>\n",
       "    <tr>\n",
       "      <th>713</th>\n",
       "      <td>37444470</td>\n",
       "      <td>2017-09-16</td>\n",
       "      <td>GRP A</td>\n",
       "      <td>0</td>\n",
       "    </tr>\n",
       "    <tr>\n",
       "      <th>1911</th>\n",
       "      <td>21102250</td>\n",
       "      <td>2017-06-04</td>\n",
       "      <td>GRP A</td>\n",
       "      <td>0</td>\n",
       "    </tr>\n",
       "    <tr>\n",
       "      <th>540</th>\n",
       "      <td>89217852</td>\n",
       "      <td>2017-12-09</td>\n",
       "      <td>GRP A</td>\n",
       "      <td>1</td>\n",
       "    </tr>\n",
       "    <tr>\n",
       "      <th>4464</th>\n",
       "      <td>40083177</td>\n",
       "      <td>2017-05-03</td>\n",
       "      <td>GRP B</td>\n",
       "      <td>1</td>\n",
       "    </tr>\n",
       "    <tr>\n",
       "      <th>6141</th>\n",
       "      <td>52142418</td>\n",
       "      <td>2017-12-23</td>\n",
       "      <td>GRP B</td>\n",
       "      <td>0</td>\n",
       "    </tr>\n",
       "  </tbody>\n",
       "</table>\n",
       "</div>"
      ],
      "text/plain": [
       "        idUser dtPurchased nmGroup  isConv\n",
       "713   37444470  2017-09-16   GRP A       0\n",
       "1911  21102250  2017-06-04   GRP A       0\n",
       "540   89217852  2017-12-09   GRP A       1\n",
       "4464  40083177  2017-05-03   GRP B       1\n",
       "6141  52142418  2017-12-23   GRP B       0"
      ]
     },
     "execution_count": 23,
     "metadata": {},
     "output_type": "execute_result"
    }
   ],
   "source": [
    "df.sample(5)"
   ]
  },
  {
   "cell_type": "code",
   "execution_count": 24,
   "id": "5224f49c",
   "metadata": {},
   "outputs": [],
   "source": [
    "# 1. The test results are in the `data/ab-test-homework.csv` csv file. \n",
    "# Import them, familiarise yourself with the data and perform a permutation test to assess wether the treatment's higher conversion rate is statistically significant \n",
    "# (note: control group = 'GRP A'; treatment group = 'GRP B'). "
   ]
  },
  {
   "cell_type": "code",
   "execution_count": 25,
   "id": "bd91ea0a",
   "metadata": {},
   "outputs": [
    {
     "data": {
      "text/plain": [
       "nmGroup\n",
       "GRP A    0.267745\n",
       "GRP B    0.290661\n",
       "Name: isConv, dtype: float64"
      ]
     },
     "execution_count": 25,
     "metadata": {},
     "output_type": "execute_result"
    }
   ],
   "source": [
    "df.groupby('nmGroup')['isConv'].mean()"
   ]
  },
  {
   "cell_type": "code",
   "execution_count": 26,
   "id": "137cb222",
   "metadata": {},
   "outputs": [
    {
     "data": {
      "text/plain": [
       "array([0, 0, 0, ..., 0, 0, 0], dtype=int64)"
      ]
     },
     "execution_count": 26,
     "metadata": {},
     "output_type": "execute_result"
    }
   ],
   "source": [
    "control_group = df[df['nmGroup']=='GRP A']['isConv'].values\n",
    "control_group"
   ]
  },
  {
   "cell_type": "code",
   "execution_count": 27,
   "id": "9633208b",
   "metadata": {},
   "outputs": [
    {
     "data": {
      "text/plain": [
       "array([1, 0, 0, ..., 0, 0, 0], dtype=int64)"
      ]
     },
     "execution_count": 27,
     "metadata": {},
     "output_type": "execute_result"
    }
   ],
   "source": [
    "treatment_group = df[df['nmGroup']=='GRP B']['isConv'].values\n",
    "treatment_group"
   ]
  },
  {
   "cell_type": "code",
   "execution_count": 28,
   "id": "03cfd9df",
   "metadata": {},
   "outputs": [
    {
     "data": {
      "text/plain": [
       "0.022915606569783087"
      ]
     },
     "execution_count": 28,
     "metadata": {},
     "output_type": "execute_result"
    }
   ],
   "source": [
    "difference_mean = np.mean(treatment_group) - np.mean(control_group)\n",
    "difference_mean"
   ]
  },
  {
   "cell_type": "code",
   "execution_count": 33,
   "id": "da438fed",
   "metadata": {},
   "outputs": [],
   "source": [
    "n = 1000\n",
    "# np.random.seed(1)\n",
    "\n",
    "mu_diff_samples = []\n",
    "for i in range(n): \n",
    "    # extract a subsample of 50% of data without replacement\n",
    "    df_sample1 = df.sample(frac=0.5, replace=False)\n",
    "    # use set() to get indexes of rows that were not extracted from df in previous step\n",
    "    ix2 = set(df.index) - set(df_sample1.index)\n",
    "    # create dataframe with other 50% of data\n",
    "    df_sample2 = df.iloc[list(ix2)]\n",
    "    # calculate difference in mean from each sample\n",
    "    mu_diff_temp = np.mean(df_sample1['isConv']) - np.mean(df_sample2['isConv'])\n",
    "    # append sampled mean difference to mu_diff_samples list\n",
    "    mu_diff_samples.append(mu_diff_temp)"
   ]
  },
  {
   "cell_type": "code",
   "execution_count": 30,
   "id": "3d6544df",
   "metadata": {},
   "outputs": [
    {
     "data": {
      "text/plain": [
       "(6177, 4)"
      ]
     },
     "execution_count": 30,
     "metadata": {},
     "output_type": "execute_result"
    }
   ],
   "source": [
    "df.shape"
   ]
  },
  {
   "cell_type": "code",
   "execution_count": null,
   "id": "6f93db8d",
   "metadata": {},
   "outputs": [],
   "source": []
  },
  {
   "cell_type": "code",
   "execution_count": null,
   "id": "ecafacae",
   "metadata": {},
   "outputs": [],
   "source": []
  },
  {
   "cell_type": "code",
   "execution_count": null,
   "id": "a1036cb6",
   "metadata": {},
   "outputs": [],
   "source": []
  }
 ],
 "metadata": {
  "kernelspec": {
   "display_name": "Python 3 (ipykernel)",
   "language": "python",
   "name": "python3"
  },
  "language_info": {
   "codemirror_mode": {
    "name": "ipython",
    "version": 3
   },
   "file_extension": ".py",
   "mimetype": "text/x-python",
   "name": "python",
   "nbconvert_exporter": "python",
   "pygments_lexer": "ipython3",
   "version": "3.11.5"
  }
 },
 "nbformat": 4,
 "nbformat_minor": 5
}
