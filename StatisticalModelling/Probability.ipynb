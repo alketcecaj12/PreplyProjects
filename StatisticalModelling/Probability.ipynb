{
 "cells": [
  {
   "cell_type": "markdown",
   "id": "31c7f09f",
   "metadata": {},
   "source": [
    "### Measuring chance\n",
    "- We can measure the chances of an event using probability. We can calculate the probability of some event by taking the number of ways the event can happen and dividing it by the total number of possible outcomes. For example, if we flip a coin, it can land on either heads or tails. To get the probability of the coin landing on heads, we divide the 1 way to get heads by the two possible outcomes, heads and tails. This gives us one half, or a fifty percent chance of getting heads. Probability is always between zero and 100 percent. If the probability of something is zero, it's impossible, and if the probability of something is 100%, it will certainly happen."
   ]
  },
  {
   "cell_type": "markdown",
   "id": "19d24541",
   "metadata": {},
   "source": [
    "### Some code about evaluating probabilities"
   ]
  },
  {
   "cell_type": "markdown",
   "id": "ec896b9e",
   "metadata": {},
   "source": [
    "- You're in charge of the sales team, and it's time for performance reviews, starting with Amir. As part of the review, you want to randomly select a few of the deals that he's worked on over the past year so that you can look at them more deeply. Before you start selecting deals, you'll first figure out what the chances are of selecting certain deals."
   ]
  },
  {
   "cell_type": "code",
   "execution_count": 18,
   "id": "56b6d726",
   "metadata": {},
   "outputs": [
    {
     "name": "stdout",
     "output_type": "stream",
     "text": [
      "Product B    62\n",
      "Product D    40\n",
      "Product A    23\n",
      "Product C    15\n",
      "Product F    11\n",
      "Product H     8\n",
      "Product I     7\n",
      "Product E     5\n",
      "Product N     3\n",
      "Product G     2\n",
      "Product J     2\n",
      "Name: product, dtype: int64\n"
     ]
    }
   ],
   "source": [
    "import pandas as pd\n",
    "import numpy as np\n",
    "import matplotlib.pyplot as plt\n",
    "\n",
    "amir_deals = pd.read_csv('data/amir_deals.csv')\n",
    "# Count the deals for each product\n",
    "counts = amir_deals['product'].value_counts()\n",
    "print(counts)"
   ]
  },
  {
   "cell_type": "markdown",
   "id": "a4e108ec",
   "metadata": {},
   "source": [
    "- Calculate the probability of selecting a deal for the different product types by dividing the counts by the total number of deals Amir worked on. Save this as probs"
   ]
  },
  {
   "cell_type": "code",
   "execution_count": 19,
   "id": "785fed6d",
   "metadata": {},
   "outputs": [
    {
     "name": "stdout",
     "output_type": "stream",
     "text": [
      "Product B    0.348315\n",
      "Product D    0.224719\n",
      "Product A    0.129213\n",
      "Product C    0.084270\n",
      "Product F    0.061798\n",
      "Product H    0.044944\n",
      "Product I    0.039326\n",
      "Product E    0.028090\n",
      "Product N    0.016854\n",
      "Product G    0.011236\n",
      "Product J    0.011236\n",
      "Name: product, dtype: float64\n"
     ]
    }
   ],
   "source": [
    "# Calculate probability of picking a deal with each product\n",
    "probs = counts / amir_deals.shape[0]\n",
    "print(probs)"
   ]
  },
  {
   "cell_type": "markdown",
   "id": "27ea9683",
   "metadata": {},
   "source": [
    "#### Sampling deals\n",
    "\n",
    "- In the previous exercise, you counted the deals Amir worked on. Now it's time to randomly pick five deals so that you can reach out to each customer and ask if they were satisfied with the service they received. You'll try doing this both with and without replacement.\n",
    "\n",
    "\n",
    "- Additionally, you want to make sure this is done randomly and that it can be reproduced in case you get asked how you chose the deals, so you'll need to set the random seed before sampling from the deals."
   ]
  },
  {
   "cell_type": "code",
   "execution_count": 20,
   "id": "a5ca0e56",
   "metadata": {},
   "outputs": [
    {
     "name": "stdout",
     "output_type": "stream",
     "text": [
      "     Unnamed: 0    product   client status   amount  num_users\n",
      "127         128  Product B  Current    Won  2070.25          7\n",
      "148         149  Product D  Current    Won  3485.48         52\n",
      "77           78  Product B  Current    Won  6252.30         27\n",
      "104         105  Product D  Current    Won  4110.98         39\n",
      "166         167  Product C      New   Lost  3779.86         11\n"
     ]
    }
   ],
   "source": [
    "# Set random seed\n",
    "np.random.seed(24)\n",
    "\n",
    "# Sample 5 deals without replacement\n",
    "sample_without_replacement = amir_deals.sample(5)\n",
    "print(sample_without_replacement)"
   ]
  },
  {
   "cell_type": "code",
   "execution_count": 21,
   "id": "12a00123",
   "metadata": {},
   "outputs": [
    {
     "name": "stdout",
     "output_type": "stream",
     "text": [
      "     Unnamed: 0    product   client status   amount  num_users\n",
      "162         163  Product D  Current    Won  6755.66         59\n",
      "131         132  Product B  Current    Won  6872.29         25\n",
      "87           88  Product C  Current    Won  3579.63          3\n",
      "145         146  Product A  Current    Won  4682.94         63\n",
      "145         146  Product A  Current    Won  4682.94         63\n"
     ]
    }
   ],
   "source": [
    "# Set random seed\n",
    "np.random.seed(24)\n",
    "\n",
    "# Sample 5 deals with replacement\n",
    "sample_with_replacement = amir_deals.sample(5, replace=True)\n",
    "print(sample_with_replacement)"
   ]
  },
  {
   "cell_type": "markdown",
   "id": "f44559ec",
   "metadata": {},
   "source": [
    "### Discrete distributions and probability distributions.\n",
    "\n",
    "- Rolling the dice, there are six numbers, or six possible outcomes, and every number has one sixth,\n",
    "  or about a 17 percent chance of being rolled. This is an example of a probability distribution.\n",
    "\n",
    "\n",
    "- Choosing salespeople is similar to rolling a dice, except we had names instead of numbers. Just \n",
    "  like rolling a die, each outcome, or name, had an equal chance of being chosen.\n",
    "\n",
    "\n",
    "- A probability distribution describes the probability of each possible outcome in a scenario. \n",
    "   We can also talk about the expected value of a distribution, which is the mean of a distribution.\n",
    "   We can calculate this by multiplying each value by its probability (one sixth in this case) \n",
    "   and summing, so the expected value of rolling a fair die is 3-point-5.\n",
    "\n",
    "\n",
    "- We can visualize a probability distribution by using a barplot, where each bar represents an\n",
    "  outcome, and each bar's height represents the probability of that outcome.\n",
    "\n",
    "\n",
    "- We can calculate probabilities of different outcomes by taking areas of the probability \n",
    "   distribution. For example, what's the probability that our die roll is less than or equal to 2? \n",
    "   To figure this out, we'll take the area of each bar representing an outcome of 2 or less.\n",
    "   Each bar has a width of 1 and a height of one sixth, so the area of each bar is one sixth. \n",
    "   We'll sum the areas for 1 and 2, to get a total probability of one third.\n",
    "\n",
    "\n",
    "- Uneven die. Now let's say we have a die where the two got turned into a three. This means that we\n",
    "  now have a 0% chance of getting a 2, and a 33% chance of getting a 3. To calculate the expected \n",
    "  value of this die, we now multiply 2 by 0, since it's impossible to get a 2, and 3 by its new \n",
    "  probability, one third. This gives us an expected value that's slightly higher than the fair die.\n",
    "\n",
    "\n",
    "- When Visualizing uneven probabilities the bars are no longer even.With this die, what's the \n",
    "  probability of getting something less than or equal to 2? There's a one sixth probability of \n",
    "    getting 1, and zero probability of getting 2,\n",
    "\n",
    "\n",
    "- Discrete probability distributions\n",
    "  The probability distributions you've seen so far are both discrete probability distributions, since\n",
    "  they represent situations with discrete outcomes. Recall from chapter 1 that discrete variables can \n",
    "   be thought of as counted variables. In the case of a die, we're counting dots, so we can't roll \n",
    "  a 1-point-5 or 4-point-3. When all outcomes have the same probability, like a fair die, this \n",
    "  is a special distribution called a discrete uniform distribution.\n",
    "\n",
    "\n",
    "- Sampling from discrete distributions\n",
    "  Just like we sampled names from a box, we can do the same thing with probability distributions like \n",
    "  the ones we've seen. Here's a DataFrame called die that represents a fair die, and its expected     value is 3-point-5. We'll sample from it 10 times to simulate 10 rolls. Notice that we sample with\n",
    "replacement so that we're sampling from the same distribution every time.\n",
    "\n",
    "\n",
    "- Visualizing a sample\n",
    "  We can visualize the outcomes of the ten rolls using a histogram, defining the bins we want using\n",
    "  np-dot-linspace.\n",
    "\n",
    "\n",
    "-  Sample distribution vs. theoretical distribution\n",
    "  Notice that we have different numbers of 1's, 2's, 3's, and so on since the sample was random, even   though on each roll we had the same probability of rolling each number. The mean of our sample is   3-point-0, which isn't super close to the 3-point-5 we were expecting.\n",
    "\n",
    "\n",
    "- A bigger sample\n",
    "  If we roll the die 100 times, the distribution of the rolls looks a bit more even, and the mean is   closer to 3-point-5.\n",
    "\n",
    "\n",
    "-  An even bigger sample\n",
    "  If we roll 1000 times, it looks even more like the theoretical probability distribution and the   mean closely matches 3-point-5.\n",
    "\n",
    "\n",
    "-  Law of large numbers\n",
    "   This is called the law of large numbers, which is the idea that as the size of your sample   increases, the sample mean will approach the theoretical mean."
   ]
  },
  {
   "cell_type": "markdown",
   "id": "2b1f34a7",
   "metadata": {},
   "source": [
    "### Creating a probability distribution\n",
    "\n",
    "- A new restaurant opened a few months ago, and the restaurant's management wants to optimize its seating space based on the size of the groups that come most often. On one night, there are 10 groups of people waiting to be seated at the restaurant, but instead of being called in the order they arrived, they will be called randomly. In this exercise, you'll investigate the probability of groups of different sizes getting picked first. Data on each of the ten groups is contained in the restaurant_groups DataFrame.\n",
    "\n",
    "\n",
    "- Remember that expected value can be calculated by multiplying each possible outcome with its corresponding probability and taking the sum."
   ]
  },
  {
   "cell_type": "code",
   "execution_count": 22,
   "id": "a5d361ee",
   "metadata": {},
   "outputs": [],
   "source": [
    "restaurant_groups = pd.DataFrame({\"group_id\": ['A', 'B', 'C', 'D', 'E', 'F', 'G', 'H', 'I', 'J'], \n",
    "                                  'group_size': [2, 4, 6, 2, 2, 2, 3, 2, 4, 2]})"
   ]
  },
  {
   "cell_type": "code",
   "execution_count": 23,
   "id": "786dc8cf",
   "metadata": {},
   "outputs": [
    {
     "data": {
      "image/png": "[encoded data removed]",
      "text/plain": [
       "<Figure size 432x288 with 1 Axes>"
      ]
     },
     "metadata": {
      "needs_background": "light"
     },
     "output_type": "display_data"
    },
    {
     "name": "stdout",
     "output_type": "stream",
     "text": [
      "  group_id  group_size\n",
      "0        A           2\n",
      "1        B           4\n",
      "2        C           6\n",
      "3        D           2\n",
      "4        E           2\n",
      "5        F           2\n",
      "6        G           3\n",
      "7        H           2\n",
      "8        I           4\n",
      "9        J           2\n"
     ]
    }
   ],
   "source": [
    "# Create a histogram of restaurant_groups and show plot\n",
    "restaurant_groups['group_size'].hist(bins=np.linspace(2,6,5))\n",
    "plt.show()\n",
    "\n",
    "print(restaurant_groups)"
   ]
  },
  {
   "cell_type": "markdown",
   "id": "9c8abd11",
   "metadata": {},
   "source": [
    "- Count the number of each group_size in restaurant_groups, then divide by the number of rows in \n",
    "restaurant_groups to calculate the probability of randomly selecting a group of each size. \n",
    "Save as size_dist.\n",
    "Reset the index of size_dist.\n",
    "Rename the columns of size_dist to group_size and prob."
   ]
  },
  {
   "cell_type": "code",
   "execution_count": 26,
   "id": "5d470dc2",
   "metadata": {},
   "outputs": [
    {
     "name": "stdout",
     "output_type": "stream",
     "text": [
      "   group_size  prob\n",
      "0           2   0.6\n",
      "1           4   0.2\n",
      "2           6   0.1\n",
      "3           3   0.1\n"
     ]
    }
   ],
   "source": [
    "# Create probability distribution\n",
    "size_dist = restaurant_groups['group_size'].value_counts() / restaurant_groups.shape[0]\n",
    "\n",
    "# Reset index and rename columns\n",
    "size_dist = size_dist.reset_index()\n",
    "size_dist.columns = ['group_size', 'prob']\n",
    "\n",
    "print(size_dist)"
   ]
  },
  {
   "cell_type": "markdown",
   "id": "a7a09c88",
   "metadata": {},
   "source": [
    "- Calculate the expected value of the size_distribution, which represents the expected group size, by multiplying the group_size by the prob and taking the sum"
   ]
  },
  {
   "cell_type": "code",
   "execution_count": 27,
   "id": "965b83da",
   "metadata": {},
   "outputs": [
    {
     "name": "stdout",
     "output_type": "stream",
     "text": [
      "2.9000000000000004\n"
     ]
    }
   ],
   "source": [
    "# Expected value\n",
    "expected_value = np.sum(size_dist['group_size'] * size_dist['prob'])\n",
    "print(expected_value)"
   ]
  },
  {
   "cell_type": "markdown",
   "id": "18332045",
   "metadata": {},
   "source": [
    "- Calculate the probability of randomly picking a group of 4 or more people by subsetting for groups of size 4 or more and summing the probabilities of selecting those groups."
   ]
  },
  {
   "cell_type": "code",
   "execution_count": 30,
   "id": "0e603eed",
   "metadata": {},
   "outputs": [
    {
     "name": "stdout",
     "output_type": "stream",
     "text": [
      "0.30000000000000004\n"
     ]
    }
   ],
   "source": [
    "# Subset groups of size 4 or more\n",
    "groups_4_or_more = size_dist[size_dist['group_size'] >= 4]\n",
    "\n",
    "# Sum the probabilities of groups_4_or_more\n",
    "prob_4_or_more = np.sum(groups_4_or_more['prob'])\n",
    "print(prob_4_or_more)"
   ]
  },
  {
   "cell_type": "markdown",
   "id": "a2d7872b",
   "metadata": {},
   "source": [
    "### Continuous distributions\n",
    "##### We can use discrete distributions to model situations that involve discrete or countable variables,but how can we model continuous variables?\n",
    "\n",
    "- Waiting for the bus\n",
    "Let's start with an example. The city bus arrives once every twelve minutes, so if you show up at a \n",
    "random time, you could wait anywhere from 0 minutes if you just arrive as the bus pulls in, \n",
    "up to 12 minutes if you arrive just as the bus leaves.\n",
    "\n",
    "- Continuous uniform distribution\n",
    "Let's model this scenario with a probability distribution. There are an infinite number of minutes we\n",
    "could wait since we could wait 1 minute, 1-point-5 minutes, 1-point-53 minutes, and so on, so we \n",
    "can't create individual blocks like we could with a discrete variable.\n",
    "Instead, we'll use a continuous line to represent probability. The line is flat since there's the \n",
    "same probability of waiting any time from 0 to 12 minutes. This is called the continuous uniform \n",
    "distribution.\n",
    "\n",
    "<img src = cud.png>"
   ]
  },
  {
   "cell_type": "markdown",
   "id": "86f955c0",
   "metadata": {},
   "source": [
    "### Probability still = area\n",
    "\n",
    "- Now that we have our distribution, let's figure out what the probability is that we'll wait between\n",
    "  4 and 7 minutes. Just like with discrete distributions, we can take the area from 4 to 7 to \n",
    "    calculate probability.The width of this rectangle is 7 minus 4 which is 3. The height is one twelfth.\n",
    "\n",
    "Multiplying those together to get area, we get 3/12 or 25%.\n",
    "\n",
    "<img src = \"probBus.png\">\n"
   ]
  },
  {
   "cell_type": "markdown",
   "id": "91379e7e",
   "metadata": {},
   "source": [
    "- In the same way, let's use the uniform distribution in Python to calculate the probability of waiting 7 minutes or less. We need to import uniform from scipy-dot-stats. We can call uniform-dot-cdf and pass it 7, followed by the lower and upper limits, which in our case is 0 and 12. The probability of waiting less than 7 minutes is about 58%.\n",
    "\n",
    "\n",
    "- \"Greater than\" probabilities. If we want the probability of waiting more than 7 minutes, we need to take 1 minus the probability of waiting less than 7 minutes."
   ]
  },
  {
   "cell_type": "markdown",
   "id": "d0084d8b",
   "metadata": {},
   "source": [
    "### Data back-ups\n",
    "- The sales software used at your company is set to automatically back itself up, but no one knows exactly what time the back-ups happen. It is known, however, that back-ups happen exactly every 30 minutes. Amir comes back from sales meetings at random times to update the data on the client he just met with. He wants to know how long he'll have to wait for his newly-entered data to get backed up. Use your new knowledge of continuous uniform distributions to model this situation and answer Amir's questions.\n",
    "\n",
    "\n",
    "\n",
    "- To model how long Amir will wait for a back-up using a continuous uniform distribution, save his lowest possible wait time as min_time and his longest possible wait time as max_time. Remember that back-ups happen every 30 minutes.\n",
    "\n",
    "\n",
    "- Import uniform from scipy.stats and calculate the probability that Amir has to wait less than 5 minutes, and store in a variable called prob_less_than_5."
   ]
  },
  {
   "cell_type": "markdown",
   "id": "f470e0c3",
   "metadata": {},
   "source": [
    "- Calculate the probability that Amir has to wait more than 5 minutes, and store in a variable called prob_greater_than_5."
   ]
  },
  {
   "cell_type": "code",
   "execution_count": 34,
   "id": "0a8de0ed",
   "metadata": {},
   "outputs": [
    {
     "name": "stdout",
     "output_type": "stream",
     "text": [
      "0.16666666666666666\n",
      "0.8333333333333334\n"
     ]
    }
   ],
   "source": [
    "# Import uniform from scipy.stats\n",
    "from scipy.stats import uniform\n",
    "\n",
    "# Min and max wait times for back-up that happens every 30 min\n",
    "min_time = 0\n",
    "max_time = 30\n",
    "\n",
    "# Calculate probability of waiting less than 5 mins\n",
    "prob_less_than_5 = uniform.cdf(5, min_time, max_time)\n",
    "print(prob_less_than_5)\n",
    "\n",
    "# Calculate probability of waiting more than 5 mins\n",
    "prob_greater_than_5 = 1 - uniform.cdf(5, min_time, max_time)\n",
    "print(prob_greater_than_5)"
   ]
  },
  {
   "cell_type": "code",
   "execution_count": 35,
   "id": "b53701cd",
   "metadata": {},
   "outputs": [
    {
     "name": "stdout",
     "output_type": "stream",
     "text": [
      "0.3333333333333333\n"
     ]
    }
   ],
   "source": [
    "# Calculate probability of waiting 10-20 mins\n",
    "prob_between_10_and_20 = uniform.cdf(20, min_time, max_time) - uniform.cdf(10, min_time, max_time)\n",
    "print(prob_between_10_and_20)"
   ]
  },
  {
   "cell_type": "markdown",
   "id": "d03d27d7",
   "metadata": {},
   "source": [
    "### Simulating wait times\n",
    "To give Amir a better idea of how long he'll have to wait, you'll simulate Amir waiting 1000 times and create a histogram to show him what he should expect. Recall from the last exercise that his minimum wait time is 0 minutes and his maximum wait time is 30 minutes."
   ]
  },
  {
   "cell_type": "code",
   "execution_count": 37,
   "id": "3d092a43",
   "metadata": {},
   "outputs": [
    {
     "data": {
      "image/png": "[encoded data removed]",
      "text/plain": [
       "<Figure size 432x288 with 1 Axes>"
      ]
     },
     "metadata": {
      "needs_background": "light"
     },
     "output_type": "display_data"
    }
   ],
   "source": [
    "# Set random seed to 334\n",
    "np.random.seed(334)\n",
    "\n",
    "# Import uniform\n",
    "from scipy.stats import uniform\n",
    "\n",
    "# Generate 1000 wait times between 0 and 30 mins\n",
    "wait_times = uniform.rvs(0, 30, size=1000)\n",
    "\n",
    "# Create a histogram of simulated times and show plot\n",
    "plt.hist(wait_times)\n",
    "plt.show()"
   ]
  },
  {
   "cell_type": "code",
   "execution_count": null,
   "id": "49b66146",
   "metadata": {},
   "outputs": [],
   "source": []
  },
  {
   "cell_type": "markdown",
   "id": "4157970c",
   "metadata": {},
   "source": [
    "### The binomial distribution\n",
    "\n",
    "- Coin flipping. We'll start by flipping a coin, which has two possible outcomes, heads or tails, each with a probability of 50%.\n",
    "\n",
    "\n",
    "- Binary outcomes. This is just one example of a binary outcome, or an outcome with two possible values. We could also represent these outcomes as a 1 and a 0, a success or a failure, and a win or a loss.\n",
    "\n",
    "\n",
    "- A single flip. In Python, we can simulate this by importing binom from scipy-dot-stats and using the binom-dot-rvs function, which takes in the number of coins we want to flip, the probability of heads or success, and an argument called size, which is number of trials. size is a named argument, so we'll need to explicitly specify that the third argument corresponds to size, orwe'll get incorrect results. This call will return a 1, which we'll count as a head, or a 0, which we'll count as tails. We can use binom-dot-rvs 1, 0-point-5, size equals 1 to flip 1 coin, with a 50% probability of heads, 1 time.\n",
    "\n",
    "\n",
    "- One flip many times. To perform eight coin flips, we can change the size argument to 8, which will flip 1 coin with  a 50% chance of heads 8 times. This gives us a set of 8 ones and zeros.\n",
    "\n",
    "\n",
    "- Many flips one time. If we swap the first and last arguments, we flip eight coins one time. This gives us one number, which is the total number of heads or successes.\n",
    "\n",
    "\n",
    "- Many flips many times. Similarly, we can pass 3 as the first argument, and set size equal to 10 to flip 3 coins.This returns 10 numbers, each representing the total number of heads from each set of flips.\n",
    "\n",
    "\n",
    "- Other probabilities. We could also have a coin that's heavier on one side than the other, so the probability of getting heads is only 25%. To simulate flips with this coin, we'll adjust the second argument of binom-dot-rvs to 0-point-25. The result has lower numbers, since getting multiple heads isn't as likely with the new coin.\n",
    "\n",
    "\n",
    "- The binomial distribution describes the probability of the number of successes in a sequence of  independent trials. In other words, it can tell us the probability of getting some number of heads in a sequence of coin flips. Note that this is a discrete distribution since we're working with a countable outcome. The binomial distribution can be described using two parameters, n and p. n represents the total number of trials being performed, and p is the probability of success. n and p are also the third and second arguments of binom-dot-rvs. Here's what the distribution looks like for 10 coins. We have the biggest chance of getting 5 heads total, and a much smaller chance of getting 0 heads or 10 heads.\n",
    "\n",
    "\n",
    "- What's the probability of 7 heads? To get the probability of getting 7 heads out of 10 coins, we canuse binom-dot-pmf. The first argument is the number of heads or successes. The second argument is the number of trials, n, and the third is the probability of success, p. If we flip 10 coins, there's  about a 12% chance that exactly 7 of them will be heads.\n",
    "\n",
    "\n",
    "- What's the probability of 7 or fewer heads? binom-dot-cdf gives the probability of getting a number of successes less than or equal to the first argument. The probability of getting 7 or fewer heads out of 10 coins is about 95%.\n",
    "\n",
    "\n",
    "- What's the probability of more than 7 heads? We can take 1 minus the probability of getting 7 or fewer heads to get the probability of a number of successes greater than the first argument.\n",
    "\n",
    "\n",
    "- Expected value. The expected value of the binomial distribution can be calculated by multiplying n times p. The expected number of heads we'll get from flipping 10 coins is 10 times 0-point-5, which is 5.\n",
    "\n",
    "\n",
    "- Independence: It's important to remember that in order for the binomial distribution to apply, each trial must be  independent, so the outcome of one trial shouldn't have an effect on the next. For example, if we're  picking randomly from these cards with zeros and ones, we have a 50-50 chance of getting a 0 or a 1. But since we're sampling without replacement, the probabilities for the second trial are different due to the outcome of the first trial. Since these trials aren't independent, we can't calculate accurate probabilities for this situation using the binomial distribution."
   ]
  },
  {
   "cell_type": "markdown",
   "id": "c5c1ce5d",
   "metadata": {},
   "source": [
    "### Simulating sales deals\n",
    "- Assume that Amir usually works on 3 deals per week, and overall, he wins 30% of deals he works on. Each deal has a binary outcome: it's either lost, or won, so you can model his sales deals with a binomial distribution. In this exercise, you'll help Amir simulate a year's worth of his deals so he can better understand his performance."
   ]
  },
  {
   "cell_type": "code",
   "execution_count": 38,
   "id": "ede917f7",
   "metadata": {},
   "outputs": [
    {
     "name": "stdout",
     "output_type": "stream",
     "text": [
      "[1]\n"
     ]
    }
   ],
   "source": [
    "# Import binom from scipy.stats\n",
    "from scipy.stats import binom\n",
    "\n",
    "# Set random seed to 10\n",
    "np.random.seed(10)\n",
    "\n",
    "# Simulate a single deal\n",
    "print(binom.rvs(1, 0.3, size=1))"
   ]
  },
  {
   "cell_type": "markdown",
   "id": "a54e66f8",
   "metadata": {},
   "source": [
    "Simulate a year's worth of Amir's deals, or 52 weeks of 3 deals each, and store in deals.\n",
    "Print the mean number of deals he won per week."
   ]
  },
  {
   "cell_type": "code",
   "execution_count": 39,
   "id": "f0a6c7a6",
   "metadata": {},
   "outputs": [
    {
     "name": "stdout",
     "output_type": "stream",
     "text": [
      "0.8461538461538461\n"
     ]
    }
   ],
   "source": [
    "# Simulate 52 weeks of 3 deals\n",
    "deals = binom.rvs(3, 0.3, size=52)\n",
    "\n",
    "# Print mean deals won per week\n",
    "print(np.mean(deals))"
   ]
  },
  {
   "cell_type": "code",
   "execution_count": 40,
   "id": "568c343b",
   "metadata": {},
   "outputs": [
    {
     "name": "stdout",
     "output_type": "stream",
     "text": [
      "0.026999999999999996\n"
     ]
    }
   ],
   "source": [
    "# Probability of closing 3 out of 3 deals\n",
    "prob_3 = binom.pmf(3, 3, 0.3)\n",
    "\n",
    "print(prob_3)"
   ]
  },
  {
   "cell_type": "code",
   "execution_count": 41,
   "id": "c6ef0d7d",
   "metadata": {},
   "outputs": [
    {
     "name": "stdout",
     "output_type": "stream",
     "text": [
      "0.784\n"
     ]
    }
   ],
   "source": [
    "# Probability of closing <= 1 deal out of 3 deals\n",
    "prob_less_than_or_equal_1 = binom.cdf(1, 3, 0.3)\n",
    "\n",
    "print(prob_less_than_or_equal_1)"
   ]
  },
  {
   "cell_type": "code",
   "execution_count": 42,
   "id": "f18722ba",
   "metadata": {},
   "outputs": [
    {
     "name": "stdout",
     "output_type": "stream",
     "text": [
      "0.21599999999999997\n"
     ]
    }
   ],
   "source": [
    "# Probability of closing > 1 deal out of 3 deals\n",
    "prob_greater_than_1 = 1 - binom.cdf(1, 3, 0.3)\n",
    "\n",
    "print(prob_greater_than_1)"
   ]
  },
  {
   "cell_type": "markdown",
   "id": "63942a4c",
   "metadata": {},
   "source": [
    "### How many sales will be won?\n",
    "Now Amir wants to know how many deals he can expect to close each week if his win rate changes. Luckily, you can use your binomial distribution knowledge to help him calculate the expected value in different situations. Recall from the video that the expected value of a binomial distribution can be calculated by n * p."
   ]
  },
  {
   "cell_type": "code",
   "execution_count": 43,
   "id": "db649bcb",
   "metadata": {},
   "outputs": [
    {
     "name": "stdout",
     "output_type": "stream",
     "text": [
      "0.8999999999999999\n",
      "0.75\n",
      "1.0499999999999998\n"
     ]
    }
   ],
   "source": [
    "# Expected number won with 30% win rate\n",
    "won_30pct = 3 * 0.3\n",
    "print(won_30pct)\n",
    "\n",
    "# Expected number won with 25% win rate\n",
    "won_25pct = 3 * 0.25\n",
    "print(won_25pct)\n",
    "\n",
    "# Expected number won with 35% win rate\n",
    "won_35pct = 3 * 0.35\n",
    "print(won_35pct)"
   ]
  },
  {
   "cell_type": "code",
   "execution_count": null,
   "id": "421f022d",
   "metadata": {},
   "outputs": [],
   "source": []
  },
  {
   "cell_type": "code",
   "execution_count": null,
   "id": "5fa6b1b1",
   "metadata": {},
   "outputs": [],
   "source": []
  },
  {
   "cell_type": "code",
   "execution_count": null,
   "id": "039225c4",
   "metadata": {},
   "outputs": [],
   "source": []
  }
 ],
 "metadata": {
  "kernelspec": {
   "display_name": "Python 3",
   "language": "python",
   "name": "python3"
  },
  "language_info": {
   "codemirror_mode": {
    "name": "ipython",
    "version": 3
   },
   "file_extension": ".py",
   "mimetype": "text/x-python",
   "name": "python",
   "nbconvert_exporter": "python",
   "pygments_lexer": "ipython3",
   "version": "3.9.5"
  }
 },
 "nbformat": 4,
 "nbformat_minor": 5
}
