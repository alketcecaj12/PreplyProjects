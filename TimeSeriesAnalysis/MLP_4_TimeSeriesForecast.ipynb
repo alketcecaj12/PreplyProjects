{
 "cells": [
  {
   "cell_type": "markdown",
   "id": "ac5937c7",
   "metadata": {},
   "source": [
    "### Perform Forecasts with a Multilayer Perceptron Neural Network. "
   ]
  },
  {
   "cell_type": "code",
   "execution_count": 1,
   "id": "eb998523",
   "metadata": {},
   "outputs": [
    {
     "name": "stdout",
     "output_type": "stream",
     "text": [
      "Tensorflow Version :  2.15.0\n"
     ]
    }
   ],
   "source": [
    "import tensorflow \n",
    "print('Tensorflow Version : ', tensorflow.__version__)"
   ]
  },
  {
   "cell_type": "code",
   "execution_count": 2,
   "id": "c70d0998",
   "metadata": {},
   "outputs": [],
   "source": [
    "import pandas as pd\n",
    "import numpy as np\n",
    "import matplotlib.pyplot as plt\n",
    "\n",
    "from tensorflow.keras.models import Sequential\n",
    "from tensorflow.keras.layers import Dense\n",
    "from tensorflow.keras import metrics"
   ]
  },
  {
   "cell_type": "code",
   "execution_count": 3,
   "id": "7a791bc2",
   "metadata": {},
   "outputs": [
    {
     "ename": "AttributeError",
     "evalue": "'DataFrame' object has no attribute 'date'",
     "output_type": "error",
     "traceback": [
      "\u001b[0;31m---------------------------------------------------------------------------\u001b[0m",
      "\u001b[0;31mAttributeError\u001b[0m                            Traceback (most recent call last)",
      "\u001b[0;32m/var/folders/tt/zbxpsbdn7fd6_zbyqkfm28d40000gn/T/ipykernel_2534/2187184977.py\u001b[0m in \u001b[0;36m?\u001b[0;34m()\u001b[0m\n\u001b[1;32m      3\u001b[0m \u001b[0mtrs\u001b[0m\u001b[0;34m[\u001b[0m\u001b[0;34m'date'\u001b[0m\u001b[0;34m]\u001b[0m \u001b[0;34m=\u001b[0m \u001b[0mpd\u001b[0m\u001b[0;34m.\u001b[0m\u001b[0mto_datetime\u001b[0m\u001b[0;34m(\u001b[0m\u001b[0mtrs\u001b[0m\u001b[0;34m[\u001b[0m\u001b[0;34m'date'\u001b[0m\u001b[0;34m]\u001b[0m\u001b[0;34m)\u001b[0m\u001b[0;34m\u001b[0m\u001b[0;34m\u001b[0m\u001b[0m\n\u001b[1;32m      4\u001b[0m \u001b[0mtrs\u001b[0m\u001b[0;34m[\u001b[0m\u001b[0;34m'date'\u001b[0m\u001b[0;34m]\u001b[0m \u001b[0;34m=\u001b[0m \u001b[0mpd\u001b[0m\u001b[0;34m.\u001b[0m\u001b[0mto_datetime\u001b[0m\u001b[0;34m(\u001b[0m\u001b[0mtrs\u001b[0m\u001b[0;34m[\u001b[0m\u001b[0;34m'date'\u001b[0m\u001b[0;34m]\u001b[0m\u001b[0;34m)\u001b[0m\u001b[0;34m\u001b[0m\u001b[0;34m\u001b[0m\u001b[0m\n\u001b[1;32m      5\u001b[0m \u001b[0mt2day\u001b[0m \u001b[0;34m=\u001b[0m \u001b[0mtrs\u001b[0m\u001b[0;34m[\u001b[0m\u001b[0;34m'date'\u001b[0m\u001b[0;34m]\u001b[0m\u001b[0;34m.\u001b[0m\u001b[0mvalue_counts\u001b[0m\u001b[0;34m(\u001b[0m\u001b[0;34m)\u001b[0m\u001b[0;34m.\u001b[0m\u001b[0msort_values\u001b[0m\u001b[0;34m(\u001b[0m\u001b[0;34m)\u001b[0m\u001b[0;34m\u001b[0m\u001b[0;34m\u001b[0m\u001b[0m\n\u001b[1;32m      6\u001b[0m \u001b[0mt2day\u001b[0m \u001b[0;34m=\u001b[0m \u001b[0mt2day\u001b[0m\u001b[0;34m.\u001b[0m\u001b[0mto_frame\u001b[0m\u001b[0;34m(\u001b[0m\u001b[0;34m)\u001b[0m\u001b[0;34m\u001b[0m\u001b[0;34m\u001b[0m\u001b[0m\n\u001b[0;32m----> 7\u001b[0;31m \u001b[0mseries\u001b[0m \u001b[0;34m=\u001b[0m \u001b[0mX\u001b[0m \u001b[0;34m=\u001b[0m \u001b[0mt2day\u001b[0m\u001b[0;34m.\u001b[0m\u001b[0mdate\u001b[0m\u001b[0;34m.\u001b[0m\u001b[0msort_index\u001b[0m\u001b[0;34m(\u001b[0m\u001b[0;34m)\u001b[0m\u001b[0;34m.\u001b[0m\u001b[0mvalues\u001b[0m\u001b[0;34m\u001b[0m\u001b[0;34m\u001b[0m\u001b[0m\n\u001b[0m",
      "\u001b[0;32m~/miniconda3/envs/myenv/lib/python3.10/site-packages/pandas/core/generic.py\u001b[0m in \u001b[0;36m?\u001b[0;34m(self, name)\u001b[0m\n\u001b[1;32m   6200\u001b[0m             \u001b[0;32mand\u001b[0m \u001b[0mname\u001b[0m \u001b[0;32mnot\u001b[0m \u001b[0;32min\u001b[0m \u001b[0mself\u001b[0m\u001b[0;34m.\u001b[0m\u001b[0m_accessors\u001b[0m\u001b[0;34m\u001b[0m\u001b[0;34m\u001b[0m\u001b[0m\n\u001b[1;32m   6201\u001b[0m             \u001b[0;32mand\u001b[0m \u001b[0mself\u001b[0m\u001b[0;34m.\u001b[0m\u001b[0m_info_axis\u001b[0m\u001b[0;34m.\u001b[0m\u001b[0m_can_hold_identifiers_and_holds_name\u001b[0m\u001b[0;34m(\u001b[0m\u001b[0mname\u001b[0m\u001b[0;34m)\u001b[0m\u001b[0;34m\u001b[0m\u001b[0;34m\u001b[0m\u001b[0m\n\u001b[1;32m   6202\u001b[0m         ):\n\u001b[1;32m   6203\u001b[0m             \u001b[0;32mreturn\u001b[0m \u001b[0mself\u001b[0m\u001b[0;34m[\u001b[0m\u001b[0mname\u001b[0m\u001b[0;34m]\u001b[0m\u001b[0;34m\u001b[0m\u001b[0;34m\u001b[0m\u001b[0m\n\u001b[0;32m-> 6204\u001b[0;31m         \u001b[0;32mreturn\u001b[0m \u001b[0mobject\u001b[0m\u001b[0;34m.\u001b[0m\u001b[0m__getattribute__\u001b[0m\u001b[0;34m(\u001b[0m\u001b[0mself\u001b[0m\u001b[0;34m,\u001b[0m \u001b[0mname\u001b[0m\u001b[0;34m)\u001b[0m\u001b[0;34m\u001b[0m\u001b[0;34m\u001b[0m\u001b[0m\n\u001b[0m",
      "\u001b[0;31mAttributeError\u001b[0m: 'DataFrame' object has no attribute 'date'"
     ]
    }
   ],
   "source": [
    "# load the data \n",
    "trs = pd.read_csv(\"data/transactions.csv\")\n",
    "trs['date'] = pd.to_datetime(trs['date'])\n",
    "trs['date'] = pd.to_datetime(trs['date'])\n",
    "t2day = trs['date'].value_counts().sort_values()\n",
    "t2day = t2day.to_frame()\n",
    "series = X = t2day.date.sort_index().values"
   ]
  },
  {
   "cell_type": "markdown",
   "id": "61bd0ac9",
   "metadata": {},
   "source": [
    "### Visualizing data "
   ]
  },
  {
   "cell_type": "code",
   "execution_count": 4,
   "id": "4fcdd384",
   "metadata": {},
   "outputs": [
    {
     "ename": "AttributeError",
     "evalue": "'DataFrame' object has no attribute 'date'",
     "output_type": "error",
     "traceback": [
      "\u001b[0;31m---------------------------------------------------------------------------\u001b[0m",
      "\u001b[0;31mAttributeError\u001b[0m                            Traceback (most recent call last)",
      "\u001b[0;32m/var/folders/tt/zbxpsbdn7fd6_zbyqkfm28d40000gn/T/ipykernel_2534/2211159900.py\u001b[0m in \u001b[0;36m?\u001b[0;34m()\u001b[0m\n\u001b[1;32m      1\u001b[0m \u001b[0mplt\u001b[0m\u001b[0;34m.\u001b[0m\u001b[0mfigure\u001b[0m\u001b[0;34m(\u001b[0m\u001b[0mfigsize\u001b[0m \u001b[0;34m=\u001b[0m \u001b[0;34m(\u001b[0m\u001b[0;36m20\u001b[0m\u001b[0;34m,\u001b[0m \u001b[0;36m6\u001b[0m\u001b[0;34m)\u001b[0m\u001b[0;34m)\u001b[0m\u001b[0;34m\u001b[0m\u001b[0;34m\u001b[0m\u001b[0m\n\u001b[1;32m      2\u001b[0m \u001b[0mplt\u001b[0m\u001b[0;34m.\u001b[0m\u001b[0mxlabel\u001b[0m\u001b[0;34m(\u001b[0m\u001b[0;34m\"Time\"\u001b[0m\u001b[0;34m)\u001b[0m\u001b[0;34m\u001b[0m\u001b[0;34m\u001b[0m\u001b[0m\n\u001b[1;32m      3\u001b[0m \u001b[0mplt\u001b[0m\u001b[0;34m.\u001b[0m\u001b[0mylabel\u001b[0m\u001b[0;34m(\u001b[0m\u001b[0;34m\"Transactions\"\u001b[0m\u001b[0;34m)\u001b[0m\u001b[0;34m\u001b[0m\u001b[0;34m\u001b[0m\u001b[0m\n\u001b[1;32m      4\u001b[0m \u001b[0;34m\u001b[0m\u001b[0m\n\u001b[0;32m----> 5\u001b[0;31m \u001b[0mplt\u001b[0m\u001b[0;34m.\u001b[0m\u001b[0mplot\u001b[0m\u001b[0;34m(\u001b[0m\u001b[0mt2day\u001b[0m\u001b[0;34m.\u001b[0m\u001b[0mdate\u001b[0m\u001b[0;34m.\u001b[0m\u001b[0msort_index\u001b[0m\u001b[0;34m(\u001b[0m\u001b[0;34m)\u001b[0m\u001b[0;34m)\u001b[0m\u001b[0;34m\u001b[0m\u001b[0;34m\u001b[0m\u001b[0m\n\u001b[0m\u001b[1;32m      6\u001b[0m \u001b[0mplt\u001b[0m\u001b[0;34m.\u001b[0m\u001b[0mshow\u001b[0m\u001b[0;34m(\u001b[0m\u001b[0;34m)\u001b[0m\u001b[0;34m\u001b[0m\u001b[0;34m\u001b[0m\u001b[0m\n",
      "\u001b[0;32m~/miniconda3/envs/myenv/lib/python3.10/site-packages/pandas/core/generic.py\u001b[0m in \u001b[0;36m?\u001b[0;34m(self, name)\u001b[0m\n\u001b[1;32m   6200\u001b[0m             \u001b[0;32mand\u001b[0m \u001b[0mname\u001b[0m \u001b[0;32mnot\u001b[0m \u001b[0;32min\u001b[0m \u001b[0mself\u001b[0m\u001b[0;34m.\u001b[0m\u001b[0m_accessors\u001b[0m\u001b[0;34m\u001b[0m\u001b[0;34m\u001b[0m\u001b[0m\n\u001b[1;32m   6201\u001b[0m             \u001b[0;32mand\u001b[0m \u001b[0mself\u001b[0m\u001b[0;34m.\u001b[0m\u001b[0m_info_axis\u001b[0m\u001b[0;34m.\u001b[0m\u001b[0m_can_hold_identifiers_and_holds_name\u001b[0m\u001b[0;34m(\u001b[0m\u001b[0mname\u001b[0m\u001b[0;34m)\u001b[0m\u001b[0;34m\u001b[0m\u001b[0;34m\u001b[0m\u001b[0m\n\u001b[1;32m   6202\u001b[0m         ):\n\u001b[1;32m   6203\u001b[0m             \u001b[0;32mreturn\u001b[0m \u001b[0mself\u001b[0m\u001b[0;34m[\u001b[0m\u001b[0mname\u001b[0m\u001b[0;34m]\u001b[0m\u001b[0;34m\u001b[0m\u001b[0;34m\u001b[0m\u001b[0m\n\u001b[0;32m-> 6204\u001b[0;31m         \u001b[0;32mreturn\u001b[0m \u001b[0mobject\u001b[0m\u001b[0;34m.\u001b[0m\u001b[0m__getattribute__\u001b[0m\u001b[0;34m(\u001b[0m\u001b[0mself\u001b[0m\u001b[0;34m,\u001b[0m \u001b[0mname\u001b[0m\u001b[0;34m)\u001b[0m\u001b[0;34m\u001b[0m\u001b[0;34m\u001b[0m\u001b[0m\n\u001b[0m",
      "\u001b[0;31mAttributeError\u001b[0m: 'DataFrame' object has no attribute 'date'"
     ]
    },
    {
     "data": {
      "image/png": "[encoded data removed]",
      "text/plain": [
       "<Figure size 2000x600 with 1 Axes>"
      ]
     },
     "metadata": {},
     "output_type": "display_data"
    }
   ],
   "source": [
    "plt.figure(figsize = (20, 6))\n",
    "plt.xlabel(\"Time\")\n",
    "plt.ylabel(\"Transactions\")\n",
    "\n",
    "plt.plot(t2day.date.sort_index())\n",
    "plt.show()"
   ]
  },
  {
   "cell_type": "markdown",
   "id": "cb206fb7",
   "metadata": {},
   "source": [
    "### How to prepare the data for the neural network. \n",
    "\n",
    "<img src = \"img/Multistep.png\" alt=\"Girl in a jacket\" width=\"600\" height=\"800\">"
   ]
  },
  {
   "cell_type": "code",
   "execution_count": 5,
   "id": "1a23041d",
   "metadata": {},
   "outputs": [],
   "source": [
    "def split_sequence(sequence, n_steps_in, n_steps_out):\n",
    "    X, y = list(), list()\n",
    "    for i in range(len(sequence)):\n",
    "         # find the end of this pattern\n",
    "         end_ix = i + n_steps_in\n",
    "         out_end_ix = end_ix + n_steps_out\n",
    "         # check if we are beyond the sequence\n",
    "         if out_end_ix > len(sequence):\n",
    "             break\n",
    "         # gather input and output parts of the pattern\n",
    "         seq_x, seq_y = sequence[i:end_ix], sequence[end_ix:out_end_ix]\n",
    "         X.append(seq_x)\n",
    "         y.append(seq_y)\n",
    "    return np.array(X), np.array(y)"
   ]
  },
  {
   "cell_type": "code",
   "execution_count": 6,
   "id": "165caeb9",
   "metadata": {
    "scrolled": true
   },
   "outputs": [
    {
     "ename": "NameError",
     "evalue": "name 'series' is not defined",
     "output_type": "error",
     "traceback": [
      "\u001b[0;31m---------------------------------------------------------------------------\u001b[0m",
      "\u001b[0;31mNameError\u001b[0m                                 Traceback (most recent call last)",
      "Cell \u001b[0;32mIn[6], line 5\u001b[0m\n\u001b[1;32m      2\u001b[0m n_steps_in, n_steps_out \u001b[38;5;241m=\u001b[39m \u001b[38;5;241m90\u001b[39m,\u001b[38;5;241m30\u001b[39m\n\u001b[1;32m      4\u001b[0m \u001b[38;5;66;03m# split into samples\u001b[39;00m\n\u001b[0;32m----> 5\u001b[0m X, y \u001b[38;5;241m=\u001b[39m split_sequence(\u001b[43mseries\u001b[49m, n_steps_in, n_steps_out)\n\u001b[1;32m      6\u001b[0m count \u001b[38;5;241m=\u001b[39m \u001b[38;5;241m0\u001b[39m\n\u001b[1;32m      7\u001b[0m \u001b[38;5;28;01mfor\u001b[39;00m i \u001b[38;5;129;01min\u001b[39;00m \u001b[38;5;28mrange\u001b[39m(\u001b[38;5;28mlen\u001b[39m(X)):\n",
      "\u001b[0;31mNameError\u001b[0m: name 'series' is not defined"
     ]
    }
   ],
   "source": [
    "# choose a number of time steps\n",
    "n_steps_in, n_steps_out = 90,30\n",
    "\n",
    "# split into samples\n",
    "X, y = split_sequence(series, n_steps_in, n_steps_out)\n",
    "count = 0\n",
    "for i in range(len(X)):\n",
    "    print(series[i],X[i], y[i])\n",
    "    count +=1\n",
    "    if count>7: break"
   ]
  },
  {
   "cell_type": "code",
   "execution_count": 7,
   "id": "078bc873",
   "metadata": {},
   "outputs": [
    {
     "ename": "NameError",
     "evalue": "name 'X' is not defined",
     "output_type": "error",
     "traceback": [
      "\u001b[0;31m---------------------------------------------------------------------------\u001b[0m",
      "\u001b[0;31mNameError\u001b[0m                                 Traceback (most recent call last)",
      "Cell \u001b[0;32mIn[7], line 1\u001b[0m\n\u001b[0;32m----> 1\u001b[0m \u001b[38;5;28mprint\u001b[39m(\u001b[43mX\u001b[49m\u001b[38;5;241m.\u001b[39mshape)\n\u001b[1;32m      2\u001b[0m \u001b[38;5;28mprint\u001b[39m(y\u001b[38;5;241m.\u001b[39mshape)\n",
      "\u001b[0;31mNameError\u001b[0m: name 'X' is not defined"
     ]
    }
   ],
   "source": [
    "print(X.shape)\n",
    "print(y.shape)"
   ]
  },
  {
   "cell_type": "code",
   "execution_count": 8,
   "id": "b67d38ed",
   "metadata": {},
   "outputs": [
    {
     "ename": "NameError",
     "evalue": "name 'X' is not defined",
     "output_type": "error",
     "traceback": [
      "\u001b[0;31m---------------------------------------------------------------------------\u001b[0m",
      "\u001b[0;31mNameError\u001b[0m                                 Traceback (most recent call last)",
      "Cell \u001b[0;32mIn[8], line 4\u001b[0m\n\u001b[1;32m      1\u001b[0m train_size \u001b[38;5;241m=\u001b[39m \u001b[38;5;241m800\u001b[39m\n\u001b[1;32m      2\u001b[0m test_size \u001b[38;5;241m=\u001b[39m \u001b[38;5;241m223\u001b[39m\n\u001b[0;32m----> 4\u001b[0m train_X, test_X \u001b[38;5;241m=\u001b[39m \u001b[43mX\u001b[49m[:train_size], X[train_size:] \n\u001b[1;32m      5\u001b[0m train_y, test_y \u001b[38;5;241m=\u001b[39m y[:train_size], y[train_size:]\n",
      "\u001b[0;31mNameError\u001b[0m: name 'X' is not defined"
     ]
    }
   ],
   "source": [
    "train_size = 800\n",
    "test_size = 223\n",
    "\n",
    "train_X, test_X = X[:train_size], X[train_size:] \n",
    "train_y, test_y = y[:train_size], y[train_size:]\n"
   ]
  },
  {
   "cell_type": "code",
   "execution_count": 9,
   "id": "9620855d",
   "metadata": {
    "scrolled": true
   },
   "outputs": [
    {
     "name": "stderr",
     "output_type": "stream",
     "text": [
      "2024-08-07 19:52:17.165739: I metal_plugin/src/device/metal_device.cc:1154] Metal device set to: Apple M3 Pro\n",
      "2024-08-07 19:52:17.165774: I metal_plugin/src/device/metal_device.cc:296] systemMemory: 36.00 GB\n",
      "2024-08-07 19:52:17.165782: I metal_plugin/src/device/metal_device.cc:313] maxCacheSize: 13.50 GB\n",
      "2024-08-07 19:52:17.165860: I tensorflow/core/common_runtime/pluggable_device/pluggable_device_factory.cc:306] Could not identify NUMA node of platform GPU ID 0, defaulting to 0. Your kernel may not have been built with NUMA support.\n",
      "2024-08-07 19:52:17.165912: I tensorflow/core/common_runtime/pluggable_device/pluggable_device_factory.cc:272] Created TensorFlow device (/job:localhost/replica:0/task:0/device:GPU:0 with 0 MB memory) -> physical PluggableDevice (device: 0, name: METAL, pci bus id: <undefined>)\n"
     ]
    },
    {
     "ename": "NameError",
     "evalue": "name 'train_X' is not defined",
     "output_type": "error",
     "traceback": [
      "\u001b[0;31m---------------------------------------------------------------------------\u001b[0m",
      "\u001b[0;31mNameError\u001b[0m                                 Traceback (most recent call last)",
      "Cell \u001b[0;32mIn[9], line 10\u001b[0m\n\u001b[1;32m      7\u001b[0m model\u001b[38;5;241m.\u001b[39mcompile(optimizer\u001b[38;5;241m=\u001b[39m\u001b[38;5;124m'\u001b[39m\u001b[38;5;124madam\u001b[39m\u001b[38;5;124m'\u001b[39m, loss\u001b[38;5;241m=\u001b[39m\u001b[38;5;124m'\u001b[39m\u001b[38;5;124mmse\u001b[39m\u001b[38;5;124m'\u001b[39m , metrics\u001b[38;5;241m=\u001b[39m[metrics\u001b[38;5;241m.\u001b[39mmae])\n\u001b[1;32m      9\u001b[0m \u001b[38;5;66;03m# fit model\u001b[39;00m\n\u001b[0;32m---> 10\u001b[0m history \u001b[38;5;241m=\u001b[39m model\u001b[38;5;241m.\u001b[39mfit(\u001b[43mtrain_X\u001b[49m, train_y, batch_size\u001b[38;5;241m=\u001b[39m\u001b[38;5;241m128\u001b[39m, epochs\u001b[38;5;241m=\u001b[39m\u001b[38;5;241m250\u001b[39m, verbose\u001b[38;5;241m=\u001b[39m\u001b[38;5;241m2\u001b[39m)\n",
      "\u001b[0;31mNameError\u001b[0m: name 'train_X' is not defined"
     ]
    },
    {
     "name": "stdout",
     "output_type": "stream",
     "text": [
      "Epoch 232/250\n",
      "7/7 - 0s - loss: 702.7983 - mean_absolute_error: 18.1821\n",
      "Epoch 233/250\n",
      "7/7 - 0s - loss: 685.0359 - mean_absolute_error: 17.9823\n",
      "Epoch 234/250\n",
      "7/7 - 0s - loss: 661.2729 - mean_absolute_error: 17.6739\n",
      "Epoch 235/250\n",
      "7/7 - 0s - loss: 639.1098 - mean_absolute_error: 17.4186\n",
      "Epoch 236/250\n",
      "7/7 - 0s - loss: 642.6625 - mean_absolute_error: 17.4547\n",
      "Epoch 237/250\n",
      "7/7 - 0s - loss: 625.7866 - mean_absolute_error: 17.2091\n",
      "Epoch 238/250\n",
      "7/7 - 0s - loss: 633.4671 - mean_absolute_error: 17.3104\n",
      "Epoch 239/250\n",
      "7/7 - 0s - loss: 633.5286 - mean_absolute_error: 17.3217\n",
      "Epoch 240/250\n",
      "7/7 - 0s - loss: 640.5579 - mean_absolute_error: 17.3887\n",
      "Epoch 241/250\n",
      "7/7 - 0s - loss: 647.8394 - mean_absolute_error: 17.5136\n",
      "Epoch 242/250\n",
      "7/7 - 0s - loss: 651.3715 - mean_absolute_error: 17.6025\n",
      "Epoch 243/250\n",
      "7/7 - 0s - loss: 693.9590 - mean_absolute_error: 18.1848\n",
      "Epoch 244/250\n",
      "7/7 - 0s - loss: 639.2991 - mean_absolute_error: 17.4002\n",
      "Epoch 245/250\n",
      "7/7 - 0s - loss: 615.8629 - mean_absolute_error: 17.1902\n",
      "Epoch 246/250\n",
      "7/7 - 0s - loss: 608.3745 - mean_absolute_error: 16.9878\n",
      "Epoch 247/250\n",
      "7/7 - 0s - loss: 651.3229 - mean_absolute_error: 17.6055\n",
      "Epoch 248/250\n",
      "7/7 - 0s - loss: 626.9602 - mean_absolute_error: 17.2590\n",
      "Epoch 249/250\n",
      "7/7 - 0s - loss: 587.9326 - mean_absolute_error: 16.6994\n",
      "Epoch 250/250\n",
      "7/7 - 0s - loss: 573.6503 - mean_absolute_error: 16.4633\n"
     ]
    }
   ],
   "source": [
    "# define model\n",
    "model = Sequential()\n",
    "model.add(Dense(500, activation='relu', input_dim=n_steps_in)) \n",
    "model.add(Dense(250, activation='relu', input_dim=n_steps_in)) \n",
    "model.add(Dense(n_steps_out))\n",
    "\n",
    "model.compile(optimizer='adam', loss='mse' , metrics=[metrics.mae])\n",
    "\n",
    "# fit model\n",
    "history = model.fit(train_X, train_y, batch_size=128, epochs=250, verbose=2)"
   ]
  },
  {
   "cell_type": "code",
   "execution_count": 10,
   "id": "5c31286a",
   "metadata": {},
   "outputs": [
    {
     "ename": "NameError",
     "evalue": "name 'history' is not defined",
     "output_type": "error",
     "traceback": [
      "\u001b[0;31m---------------------------------------------------------------------------\u001b[0m",
      "\u001b[0;31mNameError\u001b[0m                                 Traceback (most recent call last)",
      "Cell \u001b[0;32mIn[10], line 1\u001b[0m\n\u001b[0;32m----> 1\u001b[0m \u001b[43mhistory\u001b[49m\u001b[38;5;241m.\u001b[39mhistory\n",
      "\u001b[0;31mNameError\u001b[0m: name 'history' is not defined"
     ]
    }
   ],
   "source": [
    "history.history"
   ]
  },
  {
   "cell_type": "markdown",
   "id": "edc8fa81",
   "metadata": {},
   "source": [
    "### Monitor the training process to avoid overfitting of the model.  \n",
    "\n",
    "- The neural network may learn the data so well that its learning goes into overfitting. \n",
    "\n",
    "- To prevent this, you should monitor the training process \n",
    "\n",
    "- The curve of validation should follow the curve of training otherwise you should stop the training with EarlyStop.\n",
    "\n",
    "- The parameters of the model (like number of levels, number of neurons per level, optimizer function etc..) are not optimized "
   ]
  },
  {
   "cell_type": "code",
   "execution_count": 11,
   "id": "8a4d3fe5",
   "metadata": {},
   "outputs": [
    {
     "ename": "NameError",
     "evalue": "name 'history' is not defined",
     "output_type": "error",
     "traceback": [
      "\u001b[0;31m---------------------------------------------------------------------------\u001b[0m",
      "\u001b[0;31mNameError\u001b[0m                                 Traceback (most recent call last)",
      "Cell \u001b[0;32mIn[11], line 2\u001b[0m\n\u001b[1;32m      1\u001b[0m plt\u001b[38;5;241m.\u001b[39mfigure(figsize \u001b[38;5;241m=\u001b[39m (\u001b[38;5;241m20\u001b[39m, \u001b[38;5;241m4\u001b[39m))\n\u001b[0;32m----> 2\u001b[0m plt\u001b[38;5;241m.\u001b[39mplot(\u001b[43mhistory\u001b[49m\u001b[38;5;241m.\u001b[39mhistory[\u001b[38;5;124m'\u001b[39m\u001b[38;5;124mloss\u001b[39m\u001b[38;5;124m'\u001b[39m])\n\u001b[1;32m      3\u001b[0m plt\u001b[38;5;241m.\u001b[39mplot(history\u001b[38;5;241m.\u001b[39mhistory[\u001b[38;5;124m'\u001b[39m\u001b[38;5;124mmean_absolute_error\u001b[39m\u001b[38;5;124m'\u001b[39m])\n\u001b[1;32m      4\u001b[0m plt\u001b[38;5;241m.\u001b[39mtitle(\u001b[38;5;124m'\u001b[39m\u001b[38;5;124mmodel MAE\u001b[39m\u001b[38;5;124m'\u001b[39m)\n",
      "\u001b[0;31mNameError\u001b[0m: name 'history' is not defined"
     ]
    },
    {
     "data": {
      "text/plain": [
       "<Figure size 2000x400 with 0 Axes>"
      ]
     },
     "metadata": {},
     "output_type": "display_data"
    }
   ],
   "source": [
    "plt.figure(figsize = (20, 4))\n",
    "plt.plot(history.history['loss'])\n",
    "plt.plot(history.history['mean_absolute_error'])\n",
    "plt.title('model MAE')\n",
    "plt.ylabel('MAE ')\n",
    "plt.xlabel('Number of epochs')\n",
    "plt.legend([\"MAE\", \"Loss\"], loc =\"upper right\")\n",
    "plt.show()"
   ]
  },
  {
   "cell_type": "markdown",
   "id": "80681f90",
   "metadata": {},
   "source": [
    "### Show the first prediction "
   ]
  },
  {
   "cell_type": "code",
   "execution_count": 23,
   "id": "5d2ea05b",
   "metadata": {},
   "outputs": [],
   "source": [
    "# the number of elements inside numpy array should be the same as n_steps_in\n",
    "x_input = np.array([ 8,  3 , 7 , 4,  1,  5, 11,  8,  1,  7 , 1,  2, 4 , 1 ,12,  6,  6 , 4,  4 , 2 , 6 , 6 , 7,  6,\n",
    "                     1,  7 , 7 , 5 , 3 , 9 , 2 , 8 , 3 , 3,  8 , 6 , 3 , 1,  4, 12,  2,  2, 7 , 4,  2 , 9 , 8, 12,\n",
    "                     7 , 2 , 4 , 4 , 7 , 2 , 4 , 5 , 4 , 1,  6 ,11 , 8 , 3, 10, 10 ,10, 10,  3 , 6 , 4,  4,  4,  7,\n",
    "                     5 , 6 ,11 , 3 , 1, 10,  6,  1,  6 , 6 , 5 , 1,  4 , 1 , 2 , 7, 13 , 8 , 7 , 7 ,17 , 3,  2 , 7,\n",
    "                     2 , 2 ,10 , 1,  4,  4 , 3 , 3 , 7 ,10 , 2, 3 , 5 , 1 , 2, 13, 10 , 8,  3 , 6 , 6 ,13,  4, 13,\n",
    "                     2 , 1 ,10 ,16 , 5,  7,  7, 13 , 8,  2,  6, 20,  2,  4 , 8 ,13 ,10 , 9 , 1,  2 , 4, 19, 16 , 6,\n",
    "                     5 , 5, 6 ,12 , 7 ,12 ,18 , 7 , 2, 16 ,11 , 9,  8 ,13  ,6 ,16 ,12,  5, 12, 13,  4 ,13, 15, 15,\n",
    "                     16 ,10, 10,  8 , 6  ,5  ,7 , 2, 17, 12,16, 12])"
   ]
  },
  {
   "cell_type": "code",
   "execution_count": 24,
   "id": "a5921772",
   "metadata": {},
   "outputs": [
    {
     "name": "stdout",
     "output_type": "stream",
     "text": [
      "1/1 - 0s\n",
      "[13.623101 12.278589 11.534099 15.552346 15.09316  15.910137 11.253327\n",
      " 18.928581 14.791898 15.21431  15.148912 13.838738 10.954141 11.312092\n",
      " 13.428771 11.186857 18.290537 18.310802 17.669674 12.879218 14.562765\n",
      " 15.820354 12.767557 20.731087 16.843094 15.589421 17.329185 12.392403\n",
      " 20.526594 21.600033]\n"
     ]
    }
   ],
   "source": [
    "# transform and predict.\n",
    "x_input = x_input.reshape((1, n_steps_in))\n",
    "yhat = model.predict(x_input, verbose=2)\n",
    "print(yhat[0])\n",
    "\n",
    "#12 25 28  4 15  1  6 24  6  2  6 16  5  4  9 15  3  2 20 12 15  8  8  8  4 13  9 12 15 11"
   ]
  },
  {
   "cell_type": "code",
   "execution_count": 42,
   "id": "3267f845",
   "metadata": {},
   "outputs": [],
   "source": [
    "# predict and compute error\n",
    "expected = test_y\n",
    "predicted = []\n",
    "for i in range(len(test_X)):\n",
    "    x_input = test_X[i].reshape((1, n_steps_in)) # + 1 per la nuova feature aggiunta\n",
    "    yhat = model.predict(x_input, verbose=0)\n",
    "  \n",
    "    predicted.append(np.around(yhat[0], decimals=1)) "
   ]
  },
  {
   "cell_type": "code",
   "execution_count": 43,
   "id": "aa46f145",
   "metadata": {},
   "outputs": [
    {
     "name": "stdout",
     "output_type": "stream",
     "text": [
      "<class 'numpy.ndarray'>\n",
      "313 30\n"
     ]
    },
    {
     "data": {
      "image/png": "[encoded data removed]",
      "text/plain": [
       "<Figure size 1008x648 with 1 Axes>"
      ]
     },
     "metadata": {
      "needs_background": "light"
     },
     "output_type": "display_data"
    }
   ],
   "source": [
    "difference = abs(expected - predicted)\n",
    "print(type(difference))\n",
    "print(difference.shape[0], difference.shape[1])\n",
    "\n",
    "# comment line below to see all the boxplots for every number of steps from 1 to n_steps_out\n",
    "#difference =  np.reshape(difference, difference.shape[0] * difference.shape[1])\n",
    "\n",
    "plt.figure(figsize = (14, 9))\n",
    "#plt.boxplot(one_cell['nr_people'].values, vert = False)\n",
    "plt.boxplot(difference, vert= True);\n",
    "plt.xticks( rotation='vertical')\n",
    "plt.show()"
   ]
  },
  {
   "cell_type": "markdown",
   "id": "6ccd8b70",
   "metadata": {},
   "source": [
    "### Compute the forecasting Error"
   ]
  },
  {
   "cell_type": "code",
   "execution_count": 44,
   "id": "c9434fa7",
   "metadata": {},
   "outputs": [
    {
     "name": "stdout",
     "output_type": "stream",
     "text": [
      "Mean error 203.29120345059803\n"
     ]
    },
    {
     "data": {
      "image/png": "[encoded data removed]",
      "text/plain": [
       "<Figure size 1008x72 with 1 Axes>"
      ]
     },
     "metadata": {
      "needs_background": "light"
     },
     "output_type": "display_data"
    }
   ],
   "source": [
    "mean_error =  np.reshape(difference, difference.shape[0] * difference.shape[1])\n",
    "print('Mean error', np.mean(mean_error))\n",
    "plt.figure(figsize = (14,1))\n",
    "plt.boxplot(mean_error, vert= False);\n",
    "plt.show()"
   ]
  },
  {
   "cell_type": "code",
   "execution_count": null,
   "id": "ddc1a3f2",
   "metadata": {},
   "outputs": [],
   "source": []
  },
  {
   "cell_type": "code",
   "execution_count": null,
   "id": "2dec1b5f",
   "metadata": {},
   "outputs": [],
   "source": []
  },
  {
   "cell_type": "code",
   "execution_count": null,
   "id": "fd88addc",
   "metadata": {},
   "outputs": [],
   "source": []
  },
  {
   "cell_type": "code",
   "execution_count": null,
   "id": "a7552373",
   "metadata": {},
   "outputs": [],
   "source": []
  },
  {
   "cell_type": "code",
   "execution_count": null,
   "id": "34d03460",
   "metadata": {},
   "outputs": [],
   "source": []
  }
 ],
 "metadata": {
  "kernelspec": {
   "display_name": "Python 3 (ipykernel)",
   "language": "python",
   "name": "python3"
  },
  "language_info": {
   "codemirror_mode": {
    "name": "ipython",
    "version": 3
   },
   "file_extension": ".py",
   "mimetype": "text/x-python",
   "name": "python",
   "nbconvert_exporter": "python",
   "pygments_lexer": "ipython3",
   "version": "3.10.13"
  }
 },
 "nbformat": 4,
 "nbformat_minor": 5
}
