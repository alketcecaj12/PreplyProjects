{
 "cells": [
  {
   "cell_type": "code",
   "execution_count": 4,
   "id": "e19eace0",
   "metadata": {},
   "outputs": [],
   "source": [
    "import traces \n",
    "from datetime import datetime"
   ]
  },
  {
   "cell_type": "markdown",
   "id": "ab1b492a",
   "metadata": {},
   "source": [
    "### Let’s look at these data from a light switch, also known as Big Data from the Internet of Things.\n",
    "\n",
    "- The main object in traces is a TimeSeries, which you create just like a dictionary, adding the five measurements at 6:00am, 7:45:56am, etc."
   ]
  },
  {
   "cell_type": "code",
   "execution_count": 7,
   "id": "3d20b678",
   "metadata": {},
   "outputs": [],
   "source": [
    "time_series = traces.TimeSeries()\n",
    "time_series[datetime(2042, 2, 1,  6,  0,  0)] = 0 #  6:00:00am\n",
    "time_series[datetime(2042, 2, 1,  7, 45, 56)] = 1 #  7:45:56am\n",
    "time_series[datetime(2042, 2, 1,  8, 51, 42)] = 0 #  8:51:42am\n",
    "time_series[datetime(2042, 2, 1, 12,  3, 56)] = 1 # 12:03:56am\n",
    "time_series[datetime(2042, 2, 1, 12,  7, 13)] = 0 # 12:07:13am"
   ]
  },
  {
   "cell_type": "code",
   "execution_count": 8,
   "id": "6d8d91aa",
   "metadata": {},
   "outputs": [
    {
     "data": {
      "text/plain": [
       "<TimeSeries>\n",
       "{datetime.datetime(2042, 2, 1, 6, 0): 0,\n",
       " datetime.datetime(2042, 2, 1, 7, 45, 56): 1,\n",
       " datetime.datetime(2042, 2, 1, 8, 51, 42): 0,\n",
       " datetime.datetime(2042, 2, 1, 12, 3, 56): 1,\n",
       " datetime.datetime(2042, 2, 1, 12, 7, 13): 0}\n",
       "</TimeSeries>"
      ]
     },
     "execution_count": 8,
     "metadata": {},
     "output_type": "execute_result"
    }
   ],
   "source": [
    "time_series"
   ]
  },
  {
   "cell_type": "markdown",
   "id": "9c0ade48",
   "metadata": {},
   "source": [
    "#### What if you want to know if the light was on at 11am? \n",
    "\n",
    "- Unlike a python dictionary, you can look up the value at any time even if it’s not one of the measurement times."
   ]
  },
  {
   "cell_type": "code",
   "execution_count": 9,
   "id": "49a42b30",
   "metadata": {},
   "outputs": [
    {
     "data": {
      "text/plain": [
       "0"
      ]
     },
     "execution_count": 9,
     "metadata": {},
     "output_type": "execute_result"
    }
   ],
   "source": [
    " time_series[datetime(2042, 2, 1, 11,  0, 0)] # 11:00am"
   ]
  },
  {
   "cell_type": "code",
   "execution_count": null,
   "id": "dbb5dff5",
   "metadata": {},
   "outputs": [],
   "source": []
  },
  {
   "cell_type": "code",
   "execution_count": null,
   "id": "f56c898d",
   "metadata": {},
   "outputs": [],
   "source": []
  }
 ],
 "metadata": {
  "kernelspec": {
   "display_name": "Python 3",
   "language": "python",
   "name": "python3"
  },
  "language_info": {
   "codemirror_mode": {
    "name": "ipython",
    "version": 3
   },
   "file_extension": ".py",
   "mimetype": "text/x-python",
   "name": "python",
   "nbconvert_exporter": "python",
   "pygments_lexer": "ipython3",
   "version": "3.9.5"
  }
 },
 "nbformat": 4,
 "nbformat_minor": 5
}
