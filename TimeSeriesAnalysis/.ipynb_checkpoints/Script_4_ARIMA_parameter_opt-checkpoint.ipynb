{
 "cells": [
  {
   "cell_type": "code",
   "execution_count": 43,
   "metadata": {},
   "outputs": [],
   "source": [
    "# grid search ARIMA parameters for time series\n",
    "import warnings\n",
    "from math import sqrt\n",
    "from pandas import read_csv\n",
    "\n",
    "from statsmodels.tsa.arima.model import ARIMA\n",
    "from sklearn.metrics import mean_squared_error\n",
    "\n",
    "# evaluate an ARIMA model for a given order (p,d,q)\n",
    "def evaluate_arima_model(X, arima_order):\n",
    "\t# prepare training dataset\n",
    "\ttrain_size = int(len(X) * 0.66)\n",
    "\ttrain, test = X[0:train_size], X[train_size:]\n",
    "\thistory = [x for x in train]\n",
    "\t# make predictions\n",
    "\tpredictions = list()\n",
    "\tfor t in range(len(test)):\n",
    "\t\tmodel = ARIMA(history, order=arima_order)\n",
    "\t\tmodel_fit = model.fit()\n",
    "\t\tyhat = model_fit.forecast()[0]\n",
    "\t\tpredictions.append(yhat)\n",
    "\t\thistory.append(test[t])\n",
    "\t# calculate out of sample error\n",
    "\trmse = sqrt(mean_squared_error(test, predictions))\n",
    "\treturn rmse\n",
    "\n",
    "# evaluate combinations of p, d and q values for an ARIMA model\n",
    "def evaluate_models(dataset, p_values, d_values, q_values):\n",
    "\tdataset = dataset.astype('float32')\n",
    "\tbest_score, best_cfg = float(\"inf\"), None\n",
    "\tfor p in p_values:\n",
    "\t\tfor d in d_values:\n",
    "\t\t\tfor q in q_values:\n",
    "\t\t\t\torder = (p,d,q)\n",
    "\t\t\t\ttry:\n",
    "\t\t\t\t\trmse = evaluate_arima_model(dataset, order)\n",
    "\t\t\t\t\tif rmse < best_score:\n",
    "\t\t\t\t\t\tbest_score, best_cfg = rmse, order\n",
    "\t\t\t\t\tprint('ARIMA%s RMSE=%.3f' % (order,rmse))\n",
    "\t\t\t\texcept:\n",
    "\t\t\t\t\tcontinue\n",
    "\tprint('Best ARIMA%s RMSE=%.3f' % (best_cfg, best_score))\n",
    "\n",
    "\n"
   ]
  },
  {
   "cell_type": "code",
   "execution_count": null,
   "metadata": {},
   "outputs": [
    {
     "name": "stdout",
     "output_type": "stream",
     "text": [
      "ARIMA(0, 0, 0) RMSE=10.078\n",
      "ARIMA(0, 0, 1) RMSE=7.102\n",
      "ARIMA(0, 0, 2) RMSE=5.623\n",
      "ARIMA(0, 1, 0) RMSE=4.974\n",
      "ARIMA(0, 1, 1) RMSE=5.204\n",
      "ARIMA(0, 1, 2) RMSE=5.483\n",
      "ARIMA(0, 2, 0) RMSE=7.195\n",
      "ARIMA(0, 2, 1) RMSE=4.986\n",
      "ARIMA(0, 2, 2) RMSE=5.223\n",
      "ARIMA(1, 0, 0) RMSE=4.973\n",
      "ARIMA(1, 0, 1) RMSE=5.255\n",
      "ARIMA(1, 0, 2) RMSE=5.273\n",
      "ARIMA(1, 1, 0) RMSE=5.068\n",
      "ARIMA(1, 1, 1) RMSE=5.242\n",
      "ARIMA(1, 1, 2) RMSE=4.985\n",
      "ARIMA(1, 2, 0) RMSE=6.460\n",
      "ARIMA(1, 2, 1) RMSE=5.084\n",
      "ARIMA(1, 2, 2) RMSE=5.240\n",
      "ARIMA(2, 0, 0) RMSE=5.250\n",
      "ARIMA(2, 0, 1) RMSE=5.298\n",
      "ARIMA(2, 0, 2) RMSE=4.999\n",
      "ARIMA(2, 1, 0) RMSE=5.341\n",
      "ARIMA(2, 1, 1) RMSE=5.110\n",
      "ARIMA(2, 1, 2) RMSE=5.121\n",
      "ARIMA(2, 2, 0) RMSE=6.554\n",
      "ARIMA(2, 2, 1) RMSE=5.353\n",
      "ARIMA(2, 2, 2) RMSE=5.470\n",
      "ARIMA(4, 0, 0) RMSE=5.110\n",
      "ARIMA(4, 0, 1) RMSE=5.141\n",
      "ARIMA(4, 1, 0) RMSE=5.208\n",
      "ARIMA(4, 1, 1) RMSE=5.126\n",
      "ARIMA(4, 1, 2) RMSE=5.048\n",
      "ARIMA(4, 2, 0) RMSE=5.968\n",
      "ARIMA(4, 2, 1) RMSE=5.219\n",
      "ARIMA(4, 2, 2) RMSE=5.086\n",
      "ARIMA(6, 0, 0) RMSE=5.027\n"
     ]
    }
   ],
   "source": [
    "data = pd.read_csv('data/PM10.csv')\n",
    "series = data['PM10']\n",
    "# evaluate parameters\n",
    "p_values = [0, 1, 2, 4, 6, 8, 10]\n",
    "d_values = range(0, 3)\n",
    "q_values = range(0, 3)\n",
    "warnings.filterwarnings(\"ignore\")\n",
    "evaluate_models(series.values, p_values, d_values, q_values)"
   ]
  },
  {
   "cell_type": "code",
   "execution_count": null,
   "metadata": {},
   "outputs": [],
   "source": []
  },
  {
   "cell_type": "code",
   "execution_count": null,
   "metadata": {},
   "outputs": [],
   "source": []
  },
  {
   "cell_type": "code",
   "execution_count": null,
   "metadata": {},
   "outputs": [],
   "source": []
  },
  {
   "cell_type": "code",
   "execution_count": null,
   "metadata": {},
   "outputs": [],
   "source": []
  },
  {
   "cell_type": "code",
   "execution_count": null,
   "metadata": {},
   "outputs": [],
   "source": []
  },
  {
   "cell_type": "code",
   "execution_count": null,
   "metadata": {},
   "outputs": [],
   "source": []
  }
 ],
 "metadata": {
  "kernelspec": {
   "display_name": "Python 3 (ipykernel)",
   "language": "python",
   "name": "python3"
  },
  "language_info": {
   "codemirror_mode": {
    "name": "ipython",
    "version": 3
   },
   "file_extension": ".py",
   "mimetype": "text/x-python",
   "name": "python",
   "nbconvert_exporter": "python",
   "pygments_lexer": "ipython3",
   "version": "3.10.13"
  }
 },
 "nbformat": 4,
 "nbformat_minor": 4
}
