{
 "cells": [
  {
   "cell_type": "code",
   "execution_count": 13,
   "id": "082de08b",
   "metadata": {},
   "outputs": [],
   "source": [
    "#import files and give access to tokens and keys\n",
    "import tweepy,json\n",
    "consumer_key = 'tKD3MixQODrf0Ln5wl3Pnoa5F'\n",
    "consumer_secret = 'ktNNGPINwtbNScogc1XGJbJkpper0M1pGqnDKMroNedXsmF9kJ'\n",
    "access_token = '176015580-CfmunpWnk0byn02Pyba3UlLBRDeSfX2kDnQCNb8r'\n",
    "access_token_secret = '14UtkzMAWRYCpmPWmLwdLTEI6TVoe4LzKoGv7LRgexsTf'\n",
    "auth= tweepy.OAuthHandler(consumer_key,consumer_secret)\n",
    "auth.set_access_token(access_token,access_token_secret)"
   ]
  },
  {
   "cell_type": "code",
   "execution_count": 14,
   "id": "422ee4a7",
   "metadata": {},
   "outputs": [],
   "source": [
    "tweet_list=[]\n",
    "class MyStreamListener(tweepy.StreamListener):\n",
    "    def __init__(self,api=None):\n",
    "        super(MyStreamListener,self).__init__()\n",
    "        self.num_tweets=0\n",
    "        self.file=open(\"tweet.txt\",\"w\")\n",
    "    def on_status(self,status):\n",
    "        tweet=status._json\n",
    "        self.file.write(json.dumps(tweet)+ '\\n')\n",
    "        tweet_list.append(status)\n",
    "        self.num_tweets+=1\n",
    "        if self.num_tweets<1000:\n",
    "            return True\n",
    "        else:\n",
    "            return False\n",
    "        self.file.close()"
   ]
  },
  {
   "cell_type": "code",
   "execution_count": 15,
   "id": "a8ec1acf",
   "metadata": {},
   "outputs": [],
   "source": [
    "#create streaming object and authenticate\n",
    "l = MyStreamListener()\n",
    "stream =tweepy.Stream(auth,l)\n",
    "\n",
    "\n",
    "#this line filters twiiter streams to capture data by keywords\n",
    "stream.filter(track=['covid','corona','covid19','coronavirus',\n",
    "'facemask','sanitizer','social-distancing'])"
   ]
  },
  {
   "cell_type": "code",
   "execution_count": 16,
   "id": "5b19ab95",
   "metadata": {},
   "outputs": [],
   "source": [
    "tweets_data_path='coop.txt'\n",
    "tweets_data=[]\n",
    "tweets_file=open(tweets_data_path,\"r\")\n",
    "\n",
    "#read in tweets and store on list\n",
    "for line in tweets_file:\n",
    "    tweet=json.loads(line)\n",
    "    print(tweet)\n",
    "    tweets_data.append(tweet)\n"
   ]
  },
  {
   "cell_type": "code",
   "execution_count": 17,
   "id": "8e8305c8",
   "metadata": {},
   "outputs": [],
   "source": [
    "tweets_file.close()\n"
   ]
  },
  {
   "cell_type": "code",
   "execution_count": 18,
   "id": "e8f554a9",
   "metadata": {},
   "outputs": [
    {
     "name": "stdout",
     "output_type": "stream",
     "text": [
      "[]\n"
     ]
    }
   ],
   "source": [
    "print(tweets_data)"
   ]
  },
  {
   "cell_type": "code",
   "execution_count": null,
   "id": "8aa5bfaf",
   "metadata": {},
   "outputs": [],
   "source": []
  },
  {
   "cell_type": "code",
   "execution_count": null,
   "id": "f252e511",
   "metadata": {},
   "outputs": [],
   "source": []
  }
 ],
 "metadata": {
  "kernelspec": {
   "display_name": "Python 3",
   "language": "python",
   "name": "python3"
  },
  "language_info": {
   "codemirror_mode": {
    "name": "ipython",
    "version": 3
   },
   "file_extension": ".py",
   "mimetype": "text/x-python",
   "name": "python",
   "nbconvert_exporter": "python",
   "pygments_lexer": "ipython3",
   "version": "3.9.5"
  }
 },
 "nbformat": 4,
 "nbformat_minor": 5
}
