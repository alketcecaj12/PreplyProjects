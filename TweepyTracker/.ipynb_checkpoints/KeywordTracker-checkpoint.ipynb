{
 "cells": [
  {
   "cell_type": "code",
   "execution_count": 1,
   "id": "650a93fe",
   "metadata": {},
   "outputs": [],
   "source": [
    "import re\n",
    "import io\n",
    "import csv\n",
    "import tweepy\n",
    "from tweepy import OAuthHandler\n",
    "import time \n",
    "from datetime import datetime\n",
    "from datetime import date"
   ]
  },
  {
   "cell_type": "code",
   "execution_count": 2,
   "id": "e9b13e37",
   "metadata": {},
   "outputs": [
    {
     "name": "stdout",
     "output_type": "stream",
     "text": [
      "3.10.0\n"
     ]
    }
   ],
   "source": [
    "print(tweepy.__version__)"
   ]
  },
  {
   "cell_type": "code",
   "execution_count": 3,
   "id": "0393e242",
   "metadata": {},
   "outputs": [],
   "source": [
    "consumer_key = 'tKD3MixQODrf0Ln5wl3Pnoa5F'\n",
    "consumer_secret = 'ktNNGPINwtbNScogc1XGJbJkpper0M1pGqnDKMroNedXsmF9kJ'\n",
    "access_token = '176015580-CfmunpWnk0byn02Pyba3UlLBRDeSfX2kDnQCNb8r'\n",
    "access_token_secret = '14UtkzMAWRYCpmPWmLwdLTEI6TVoe4LzKoGv7LRgexsTf'\n",
    "\n",
    "# create OAuthHandler object\n",
    "auth = tweepy.OAuthHandler(consumer_key, consumer_secret)\n",
    "\n",
    "# set access token and secret\n",
    "auth.set_access_token(access_token, access_token_secret)\n",
    "\n",
    "# create tweepy API object to fetch tweets\n",
    "api = tweepy.API(auth)"
   ]
  },
  {
   "cell_type": "code",
   "execution_count": 4,
   "id": "7d3aa369",
   "metadata": {},
   "outputs": [],
   "source": [
    "def get_tweets(query, count = 300):\n",
    "\n",
    "    # empty list to store parsed tweets\n",
    "    tweets = []\n",
    "    target = io.open(\"mytweets_quirinale.txt\", 'w', encoding='utf-8')\n",
    "    # call twitter api to fetch tweets\n",
    "    q=str(query)\n",
    "    a=str(q+\" quirinale\")\n",
    "    b=str(q+\" elezioni\")\n",
    "    #c=str(q+\" scikit-learn\")\n",
    "    fetched_tweets = api.search(a, count = count) + api.search(b, count = count) #+ api.search(c, count = count)\n",
    "    # parsing tweets one by one\n",
    "    print(len(fetched_tweets))\n",
    "\n",
    "    for tweet in fetched_tweets:\n",
    "\n",
    "        # empty dictionary to store required params of a tweet\n",
    "        parsed_tweet = {}\n",
    "        # saving text of tweet\n",
    "        parsed_tweet['text'] = tweet.text\n",
    "        if \"http\" not in tweet.text:\n",
    "            line = re.sub(\"[^A-Za-z]\", \" \", tweet.text)\n",
    "            target.write(line+\"\\n\")\n",
    "    return tweets"
   ]
  },
  {
   "cell_type": "code",
   "execution_count": 5,
   "id": "7e2b74f1",
   "metadata": {},
   "outputs": [
    {
     "name": "stdout",
     "output_type": "stream",
     "text": [
      "200\n"
     ]
    }
   ],
   "source": [
    "tweets = get_tweets(query =\"\", count = 20000)"
   ]
  },
  {
   "cell_type": "code",
   "execution_count": 9,
   "id": "4478a626",
   "metadata": {},
   "outputs": [],
   "source": [
    "def get_tweets_auto(query, count = 400):\n",
    "\n",
    "    # empty list to store parsed tweets\n",
    "    tweets = []\n",
    "    \n",
    "    now = datetime.now()\n",
    "    today = date.today()\n",
    "    print(today)\n",
    "    current_time = now.strftime(\"%H:%M:%S\")\n",
    "    current_time = current_time.replace(':', '_')\n",
    "    print(current_time)\n",
    "    \n",
    "    target = io.open(str(today)+' '+current_time+\"_quirinale.csv\", 'w', encoding='utf-8')\n",
    "    # call twitter api to fetch tweets\n",
    "    q=str(query)\n",
    "    \n",
    "    a=str(q+\" quirinale\")\n",
    "    b=str(q+\" elezioni\")\n",
    "    c=str(q+\" mattarella\")\n",
    "    \n",
    "    fetched_tweets = api.search(a,  tweet_mode='extended',  count = count) + api.search(b, count = count) + api.search(c, count = count)\n",
    "    # parsing tweets one by one\n",
    "    print(len(fetched_tweets))\n",
    "    print(fetched_tweets)\n",
    "    for tweet in fetched_tweets:\n",
    "        print(tweet.text)\n",
    "        # empty dictionary to store required params of a tweet\n",
    "        parsed_tweet = {}\n",
    "        # saving text of tweet\n",
    "        parsed_tweet['text'] = tweet.text\n",
    "        if \"http\" not in tweet.text:\n",
    "            line = tweet.text\n",
    "            target.write(line+\"\\n\")\n",
    "    return tweets"
   ]
  },
  {
   "cell_type": "code",
   "execution_count": 10,
   "id": "93ae577f",
   "metadata": {},
   "outputs": [
    {
     "name": "stdout",
     "output_type": "stream",
     "text": [
      "2022-01-12\n",
      "09_01_43\n"
     ]
    },
    {
     "name": "stderr",
     "output_type": "stream",
     "text": [
      "IOPub data rate exceeded.\n",
      "The notebook server will temporarily stop sending output\n",
      "to the client in order to avoid crashing it.\n",
      "To change this limit, set the config variable\n",
      "`--NotebookApp.iopub_data_rate_limit`.\n",
      "\n",
      "Current values:\n",
      "NotebookApp.iopub_data_rate_limit=1000000.0 (bytes/sec)\n",
      "NotebookApp.rate_limit_window=3.0 (secs)\n",
      "\n"
     ]
    },
    {
     "ename": "AttributeError",
     "evalue": "'Status' object has no attribute 'text'",
     "output_type": "error",
     "traceback": [
      "\u001b[1;31m---------------------------------------------------------------------------\u001b[0m",
      "\u001b[1;31mAttributeError\u001b[0m                            Traceback (most recent call last)",
      "\u001b[1;32m<ipython-input-10-c921d2a0101c>\u001b[0m in \u001b[0;36m<module>\u001b[1;34m\u001b[0m\n\u001b[1;32m----> 1\u001b[1;33m \u001b[0mtweets\u001b[0m \u001b[1;33m=\u001b[0m \u001b[0mget_tweets_auto\u001b[0m\u001b[1;33m(\u001b[0m\u001b[0mquery\u001b[0m \u001b[1;33m=\u001b[0m\u001b[1;34m\"\"\u001b[0m\u001b[1;33m,\u001b[0m \u001b[0mcount\u001b[0m \u001b[1;33m=\u001b[0m \u001b[1;36m20000\u001b[0m\u001b[1;33m)\u001b[0m\u001b[1;33m\u001b[0m\u001b[1;33m\u001b[0m\u001b[0m\n\u001b[0m",
      "\u001b[1;32m<ipython-input-9-e2757e7d577d>\u001b[0m in \u001b[0;36mget_tweets_auto\u001b[1;34m(query, count)\u001b[0m\n\u001b[0;32m     24\u001b[0m     \u001b[0mprint\u001b[0m\u001b[1;33m(\u001b[0m\u001b[0mfetched_tweets\u001b[0m\u001b[1;33m)\u001b[0m\u001b[1;33m\u001b[0m\u001b[1;33m\u001b[0m\u001b[0m\n\u001b[0;32m     25\u001b[0m     \u001b[1;32mfor\u001b[0m \u001b[0mtweet\u001b[0m \u001b[1;32min\u001b[0m \u001b[0mfetched_tweets\u001b[0m\u001b[1;33m:\u001b[0m\u001b[1;33m\u001b[0m\u001b[1;33m\u001b[0m\u001b[0m\n\u001b[1;32m---> 26\u001b[1;33m         \u001b[0mprint\u001b[0m\u001b[1;33m(\u001b[0m\u001b[0mtweet\u001b[0m\u001b[1;33m.\u001b[0m\u001b[0mtext\u001b[0m\u001b[1;33m)\u001b[0m\u001b[1;33m\u001b[0m\u001b[1;33m\u001b[0m\u001b[0m\n\u001b[0m\u001b[0;32m     27\u001b[0m         \u001b[1;31m# empty dictionary to store required params of a tweet\u001b[0m\u001b[1;33m\u001b[0m\u001b[1;33m\u001b[0m\u001b[1;33m\u001b[0m\u001b[0m\n\u001b[0;32m     28\u001b[0m         \u001b[0mparsed_tweet\u001b[0m \u001b[1;33m=\u001b[0m \u001b[1;33m{\u001b[0m\u001b[1;33m}\u001b[0m\u001b[1;33m\u001b[0m\u001b[1;33m\u001b[0m\u001b[0m\n",
      "\u001b[1;31mAttributeError\u001b[0m: 'Status' object has no attribute 'text'"
     ]
    }
   ],
   "source": [
    "tweets = get_tweets_auto(query =\"\", count = 20000)"
   ]
  },
  {
   "cell_type": "code",
   "execution_count": null,
   "id": "e5bf7cef",
   "metadata": {},
   "outputs": [],
   "source": [
    "for i in range(1000000): \n",
    "    get_tweets_auto(query =\"\", count = 20000)\n",
    "    time.sleep(3600)\n",
    "   "
   ]
  },
  {
   "cell_type": "code",
   "execution_count": null,
   "id": "318ecb5c",
   "metadata": {},
   "outputs": [],
   "source": []
  },
  {
   "cell_type": "code",
   "execution_count": null,
   "id": "ef600ace",
   "metadata": {},
   "outputs": [],
   "source": []
  },
  {
   "cell_type": "code",
   "execution_count": null,
   "id": "648ba28d",
   "metadata": {},
   "outputs": [],
   "source": []
  },
  {
   "cell_type": "code",
   "execution_count": null,
   "id": "7198915c",
   "metadata": {},
   "outputs": [],
   "source": []
  },
  {
   "cell_type": "code",
   "execution_count": null,
   "id": "498f354f",
   "metadata": {},
   "outputs": [],
   "source": [
    "[]"
   ]
  },
  {
   "cell_type": "code",
   "execution_count": null,
   "id": "622cab32",
   "metadata": {},
   "outputs": [],
   "source": []
  },
  {
   "cell_type": "code",
   "execution_count": null,
   "id": "8ea4b24e",
   "metadata": {},
   "outputs": [],
   "source": []
  },
  {
   "cell_type": "code",
   "execution_count": null,
   "id": "21ab308a",
   "metadata": {},
   "outputs": [],
   "source": []
  }
 ],
 "metadata": {
  "kernelspec": {
   "display_name": "Python 3",
   "language": "python",
   "name": "python3"
  },
  "language_info": {
   "codemirror_mode": {
    "name": "ipython",
    "version": 3
   },
   "file_extension": ".py",
   "mimetype": "text/x-python",
   "name": "python",
   "nbconvert_exporter": "python",
   "pygments_lexer": "ipython3",
   "version": "3.9.5"
  }
 },
 "nbformat": 4,
 "nbformat_minor": 5
}
