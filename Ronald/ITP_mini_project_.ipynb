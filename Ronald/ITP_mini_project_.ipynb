{
 "cells": [
  {
   "cell_type": "markdown",
   "metadata": {},
   "source": [
    "## <center>Introduction to Python Programming – Mini Project</center>\n"
   ]
  },
  {
   "cell_type": "markdown",
   "metadata": {},
   "source": [
    "### Problem 1\n",
    "\n",
    "Write a program to calculate area of shapes. Your program should be capable of calculating the area of a square, rectangle, triangle and a circle. The user should be presented with options to select the shape. Based on which shape is chosen by the user, the program should ask for the appropriate input and print the resulting area on the screen.\n",
    "\n",
    "When the program is run, the screen should display something like this:\n",
    "\n",
    "**Which shape would you like to calculate the area for? Please enter the option number-**<br>\n",
    "**1. Square**<br>\n",
    "**2. Rectangle**<br>\n",
    "**3. Triangle**<br>\n",
    "**4. Circle**<br>\n",
    "**Enter Option: _**\n",
    "\n",
    "Say the user enters the option 1.\n",
    "\n",
    "**Please enter the length of a side: _**\n",
    "\n",
    "If the user enters a value of 5. The output should be:\n",
    "\n",
    "**The area of the square is 25**\n",
    "\n",
    "This program should indicate that the input is invalid if the user enters a character instead of a number as input. For instance if the user enters a value of ‘a’ instead of 5 in the previous example the program should prompt:\n",
    "\n",
    "**Invalid input, please enter a number: _**\n"
   ]
  },
  {
   "cell_type": "code",
   "execution_count": 1,
   "metadata": {},
   "outputs": [],
   "source": [
    "# define a function for calculating\n",
    "# the area of a shapes\n",
    "def calculate_area(number_inserted):\n",
    "\n",
    "    # check for the conditions\n",
    "    if number_inserted == 1:\n",
    "        l = int(input(\"Enter square's side length: \"))\n",
    "        \n",
    "        # calculate area of the square\n",
    "        sq_area = l * l\n",
    "        print(f\"The area of the square is {sq_area}.\")\n",
    "\n",
    "    elif number_inserted == 2:\n",
    "        l = int(input(\"Enter rectangle's length: \"))\n",
    "        b = int(input(\"Enter rectangle's breadth: \"))\n",
    "\n",
    "        # calculate area of square\n",
    "        sqt_area = l * b\n",
    "        print(f\"The area of the rectangle is {sqt_area}.\")\n",
    "\n",
    "    elif number_inserted == 3:\n",
    "        h = int(input(\"Enter triangle's height length: \"))\n",
    "        b = int(input(\"Enter triangle's breadth length: \"))\n",
    "\n",
    "        # calculate area of triangle\n",
    "        tri_area = 0.5 * b * h\n",
    "        print(f\"The area of triangle is {tri_area}.\")\n",
    "\n",
    "    elif number_inserted == 4:\n",
    "        r = int(input(\"Enter circle's radius length: \"))\n",
    "        pi = 3.14\n",
    "\n",
    "        # calculate area of circle\n",
    "        circ_area = pi * r * r\n",
    "        print(f\"The area of triangle is {circ_area}.\")\n",
    "\n",
    "    else:\n",
    "        print(\"Sorry! This shape is not available\")\n"
   ]
  },
  {
   "cell_type": "code",
   "execution_count": 3,
   "metadata": {},
   "outputs": [
    {
     "name": "stdout",
     "output_type": "stream",
     "text": [
      "Which shape would you like to calculate the area for?\n",
      " Please enter the option number \n",
      " 1. Square \n",
      " 2. Rectangle \n",
      " 3. Triangle \n",
      " 4. Circle \n",
      " Enter Option: _ 4\n",
      "Enter circle's radius length: 3\n",
      "The area of triangle is 28.259999999999998.\n"
     ]
    }
   ],
   "source": [
    "print(\"Which shape would you like to calculate the area for?\")\n",
    "shape_number = input(\" Please enter the option number \\n 1. Square \\n 2. Rectangle \\n 3. Triangle \\n 4. Circle \\n Enter Option: _ \")\n",
    "shape_number = int(shape_number)\n",
    "# function calling\n",
    "calculate_area(shape_number)"
   ]
  },
  {
   "cell_type": "markdown",
   "metadata": {},
   "source": [
    "### Problem 2\n",
    "\n",
    "You have newly joined an organization abc.com. Write a python function that will take your 1st and last name as input and print the official mail as which has a format like firstname.lastname@abc.com\n",
    "\n",
    "When the program is run, the screen should display something like this:\n",
    "\n",
    "Enter your first name: nikhil\n",
    "\n",
    "Enter your last name: agrawal\n",
    "\n",
    "You official email id is nikhil.agrawal@abc.com \n",
    "\n",
    "**Hint:** use string concatenation."
   ]
  },
  {
   "cell_type": "code",
   "execution_count": 4,
   "metadata": {},
   "outputs": [
    {
     "name": "stdout",
     "output_type": "stream",
     "text": [
      "Please enter your first name: alket\n",
      "Please enter your last name: cecaj\n",
      "alket.cecaj@abc.com\n"
     ]
    }
   ],
   "source": [
    "name = input(\"Please enter your first name: \") \n",
    "lastname = input(\"Please enter your last name: \") \n",
    "email = name+'.'+lastname+'@abc.com'\n",
    "print(email)"
   ]
  },
  {
   "cell_type": "code",
   "execution_count": null,
   "metadata": {},
   "outputs": [],
   "source": []
  }
 ],
 "metadata": {
  "kernelspec": {
   "display_name": "Python 3",
   "language": "python",
   "name": "python3"
  },
  "language_info": {
   "codemirror_mode": {
    "name": "ipython",
    "version": 3
   },
   "file_extension": ".py",
   "mimetype": "text/x-python",
   "name": "python",
   "nbconvert_exporter": "python",
   "pygments_lexer": "ipython3",
   "version": "3.9.5"
  }
 },
 "nbformat": 4,
 "nbformat_minor": 2
}
