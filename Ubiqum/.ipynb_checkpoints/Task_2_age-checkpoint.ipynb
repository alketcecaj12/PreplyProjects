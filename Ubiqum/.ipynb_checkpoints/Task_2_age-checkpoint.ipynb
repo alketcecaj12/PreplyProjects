{
 "cells": [
  {
   "cell_type": "markdown",
   "id": "6b0c15d4",
   "metadata": {},
   "source": [
    "## Now it is your turn!\n",
    "#### Now that you have an entire process or 'pipeline' created in a single notebook be sure to first back it up! After creating a working copy that you can experiment with, make some changes to the data in the pre-processing area and and see how it impacts the overall results. Here are some suggestions:\n",
    "\n",
    "- Discretize Age and use it as the dependent variable; experiment with different numbers of bins\n",
    "- Discretize Amount and use it as the dependent variable. Can a useful model be constructed?\n",
    "\n",
    "### Use two additional classification algorithms from Sci-Kit Learn: \n",
    "- RandomForestClassifier\n",
    "- GradientBoostingClassifier\n",
    "- Other questions:\n",
    "\n",
    "#### What about items? Are these even in the tree? Why or why not?\n",
    "#### What about classifying Where a transaction took place -can that be done successfully?"
   ]
  },
  {
   "cell_type": "code",
   "execution_count": 1,
   "id": "e98e8418",
   "metadata": {},
   "outputs": [],
   "source": [
    "# DS Basics\n",
    "import numpy as np\n",
    "import pandas as pd\n",
    "import matplotlib.pyplot as plt\n",
    "\n",
    "# SKLearn Stuff\n",
    "from sklearn.model_selection import train_test_split\n",
    "from sklearn.metrics import accuracy_score, classification_report\n",
    "from sklearn.ensemble import RandomForestClassifier, GradientBoostingClassifier\n",
    "from sklearn.tree import DecisionTreeClassifier\n",
    "from sklearn.model_selection import cross_val_score"
   ]
  },
  {
   "cell_type": "code",
   "execution_count": 2,
   "id": "a5e0ffa3",
   "metadata": {},
   "outputs": [
    {
     "data": {
      "text/html": [
       "<div>\n",
       "<style scoped>\n",
       "    .dataframe tbody tr th:only-of-type {\n",
       "        vertical-align: middle;\n",
       "    }\n",
       "\n",
       "    .dataframe tbody tr th {\n",
       "        vertical-align: top;\n",
       "    }\n",
       "\n",
       "    .dataframe thead th {\n",
       "        text-align: right;\n",
       "    }\n",
       "</style>\n",
       "<table border=\"1\" class=\"dataframe\">\n",
       "  <thead>\n",
       "    <tr style=\"text-align: right;\">\n",
       "      <th></th>\n",
       "      <th>in-store</th>\n",
       "      <th>age</th>\n",
       "      <th>items</th>\n",
       "      <th>amount</th>\n",
       "      <th>region</th>\n",
       "    </tr>\n",
       "  </thead>\n",
       "  <tbody>\n",
       "    <tr>\n",
       "      <th>0</th>\n",
       "      <td>0</td>\n",
       "      <td>37</td>\n",
       "      <td>4</td>\n",
       "      <td>281.03</td>\n",
       "      <td>2</td>\n",
       "    </tr>\n",
       "    <tr>\n",
       "      <th>1</th>\n",
       "      <td>0</td>\n",
       "      <td>35</td>\n",
       "      <td>2</td>\n",
       "      <td>219.51</td>\n",
       "      <td>2</td>\n",
       "    </tr>\n",
       "    <tr>\n",
       "      <th>2</th>\n",
       "      <td>1</td>\n",
       "      <td>45</td>\n",
       "      <td>3</td>\n",
       "      <td>1525.70</td>\n",
       "      <td>4</td>\n",
       "    </tr>\n",
       "    <tr>\n",
       "      <th>3</th>\n",
       "      <td>1</td>\n",
       "      <td>46</td>\n",
       "      <td>3</td>\n",
       "      <td>715.25</td>\n",
       "      <td>3</td>\n",
       "    </tr>\n",
       "    <tr>\n",
       "      <th>4</th>\n",
       "      <td>1</td>\n",
       "      <td>33</td>\n",
       "      <td>4</td>\n",
       "      <td>1937.50</td>\n",
       "      <td>1</td>\n",
       "    </tr>\n",
       "  </tbody>\n",
       "</table>\n",
       "</div>"
      ],
      "text/plain": [
       "   in-store  age  items   amount  region\n",
       "0         0   37      4   281.03       2\n",
       "1         0   35      2   219.51       2\n",
       "2         1   45      3  1525.70       4\n",
       "3         1   46      3   715.25       3\n",
       "4         1   33      4  1937.50       1"
      ]
     },
     "execution_count": 2,
     "metadata": {},
     "output_type": "execute_result"
    }
   ],
   "source": [
    "# Import data\n",
    "data = pd.read_csv('data/Demographic_Data.csv')\n",
    "data.head()"
   ]
  },
  {
   "cell_type": "markdown",
   "id": "a4c51706",
   "metadata": {},
   "source": [
    "#### Discretize Age and use it as the dependent variable; experiment with different numbers of bins"
   ]
  },
  {
   "cell_type": "code",
   "execution_count": 3,
   "id": "99a9994b",
   "metadata": {},
   "outputs": [
    {
     "data": {
      "image/png": "[encoded data removed]",
      "text/plain": [
       "<Figure size 1440x216 with 1 Axes>"
      ]
     },
     "metadata": {
      "needs_background": "light"
     },
     "output_type": "display_data"
    }
   ],
   "source": [
    "plt.figure(figsize = (20, 3))\n",
    "plt.boxplot(data.age, vert = False)\n",
    "plt.show()"
   ]
  },
  {
   "cell_type": "code",
   "execution_count": 84,
   "id": "09f97e9f",
   "metadata": {},
   "outputs": [
    {
     "data": {
      "text/html": [
       "<div>\n",
       "<style scoped>\n",
       "    .dataframe tbody tr th:only-of-type {\n",
       "        vertical-align: middle;\n",
       "    }\n",
       "\n",
       "    .dataframe tbody tr th {\n",
       "        vertical-align: top;\n",
       "    }\n",
       "\n",
       "    .dataframe thead th {\n",
       "        text-align: right;\n",
       "    }\n",
       "</style>\n",
       "<table border=\"1\" class=\"dataframe\">\n",
       "  <thead>\n",
       "    <tr style=\"text-align: right;\">\n",
       "      <th></th>\n",
       "      <th>in-store</th>\n",
       "      <th>age</th>\n",
       "      <th>items</th>\n",
       "      <th>amount</th>\n",
       "      <th>region</th>\n",
       "      <th>age_class</th>\n",
       "    </tr>\n",
       "  </thead>\n",
       "  <tbody>\n",
       "    <tr>\n",
       "      <th>0</th>\n",
       "      <td>0</td>\n",
       "      <td>37</td>\n",
       "      <td>4</td>\n",
       "      <td>281.03</td>\n",
       "      <td>2</td>\n",
       "      <td>1</td>\n",
       "    </tr>\n",
       "    <tr>\n",
       "      <th>1</th>\n",
       "      <td>0</td>\n",
       "      <td>35</td>\n",
       "      <td>2</td>\n",
       "      <td>219.51</td>\n",
       "      <td>2</td>\n",
       "      <td>1</td>\n",
       "    </tr>\n",
       "    <tr>\n",
       "      <th>2</th>\n",
       "      <td>1</td>\n",
       "      <td>45</td>\n",
       "      <td>3</td>\n",
       "      <td>1525.70</td>\n",
       "      <td>4</td>\n",
       "      <td>1</td>\n",
       "    </tr>\n",
       "    <tr>\n",
       "      <th>3</th>\n",
       "      <td>1</td>\n",
       "      <td>46</td>\n",
       "      <td>3</td>\n",
       "      <td>715.25</td>\n",
       "      <td>3</td>\n",
       "      <td>1</td>\n",
       "    </tr>\n",
       "    <tr>\n",
       "      <th>4</th>\n",
       "      <td>1</td>\n",
       "      <td>33</td>\n",
       "      <td>4</td>\n",
       "      <td>1937.50</td>\n",
       "      <td>1</td>\n",
       "      <td>1</td>\n",
       "    </tr>\n",
       "    <tr>\n",
       "      <th>...</th>\n",
       "      <td>...</td>\n",
       "      <td>...</td>\n",
       "      <td>...</td>\n",
       "      <td>...</td>\n",
       "      <td>...</td>\n",
       "      <td>...</td>\n",
       "    </tr>\n",
       "    <tr>\n",
       "      <th>79995</th>\n",
       "      <td>1</td>\n",
       "      <td>71</td>\n",
       "      <td>3</td>\n",
       "      <td>558.82</td>\n",
       "      <td>1</td>\n",
       "      <td>2</td>\n",
       "    </tr>\n",
       "    <tr>\n",
       "      <th>79996</th>\n",
       "      <td>0</td>\n",
       "      <td>59</td>\n",
       "      <td>7</td>\n",
       "      <td>1932.00</td>\n",
       "      <td>3</td>\n",
       "      <td>2</td>\n",
       "    </tr>\n",
       "    <tr>\n",
       "      <th>79997</th>\n",
       "      <td>0</td>\n",
       "      <td>54</td>\n",
       "      <td>1</td>\n",
       "      <td>414.16</td>\n",
       "      <td>2</td>\n",
       "      <td>1</td>\n",
       "    </tr>\n",
       "    <tr>\n",
       "      <th>79998</th>\n",
       "      <td>1</td>\n",
       "      <td>49</td>\n",
       "      <td>4</td>\n",
       "      <td>335.32</td>\n",
       "      <td>1</td>\n",
       "      <td>1</td>\n",
       "    </tr>\n",
       "    <tr>\n",
       "      <th>79999</th>\n",
       "      <td>1</td>\n",
       "      <td>30</td>\n",
       "      <td>1</td>\n",
       "      <td>527.12</td>\n",
       "      <td>3</td>\n",
       "      <td>0</td>\n",
       "    </tr>\n",
       "  </tbody>\n",
       "</table>\n",
       "<p>80000 rows × 6 columns</p>\n",
       "</div>"
      ],
      "text/plain": [
       "       in-store  age  items   amount  region  age_class\n",
       "0             0   37      4   281.03       2          1\n",
       "1             0   35      2   219.51       2          1\n",
       "2             1   45      3  1525.70       4          1\n",
       "3             1   46      3   715.25       3          1\n",
       "4             1   33      4  1937.50       1          1\n",
       "...         ...  ...    ...      ...     ...        ...\n",
       "79995         1   71      3   558.82       1          2\n",
       "79996         0   59      7  1932.00       3          2\n",
       "79997         0   54      1   414.16       2          1\n",
       "79998         1   49      4   335.32       1          1\n",
       "79999         1   30      1   527.12       3          0\n",
       "\n",
       "[80000 rows x 6 columns]"
      ]
     },
     "execution_count": 84,
     "metadata": {},
     "output_type": "execute_result"
    }
   ],
   "source": [
    "# Here I experiment with three bins 18-33, 33-56 and 56-86 according to the percentales. \n",
    "# this way we obtain three classes(0,1,2)\n",
    "x = data.age\n",
    "discrete_age = list(np.digitize(x,[33,56]))\n",
    "data['age_class'] = discrete_age\n",
    "data"
   ]
  },
  {
   "cell_type": "markdown",
   "id": "adee171b",
   "metadata": {},
   "source": [
    "#### Let's see how the tree classifiers perform for the dependent variable age_class"
   ]
  },
  {
   "cell_type": "code",
   "execution_count": 54,
   "id": "4f62d5a8",
   "metadata": {},
   "outputs": [],
   "source": [
    "X = data[[\"in-store\", \"items\",\"amount\",\"region\"]]\n",
    "y = data['age_class']"
   ]
  },
  {
   "cell_type": "code",
   "execution_count": 55,
   "id": "4492f606",
   "metadata": {},
   "outputs": [],
   "source": [
    "X_train, X_test, y_train, y_test = train_test_split(X, y, test_size = .20, random_state = 123)"
   ]
  },
  {
   "cell_type": "code",
   "execution_count": 39,
   "id": "e81bcf4b",
   "metadata": {},
   "outputs": [
    {
     "data": {
      "text/plain": [
       "'from sklearn.preprocessing import StandardScaler\\n\\nscaler = StandardScaler()\\nscaler.fit(X_train)\\nX_train= scaler.transform(X_train)\\n\\nscaler = StandardScaler()\\nscaler.fit(X_test)\\nX_test= scaler.transform(X_test)'"
      ]
     },
     "execution_count": 39,
     "metadata": {},
     "output_type": "execute_result"
    }
   ],
   "source": [
    "\"\"\"from sklearn.preprocessing import StandardScaler\n",
    "\n",
    "scaler = StandardScaler()\n",
    "scaler.fit(X_train)\n",
    "X_train= scaler.transform(X_train)\n",
    "\n",
    "scaler = StandardScaler()\n",
    "scaler.fit(X_test)\n",
    "X_test= scaler.transform(X_test)\"\"\""
   ]
  },
  {
   "cell_type": "code",
   "execution_count": 56,
   "id": "6eab3f77",
   "metadata": {},
   "outputs": [],
   "source": [
    "# let's state the three classification models\n",
    "dt = DecisionTreeClassifier().fit(X_train,y_train)\n",
    "gb = GradientBoostingClassifier().fit(X_train, y_train)\n",
    "rf = RandomForestClassifier().fit(X_train, y_train)"
   ]
  },
  {
   "cell_type": "code",
   "execution_count": 57,
   "id": "d3d66900",
   "metadata": {},
   "outputs": [],
   "source": [
    "# let's make predictions\n",
    "preds_dt = dt.predict(X_test)\n",
    "preds_gb = gb.predict(X_test)\n",
    "preds_rf = rf.predict(X_test)"
   ]
  },
  {
   "cell_type": "code",
   "execution_count": 58,
   "id": "c5d34197",
   "metadata": {},
   "outputs": [
    {
     "name": "stdout",
     "output_type": "stream",
     "text": [
      "Classification Results for DesionTree Classifier *************\n",
      "              precision    recall  f1-score   support\n",
      "\n",
      "           0       0.29      0.30      0.30      3763\n",
      "           1       0.52      0.52      0.52      8067\n",
      "           2       0.39      0.39      0.39      4170\n",
      "\n",
      "    accuracy                           0.43     16000\n",
      "   macro avg       0.40      0.40      0.40     16000\n",
      "weighted avg       0.43      0.43      0.43     16000\n",
      "\n",
      "Classification Results for GradientBoosting Classifier *************\n",
      "              precision    recall  f1-score   support\n",
      "\n",
      "           0       0.29      0.00      0.00      3763\n",
      "           1       0.53      0.80      0.64      8067\n",
      "           2       0.51      0.48      0.49      4170\n",
      "\n",
      "    accuracy                           0.53     16000\n",
      "   macro avg       0.44      0.43      0.38     16000\n",
      "weighted avg       0.47      0.53      0.45     16000\n",
      "\n",
      "Classification Results for RandomForest Classifier *************\n",
      "              precision    recall  f1-score   support\n",
      "\n",
      "           0       0.30      0.29      0.30      3763\n",
      "           1       0.52      0.52      0.52      8067\n",
      "           2       0.39      0.40      0.39      4170\n",
      "\n",
      "    accuracy                           0.44     16000\n",
      "   macro avg       0.40      0.40      0.40     16000\n",
      "weighted avg       0.43      0.44      0.44     16000\n",
      "\n"
     ]
    }
   ],
   "source": [
    "print(\"Classification Results for DesionTree Classifier *************\")\n",
    "print(classification_report(y_test, preds_dt))\n",
    "print(\"Classification Results for GradientBoosting Classifier *************\")\n",
    "print(classification_report(y_test, preds_gb))\n",
    "print(\"Classification Results for RandomForest Classifier *************\")\n",
    "print(classification_report(y_test, preds_rf))"
   ]
  },
  {
   "cell_type": "markdown",
   "id": "538b6759",
   "metadata": {},
   "source": [
    "#### Let's experiment with a different number of bins 18-56 and 56-86: this way we obtain two classes(0,1)"
   ]
  },
  {
   "cell_type": "code",
   "execution_count": 59,
   "id": "77278beb",
   "metadata": {},
   "outputs": [
    {
     "data": {
      "text/html": [
       "<div>\n",
       "<style scoped>\n",
       "    .dataframe tbody tr th:only-of-type {\n",
       "        vertical-align: middle;\n",
       "    }\n",
       "\n",
       "    .dataframe tbody tr th {\n",
       "        vertical-align: top;\n",
       "    }\n",
       "\n",
       "    .dataframe thead th {\n",
       "        text-align: right;\n",
       "    }\n",
       "</style>\n",
       "<table border=\"1\" class=\"dataframe\">\n",
       "  <thead>\n",
       "    <tr style=\"text-align: right;\">\n",
       "      <th></th>\n",
       "      <th>in-store</th>\n",
       "      <th>age</th>\n",
       "      <th>items</th>\n",
       "      <th>amount</th>\n",
       "      <th>region</th>\n",
       "      <th>age_class</th>\n",
       "    </tr>\n",
       "  </thead>\n",
       "  <tbody>\n",
       "    <tr>\n",
       "      <th>0</th>\n",
       "      <td>0</td>\n",
       "      <td>37</td>\n",
       "      <td>4</td>\n",
       "      <td>281.03</td>\n",
       "      <td>2</td>\n",
       "      <td>0</td>\n",
       "    </tr>\n",
       "    <tr>\n",
       "      <th>1</th>\n",
       "      <td>0</td>\n",
       "      <td>35</td>\n",
       "      <td>2</td>\n",
       "      <td>219.51</td>\n",
       "      <td>2</td>\n",
       "      <td>0</td>\n",
       "    </tr>\n",
       "    <tr>\n",
       "      <th>2</th>\n",
       "      <td>1</td>\n",
       "      <td>45</td>\n",
       "      <td>3</td>\n",
       "      <td>1525.70</td>\n",
       "      <td>4</td>\n",
       "      <td>0</td>\n",
       "    </tr>\n",
       "    <tr>\n",
       "      <th>3</th>\n",
       "      <td>1</td>\n",
       "      <td>46</td>\n",
       "      <td>3</td>\n",
       "      <td>715.25</td>\n",
       "      <td>3</td>\n",
       "      <td>0</td>\n",
       "    </tr>\n",
       "    <tr>\n",
       "      <th>4</th>\n",
       "      <td>1</td>\n",
       "      <td>33</td>\n",
       "      <td>4</td>\n",
       "      <td>1937.50</td>\n",
       "      <td>1</td>\n",
       "      <td>0</td>\n",
       "    </tr>\n",
       "    <tr>\n",
       "      <th>...</th>\n",
       "      <td>...</td>\n",
       "      <td>...</td>\n",
       "      <td>...</td>\n",
       "      <td>...</td>\n",
       "      <td>...</td>\n",
       "      <td>...</td>\n",
       "    </tr>\n",
       "    <tr>\n",
       "      <th>79995</th>\n",
       "      <td>1</td>\n",
       "      <td>71</td>\n",
       "      <td>3</td>\n",
       "      <td>558.82</td>\n",
       "      <td>1</td>\n",
       "      <td>1</td>\n",
       "    </tr>\n",
       "    <tr>\n",
       "      <th>79996</th>\n",
       "      <td>0</td>\n",
       "      <td>59</td>\n",
       "      <td>7</td>\n",
       "      <td>1932.00</td>\n",
       "      <td>3</td>\n",
       "      <td>1</td>\n",
       "    </tr>\n",
       "    <tr>\n",
       "      <th>79997</th>\n",
       "      <td>0</td>\n",
       "      <td>54</td>\n",
       "      <td>1</td>\n",
       "      <td>414.16</td>\n",
       "      <td>2</td>\n",
       "      <td>0</td>\n",
       "    </tr>\n",
       "    <tr>\n",
       "      <th>79998</th>\n",
       "      <td>1</td>\n",
       "      <td>49</td>\n",
       "      <td>4</td>\n",
       "      <td>335.32</td>\n",
       "      <td>1</td>\n",
       "      <td>0</td>\n",
       "    </tr>\n",
       "    <tr>\n",
       "      <th>79999</th>\n",
       "      <td>1</td>\n",
       "      <td>30</td>\n",
       "      <td>1</td>\n",
       "      <td>527.12</td>\n",
       "      <td>3</td>\n",
       "      <td>0</td>\n",
       "    </tr>\n",
       "  </tbody>\n",
       "</table>\n",
       "<p>80000 rows × 6 columns</p>\n",
       "</div>"
      ],
      "text/plain": [
       "       in-store  age  items   amount  region  age_class\n",
       "0             0   37      4   281.03       2          0\n",
       "1             0   35      2   219.51       2          0\n",
       "2             1   45      3  1525.70       4          0\n",
       "3             1   46      3   715.25       3          0\n",
       "4             1   33      4  1937.50       1          0\n",
       "...         ...  ...    ...      ...     ...        ...\n",
       "79995         1   71      3   558.82       1          1\n",
       "79996         0   59      7  1932.00       3          1\n",
       "79997         0   54      1   414.16       2          0\n",
       "79998         1   49      4   335.32       1          0\n",
       "79999         1   30      1   527.12       3          0\n",
       "\n",
       "[80000 rows x 6 columns]"
      ]
     },
     "execution_count": 59,
     "metadata": {},
     "output_type": "execute_result"
    }
   ],
   "source": [
    "x = data.age\n",
    "discrete_age = list(np.digitize(x,[56]))\n",
    "data['age_class'] = discrete_age\n",
    "data"
   ]
  },
  {
   "cell_type": "code",
   "execution_count": 60,
   "id": "1f5562b7",
   "metadata": {},
   "outputs": [],
   "source": [
    "X = data[[\"in-store\", \"items\",\"amount\",\"region\"]]\n",
    "y = data['age_class']"
   ]
  },
  {
   "cell_type": "code",
   "execution_count": 61,
   "id": "0f6e892c",
   "metadata": {},
   "outputs": [],
   "source": [
    "X_train, X_test, y_train, y_test = train_test_split(X, y, test_size = .30, random_state = 123)"
   ]
  },
  {
   "cell_type": "code",
   "execution_count": 62,
   "id": "4f12eb86",
   "metadata": {},
   "outputs": [],
   "source": [
    "# let's state the three classification models\n",
    "dt = DecisionTreeClassifier().fit(X_train,y_train)\n",
    "gb = GradientBoostingClassifier().fit(X_train, y_train)\n",
    "rf = RandomForestClassifier().fit(X_train, y_train)"
   ]
  },
  {
   "cell_type": "code",
   "execution_count": 63,
   "id": "f2c3db67",
   "metadata": {},
   "outputs": [],
   "source": [
    "# let's make predictions\n",
    "preds_dt = dt.predict(X_test)\n",
    "preds_gb = gb.predict(X_test)\n",
    "preds_rf = rf.predict(X_test)"
   ]
  },
  {
   "cell_type": "code",
   "execution_count": 64,
   "id": "d2879567",
   "metadata": {},
   "outputs": [
    {
     "name": "stdout",
     "output_type": "stream",
     "text": [
      "Classification Results for DesionTree Classifier *************\n",
      "              precision    recall  f1-score   support\n",
      "\n",
      "           0       0.79      0.78      0.78     17737\n",
      "           1       0.39      0.40      0.39      6263\n",
      "\n",
      "    accuracy                           0.68     24000\n",
      "   macro avg       0.59      0.59      0.59     24000\n",
      "weighted avg       0.68      0.68      0.68     24000\n",
      "\n",
      "Classification Results for GradientBoosting Classifier *************\n",
      "              precision    recall  f1-score   support\n",
      "\n",
      "           0       0.81      0.85      0.83     17737\n",
      "           1       0.51      0.45      0.48      6263\n",
      "\n",
      "    accuracy                           0.74     24000\n",
      "   macro avg       0.66      0.65      0.65     24000\n",
      "weighted avg       0.73      0.74      0.74     24000\n",
      "\n",
      "Classification Results for RandomForest Classifier *************\n",
      "              precision    recall  f1-score   support\n",
      "\n",
      "           0       0.79      0.79      0.79     17737\n",
      "           1       0.40      0.40      0.40      6263\n",
      "\n",
      "    accuracy                           0.68     24000\n",
      "   macro avg       0.59      0.59      0.59     24000\n",
      "weighted avg       0.68      0.68      0.68     24000\n",
      "\n"
     ]
    }
   ],
   "source": [
    "print(\"Classification Results for DesionTree Classifier *************\")\n",
    "print(classification_report(y_test, preds_dt))\n",
    "print(\"Classification Results for GradientBoosting Classifier *************\")\n",
    "print(classification_report(y_test, preds_gb))\n",
    "print(\"Classification Results for RandomForest Classifier *************\")\n",
    "print(classification_report(y_test, preds_rf))"
   ]
  },
  {
   "cell_type": "markdown",
   "id": "5c23b985",
   "metadata": {},
   "source": [
    "### We obtain better accuracy with two bins i.e two classes "
   ]
  },
  {
   "cell_type": "markdown",
   "id": "da7f0e72",
   "metadata": {},
   "source": [
    "## Tuning Parameters and Model Definition\n",
    "Almost all algorithms have associated tuning parameters. The parameters in Sci-Kit Learn models can be easily accessed when defining the model itself. "
   ]
  },
  {
   "cell_type": "markdown",
   "id": "b1bb97e0",
   "metadata": {},
   "source": [
    "### By emplirically procesing for parameter optimization I find that for:\n",
    "- the RandomForest Classifier a number of estimators= 100 and max_depth= 5\n",
    "- the GradientBoosting Classifier a number of estimators = 50 and max_depth = 5\n",
    "- the DecisionTree Classifier a max_depth = 5\n",
    "\n"
   ]
  },
  {
   "cell_type": "code",
   "execution_count": 82,
   "id": "256919a9",
   "metadata": {},
   "outputs": [],
   "source": [
    "# let's state the three classification models\n",
    "dt = DecisionTreeClassifier(max_depth = 5).fit(X_train,y_train)\n",
    "gb = GradientBoostingClassifier(n_estimators= 100, max_depth = 5).fit(X_train, y_train)\n",
    "rf = RandomForestClassifier(n_estimators= 100, max_depth = 5).fit(X_train, y_train)"
   ]
  },
  {
   "cell_type": "code",
   "execution_count": 83,
   "id": "7353f77d",
   "metadata": {},
   "outputs": [
    {
     "name": "stdout",
     "output_type": "stream",
     "text": [
      "Classification Results for DesionTree Classifier *************\n",
      "              precision    recall  f1-score   support\n",
      "\n",
      "           0       0.79      0.78      0.78     17737\n",
      "           1       0.39      0.40      0.39      6263\n",
      "\n",
      "    accuracy                           0.68     24000\n",
      "   macro avg       0.59      0.59      0.59     24000\n",
      "weighted avg       0.68      0.68      0.68     24000\n",
      "\n",
      "Classification Results for GradientBoosting Classifier *************\n",
      "              precision    recall  f1-score   support\n",
      "\n",
      "           0       0.81      0.85      0.83     17737\n",
      "           1       0.51      0.45      0.48      6263\n",
      "\n",
      "    accuracy                           0.74     24000\n",
      "   macro avg       0.66      0.65      0.65     24000\n",
      "weighted avg       0.73      0.74      0.74     24000\n",
      "\n",
      "Classification Results for RandomForest Classifier *************\n",
      "              precision    recall  f1-score   support\n",
      "\n",
      "           0       0.79      0.79      0.79     17737\n",
      "           1       0.40      0.40      0.40      6263\n",
      "\n",
      "    accuracy                           0.68     24000\n",
      "   macro avg       0.59      0.59      0.59     24000\n",
      "weighted avg       0.68      0.68      0.68     24000\n",
      "\n"
     ]
    }
   ],
   "source": [
    "print(\"Classification Results for DesionTree Classifier *************\")\n",
    "print(classification_report(y_test, preds_dt))\n",
    "print(\"Classification Results for GradientBoosting Classifier *************\")\n",
    "print(classification_report(y_test, preds_gb))\n",
    "print(\"Classification Results for RandomForest Classifier *************\")\n",
    "print(classification_report(y_test, preds_rf))"
   ]
  },
  {
   "cell_type": "code",
   "execution_count": null,
   "id": "d5773693",
   "metadata": {},
   "outputs": [],
   "source": []
  }
 ],
 "metadata": {
  "kernelspec": {
   "display_name": "Python 3",
   "language": "python",
   "name": "python3"
  },
  "language_info": {
   "codemirror_mode": {
    "name": "ipython",
    "version": 3
   },
   "file_extension": ".py",
   "mimetype": "text/x-python",
   "name": "python",
   "nbconvert_exporter": "python",
   "pygments_lexer": "ipython3",
   "version": "3.9.5"
  }
 },
 "nbformat": 4,
 "nbformat_minor": 5
}
