{
 "cells": [
  {
   "cell_type": "markdown",
   "id": "3446a619",
   "metadata": {},
   "source": [
    "### Investigating customer buying patterns\n",
    "\n",
    "\n",
    "- Hello, As CTO and head of Blackwell's eCommerce Team, I'd like to welcome you aboard. I'm excited to get started on this project, but I'd first like to give you a bit of background to get you up to speed. Blackwell has been a successful electronics retailer for over three decades, with over numerous stores in various locations. A little over a year ago we launched our eCommerce website. \n",
    "\n",
    "\n",
    "- We are starting to build up customer transaction data from the site and we want to leverage this data to inform our decisions about site-related activities, like online marketing, enhancements to the site and so on, **in order to continue to maximize the amount of revenue we generate from eCommerce sales.**\n",
    "\n",
    "\n",
    "- To that end, I would like you to explore the customer transaction data we have collected from recent online and in-store sales and see if you can infer any insights about customer purchasing behavior. \n",
    "\n",
    "- **Specifically, I am interested in the following**:\n",
    "\n",
    "\n",
    "- Do customers in different regions spend more per transaction? Which regions spend the most/least? \n",
    "\n",
    "\n",
    "- Is there a relationship between number of items purchased and amount spent? \n",
    "\n",
    "\n",
    "- To investigate this, I’d like you to use data mining methods to explore the data, look for patterns in the data and draw conclusions. I have attached a data file of customer transactions; it includes some information about the customer who made the transaction, as well as the amount of the transaction, and how many items were purchased. Once you have completed your analysis, please create a brief report of your findings and conclusions and an explanation of how you arrived at those conclusions so I can discuss them with Martin."
   ]
  },
  {
   "cell_type": "code",
   "execution_count": 5,
   "id": "034716a2",
   "metadata": {},
   "outputs": [],
   "source": [
    "import pandas as pd\n",
    "import matplotlib.pyplot as plt "
   ]
  },
  {
   "cell_type": "code",
   "execution_count": 6,
   "id": "38071ac7",
   "metadata": {},
   "outputs": [],
   "source": [
    "data = pd.read_csv(\"data/Demographic_Data.csv\")"
   ]
  },
  {
   "cell_type": "code",
   "execution_count": 7,
   "id": "7c54da4f",
   "metadata": {},
   "outputs": [
    {
     "data": {
      "text/html": [
       "<div>\n",
       "<style scoped>\n",
       "    .dataframe tbody tr th:only-of-type {\n",
       "        vertical-align: middle;\n",
       "    }\n",
       "\n",
       "    .dataframe tbody tr th {\n",
       "        vertical-align: top;\n",
       "    }\n",
       "\n",
       "    .dataframe thead th {\n",
       "        text-align: right;\n",
       "    }\n",
       "</style>\n",
       "<table border=\"1\" class=\"dataframe\">\n",
       "  <thead>\n",
       "    <tr style=\"text-align: right;\">\n",
       "      <th></th>\n",
       "      <th>in-store</th>\n",
       "      <th>age</th>\n",
       "      <th>items</th>\n",
       "      <th>amount</th>\n",
       "      <th>region</th>\n",
       "    </tr>\n",
       "  </thead>\n",
       "  <tbody>\n",
       "    <tr>\n",
       "      <th>0</th>\n",
       "      <td>0</td>\n",
       "      <td>37</td>\n",
       "      <td>4</td>\n",
       "      <td>281.03</td>\n",
       "      <td>2</td>\n",
       "    </tr>\n",
       "    <tr>\n",
       "      <th>1</th>\n",
       "      <td>0</td>\n",
       "      <td>35</td>\n",
       "      <td>2</td>\n",
       "      <td>219.51</td>\n",
       "      <td>2</td>\n",
       "    </tr>\n",
       "    <tr>\n",
       "      <th>2</th>\n",
       "      <td>1</td>\n",
       "      <td>45</td>\n",
       "      <td>3</td>\n",
       "      <td>1525.70</td>\n",
       "      <td>4</td>\n",
       "    </tr>\n",
       "    <tr>\n",
       "      <th>3</th>\n",
       "      <td>1</td>\n",
       "      <td>46</td>\n",
       "      <td>3</td>\n",
       "      <td>715.25</td>\n",
       "      <td>3</td>\n",
       "    </tr>\n",
       "    <tr>\n",
       "      <th>4</th>\n",
       "      <td>1</td>\n",
       "      <td>33</td>\n",
       "      <td>4</td>\n",
       "      <td>1937.50</td>\n",
       "      <td>1</td>\n",
       "    </tr>\n",
       "  </tbody>\n",
       "</table>\n",
       "</div>"
      ],
      "text/plain": [
       "   in-store  age  items   amount  region\n",
       "0         0   37      4   281.03       2\n",
       "1         0   35      2   219.51       2\n",
       "2         1   45      3  1525.70       4\n",
       "3         1   46      3   715.25       3\n",
       "4         1   33      4  1937.50       1"
      ]
     },
     "execution_count": 7,
     "metadata": {},
     "output_type": "execute_result"
    }
   ],
   "source": [
    "data.head()"
   ]
  },
  {
   "cell_type": "code",
   "execution_count": 8,
   "id": "e30db2a6",
   "metadata": {},
   "outputs": [
    {
     "data": {
      "text/plain": [
       "(80000, 5)"
      ]
     },
     "execution_count": 8,
     "metadata": {},
     "output_type": "execute_result"
    }
   ],
   "source": [
    "### check the dimensions of the data\n",
    "data.shape"
   ]
  },
  {
   "cell_type": "code",
   "execution_count": 9,
   "id": "0cb272ec",
   "metadata": {},
   "outputs": [
    {
     "name": "stdout",
     "output_type": "stream",
     "text": [
      "<class 'pandas.core.frame.DataFrame'>\n",
      "RangeIndex: 80000 entries, 0 to 79999\n",
      "Data columns (total 5 columns):\n",
      " #   Column    Non-Null Count  Dtype  \n",
      "---  ------    --------------  -----  \n",
      " 0   in-store  80000 non-null  int64  \n",
      " 1   age       80000 non-null  int64  \n",
      " 2   items     80000 non-null  int64  \n",
      " 3   amount    80000 non-null  float64\n",
      " 4   region    80000 non-null  int64  \n",
      "dtypes: float64(1), int64(4)\n",
      "memory usage: 3.1 MB\n"
     ]
    }
   ],
   "source": [
    "# check for the data type of columns\n",
    "data.info()"
   ]
  },
  {
   "cell_type": "code",
   "execution_count": 10,
   "id": "4ea95c51",
   "metadata": {},
   "outputs": [
    {
     "data": {
      "text/plain": [
       "45.757925"
      ]
     },
     "execution_count": 10,
     "metadata": {},
     "output_type": "execute_result"
    }
   ],
   "source": [
    "data.age.mean()"
   ]
  },
  {
   "cell_type": "code",
   "execution_count": 12,
   "id": "7b99d651",
   "metadata": {},
   "outputs": [],
   "source": [
    "group_by_region = data.groupby(['region'])"
   ]
  },
  {
   "cell_type": "code",
   "execution_count": null,
   "id": "606f4bfd",
   "metadata": {},
   "outputs": [],
   "source": []
  },
  {
   "cell_type": "code",
   "execution_count": 13,
   "id": "e080caee",
   "metadata": {
    "scrolled": true
   },
   "outputs": [
    {
     "name": "stdout",
     "output_type": "stream",
     "text": [
      "       in-store  age  items   amount  region\n",
      "4             1   33      4  1937.50       1\n",
      "8             1   51      5   908.31       1\n",
      "9             1   47      3   767.54       1\n",
      "11            1   33      2   684.32       1\n",
      "16            1   20      7  1901.30       1\n",
      "...         ...  ...    ...      ...     ...\n",
      "79960         1   23      4  1107.20       1\n",
      "79962         1   46      5   333.48       1\n",
      "79974         1   32      3   131.46       1\n",
      "79995         1   71      3   558.82       1\n",
      "79998         1   49      4   335.32       1\n",
      "\n",
      "[16000 rows x 5 columns]\n",
      "43.7039375\n",
      "       in-store  age  items    amount  region\n",
      "0             0   37      4  281.0300       2\n",
      "1             0   35      2  219.5100       2\n",
      "6             0   43      6    8.5472       2\n",
      "12            0   32      2   58.9970       2\n",
      "26            0   42      5  114.4900       2\n",
      "...         ...  ...    ...       ...     ...\n",
      "79987         0   39      2  449.9400       2\n",
      "79989         0   69      1  404.4200       2\n",
      "79990         0   71      7    6.9172       2\n",
      "79992         0   77      4  170.0200       2\n",
      "79997         0   54      1  414.1600       2\n",
      "\n",
      "[20000 rows x 5 columns]\n",
      "56.61035\n",
      "       in-store  age  items   amount  region\n",
      "3             1   46      3   715.25       3\n",
      "7             1   66      5   819.98       3\n",
      "10            1   44      5   122.39       3\n",
      "13            1   48      7   529.57       3\n",
      "15            0   43      7  1585.10       3\n",
      "...         ...  ...    ...      ...     ...\n",
      "79978         1   48      3   339.63       3\n",
      "79982         1   27      7   278.66       3\n",
      "79993         1   47      3   337.54       3\n",
      "79996         0   59      7  1932.00       3\n",
      "79999         1   30      1   527.12       3\n",
      "\n",
      "[18000 rows x 5 columns]\n",
      "45.64694444444444\n",
      "       in-store  age  items   amount  region\n",
      "2             1   45      3  1525.70       4\n",
      "5             0   24      3  1314.20       4\n",
      "14            1   34      6   270.49       4\n",
      "18            0   35      2  2791.60       4\n",
      "19            0   58      7  1225.80       4\n",
      "...         ...  ...    ...      ...     ...\n",
      "79985         0   27      5   491.77       4\n",
      "79986         1   43      8   540.90       4\n",
      "79988         0   35      6  1770.90       4\n",
      "79991         0   37      4   658.00       4\n",
      "79994         0   22      1   698.54       4\n",
      "\n",
      "[26000 rows x 5 columns]\n",
      "38.75073076923077\n"
     ]
    }
   ],
   "source": [
    "for i, k in group_by_region: \n",
    "    mean_age = k['age'].mean()\n",
    "    print(k)\n",
    "    print(mean_age)"
   ]
  },
  {
   "cell_type": "code",
   "execution_count": 10,
   "id": "5a472d37",
   "metadata": {},
   "outputs": [
    {
     "data": {
      "text/plain": [
       "in-store    False\n",
       "age         False\n",
       "items       False\n",
       "amount      False\n",
       "region      False\n",
       "dtype: bool"
      ]
     },
     "execution_count": 10,
     "metadata": {},
     "output_type": "execute_result"
    }
   ],
   "source": [
    "# check for Nans \n",
    "data.isna().any()"
   ]
  },
  {
   "cell_type": "markdown",
   "id": "2234c6f8",
   "metadata": {},
   "source": [
    "### 1 - Do customers in different regions spend more per transaction? \n",
    "\n"
   ]
  },
  {
   "cell_type": "code",
   "execution_count": 11,
   "id": "ba11ff36",
   "metadata": {},
   "outputs": [
    {
     "data": {
      "text/plain": [
       "4    26000\n",
       "2    20000\n",
       "3    18000\n",
       "1    16000\n",
       "Name: region, dtype: int64"
      ]
     },
     "execution_count": 11,
     "metadata": {},
     "output_type": "execute_result"
    }
   ],
   "source": [
    "### how many regions are there ? How many transactions per region?\n",
    "data['region'].value_counts()"
   ]
  },
  {
   "cell_type": "code",
   "execution_count": 12,
   "id": "dfdb84fc",
   "metadata": {},
   "outputs": [],
   "source": [
    "# group by region so to have one dataframe per region. \n",
    "group_by_region = data.groupby(['region'])"
   ]
  },
  {
   "cell_type": "code",
   "execution_count": 14,
   "id": "b2d872f5",
   "metadata": {},
   "outputs": [
    {
     "name": "stdout",
     "output_type": "stream",
     "text": [
      "Region =  1 -->  Spending per transaction  =  745.1614908125\n",
      "Region =  2 -->  Spending per transaction  =  252.10919617499997\n",
      "Region =  3 -->  Spending per transaction  =  917.9696374444444\n",
      "Region =  4 -->  Spending per transaction  =  1284.0520123076924\n"
     ]
    }
   ],
   "source": [
    "# how many reagions are there ?\n",
    "spend_trs_region = {}\n",
    "regions_spending = {}\n",
    "for i, k in group_by_region: \n",
    "    region = i\n",
    "    total_spending = k['amount'].sum()\n",
    "    regions_spending[region] = total_spending\n",
    "    #print(total_spending)\n",
    "    spend_per_trs = total_spending/len(k)\n",
    "    print('Region = ', str(i)+' -->  Spending per transaction  =  '+str(spend_per_trs))\n",
    "    spend_trs_region[region] = spend_per_trs"
   ]
  },
  {
   "cell_type": "code",
   "execution_count": 15,
   "id": "44b5ed43",
   "metadata": {},
   "outputs": [
    {
     "name": "stdout",
     "output_type": "stream",
     "text": [
      "{2: 252.10919617499997, 1: 745.1614908125, 3: 917.9696374444444, 4: 1284.0520123076924}\n"
     ]
    }
   ],
   "source": [
    "marklist = sorted(spend_trs_region.items(), key=lambda x:x[1])\n",
    "sortdict = dict(marklist)\n",
    "print(sortdict)"
   ]
  },
  {
   "cell_type": "markdown",
   "id": "8f7cb8f9",
   "metadata": {},
   "source": [
    "### 2- Which regions spend the most/least?"
   ]
  },
  {
   "cell_type": "code",
   "execution_count": 16,
   "id": "06210093",
   "metadata": {},
   "outputs": [
    {
     "name": "stdout",
     "output_type": "stream",
     "text": [
      "{2: 5042183.9235, 1: 11922583.853, 3: 16523453.474, 4: 33385352.32}\n"
     ]
    }
   ],
   "source": [
    "marklist_reg = sorted(regions_spending.items(), key=lambda x:x[1])\n",
    "sortdict = dict(marklist_reg)\n",
    "print(sortdict)"
   ]
  },
  {
   "cell_type": "markdown",
   "id": "ccf47198",
   "metadata": {},
   "source": [
    "### Yes, customers in different regions spend differently. \n",
    "##### In particular : \n",
    "\n",
    "- the customers in region 4 spend more per trasnsaction while \n",
    "\n",
    "- customers in region 2 spend less. "
   ]
  },
  {
   "cell_type": "markdown",
   "id": "8febbdac",
   "metadata": {},
   "source": [
    "### 3- Is there a relationship between number of items purchased and amount spent?\n",
    "\n",
    "- To anser this question I find the correlation between the two data columns i.e. items and amount."
   ]
  },
  {
   "cell_type": "code",
   "execution_count": 17,
   "id": "1b04cd7f",
   "metadata": {},
   "outputs": [
    {
     "name": "stdout",
     "output_type": "stream",
     "text": [
      "-0.007889275578117165\n",
      "-0.0016842050093184991\n",
      "-0.0008439979431084291\n",
      "0.008285865630564907\n"
     ]
    }
   ],
   "source": [
    "for i, k in group_by_region: \n",
    "    print(k['items'].corr(k['amount']))"
   ]
  },
  {
   "cell_type": "markdown",
   "id": "12338f8d",
   "metadata": {},
   "source": [
    "### The answer to the question above is NO. \n",
    "\n",
    "- There is norelationship between the items purchased and the amount spend as the correlation coefficient remains very low (next to zero)"
   ]
  },
  {
   "cell_type": "code",
   "execution_count": null,
   "id": "f8c68664",
   "metadata": {},
   "outputs": [],
   "source": []
  },
  {
   "cell_type": "code",
   "execution_count": null,
   "id": "776d185d",
   "metadata": {},
   "outputs": [],
   "source": []
  },
  {
   "cell_type": "code",
   "execution_count": null,
   "id": "ffad6e83",
   "metadata": {},
   "outputs": [],
   "source": []
  },
  {
   "cell_type": "code",
   "execution_count": null,
   "id": "53dd1e7a",
   "metadata": {},
   "outputs": [],
   "source": []
  },
  {
   "cell_type": "code",
   "execution_count": null,
   "id": "064cac4f",
   "metadata": {},
   "outputs": [],
   "source": []
  },
  {
   "cell_type": "code",
   "execution_count": null,
   "id": "2d6c0592",
   "metadata": {},
   "outputs": [],
   "source": []
  }
 ],
 "metadata": {
  "kernelspec": {
   "display_name": "Python 3",
   "language": "python",
   "name": "python3"
  },
  "language_info": {
   "codemirror_mode": {
    "name": "ipython",
    "version": 3
   },
   "file_extension": ".py",
   "mimetype": "text/x-python",
   "name": "python",
   "nbconvert_exporter": "python",
   "pygments_lexer": "ipython3",
   "version": "3.9.5"
  }
 },
 "nbformat": 4,
 "nbformat_minor": 5
}
