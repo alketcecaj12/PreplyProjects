{
 "cells": [
  {
   "cell_type": "code",
   "execution_count": 1,
   "metadata": {},
   "outputs": [],
   "source": [
    "import pandas as pd\n",
    "df = pd.read_csv('train_data.csv')\n",
    "d_test=pd.read_csv('test.csv')\n"
   ]
  },
  {
   "cell_type": "code",
   "execution_count": 2,
   "metadata": {},
   "outputs": [],
   "source": [
    "# Remove outliers - TRAIN\n",
    "# Adding R_Sideline to 0.85 and Sideline to 0.9 takes model to 0.66 R2\n",
    "q_hi  = df[\"R_Sideline\"].quantile(0.85)\n",
    "df = df[(df[\"R_Sideline\"] < q_hi)]\n",
    "q_hi  = df[\"Sideline\"].quantile(0.9)\n",
    "df = df[(df[\"Sideline\"] < q_hi)]\n",
    "\n",
    "# Remove outliers - TEST\n",
    "#q_hi  = d_test[\"R_Sideline\"].quantile(0.85)\n",
    "#d_test = d_test[(df[\"R_Sideline\"] < q_hi)]\n",
    "#q_hi  = d_test[\"Sideline\"].quantile(0.9)\n",
    "#df = d_test[(d_test[\"Sideline\"] < q_hi)]\n"
   ]
  },
  {
   "cell_type": "code",
   "execution_count": 3,
   "metadata": {},
   "outputs": [
    {
     "name": "stdout",
     "output_type": "stream",
     "text": [
      "OFD: 0.1676229222973448\n",
      "Slam: 0.13654011268849853\n",
      "Earlies_Exp: 0.013344113018385324\n",
      "Earlies_Rec: 0.026826236946823685\n",
      "MNR_SNR_Exp: -0.1020154495257305\n",
      "Rollover: -0.11314517904101559\n",
      "Returns: 0.01690468044197845\n",
      "R_Sideline: 0.46119923168636145\n",
      "Sideline: 0.5384474775577375\n",
      "______\n",
      "OFD: 0.07299436863667648\n",
      "Slam: 0.06197981972296017\n",
      "Earlies_Rec: 0.03814690660617211\n",
      "Rollover: 0.01670971085202468\n",
      "Returns: -0.005254360939171508\n",
      "R_Sideline: 0.3816508099998785\n",
      "Sideline: 0.3250650721907267\n"
     ]
    },
    {
     "data": {
      "image/png": "[encoded data removed]",
      "text/plain": [
       "<Figure size 432x288 with 1 Axes>"
      ]
     },
     "metadata": {
      "needs_background": "light"
     },
     "output_type": "display_data"
    }
   ],
   "source": [
    "from scipy import stats\n",
    "#TRAIN\n",
    "#cols_boxcox1 = ['OD', 'Slam', 'Earlies_Exp', 'Earlies_Rec', 'MNR_SNR_Exp', 'Rollover', 'Returns', 'R_Sideline', 'Sideline']\n",
    "# OFD, Slam, Earlies_Exp, Ealies_Rec, MNR_SNR_Exp, Rollover, Returns looks good with histogram.\n",
    "# Might have to drop Sideline values as they have a bimodal distribution. \n",
    "cols_boxcox = ['OFD', 'Slam', 'Earlies_Exp', 'Earlies_Rec', 'MNR_SNR_Exp', 'Rollover', 'Returns', 'R_Sideline', 'Sideline']\n",
    "#['R_Sideline', 'Sideline']\n",
    "df_boxcox = pd.DataFrame(df, columns=cols_boxcox)\n",
    "for column in cols_boxcox:\n",
    "    df_boxcox[column] = df_boxcox[column] + 1\n",
    "    df_boxcox[column], best_lambda = stats.boxcox(df_boxcox[column])\n",
    "    print(str(column)+\": \"+str(stats.skew(df_boxcox[column])))\n",
    "    df_boxcox[column].hist()\n",
    "\n",
    "#TEST\n",
    "print(\"______\")\n",
    "cols_boxcox = ['OFD', 'Slam',  'Earlies_Rec', 'Rollover', 'Returns', 'R_Sideline', 'Sideline']\n",
    "#['R_Sideline', 'Sideline']\n",
    "d_test_box = pd.DataFrame(d_test, columns=cols_boxcox)\n",
    "for column in cols_boxcox:\n",
    "    d_test_box[column] = d_test_box[column] + 1\n",
    "    d_test_box[column], best_lambda = stats.boxcox(d_test_box[column])\n",
    "    print(str(column)+\": \"+str(stats.skew(d_test_box[column])))\n",
    "    d_test_box[column].hist()\n",
    "\n",
    "    \n",
    "    "
   ]
  },
  {
   "cell_type": "code",
   "execution_count": 5,
   "metadata": {},
   "outputs": [],
   "source": [
    "#df_boxcox['ofd_date'] = pd.to_datetime(df['ofd_date'])\n",
    "df_boxcox['Offset_Exp']=df_boxcox['Earlies_Exp']-df_boxcox['MNR_SNR_Exp']\n",
    "    "
   ]
  },
  {
   "cell_type": "code",
   "execution_count": 6,
   "metadata": {},
   "outputs": [],
   "source": [
    "from sklearn.preprocessing import OneHotEncoder\n",
    "values=df['station_code'].unique()\n",
    "code={}\n",
    "i=1\n",
    "for value in values:\n",
    "    code[value]=i\n",
    "    i+=1\n",
    "\n",
    "    \n",
    "def encode(x):\n",
    "    return code[x]\n",
    "\n",
    "df['station_code']=df['station_code'].transform(encode)\n",
    "df_boxcox['station_code']=df['station_code'].copy()\n",
    "\n",
    "d_test['station_code']=d_test['station_code'].transform(encode)\n",
    "d_test_box['station_code']=d_test['station_code'].copy()\n"
   ]
  },
  {
   "cell_type": "code",
   "execution_count": 7,
   "metadata": {},
   "outputs": [],
   "source": [
    "from sklearn.model_selection import train_test_split\n",
    "\n",
    "#Spliting dataset into training and testing \n",
    "X = df_boxcox.copy()\n",
    "Y = df_boxcox['Offset_Exp']\n",
    "X = df_boxcox.drop(['Offset_Exp','Earlies_Exp','MNR_SNR_Exp'], axis=1)\n",
    "\n",
    "X_train, X_test, y_train, y_test = train_test_split(X, Y, test_size=0.2, random_state=0)\n",
    "\n",
    "\n"
   ]
  },
  {
   "cell_type": "code",
   "execution_count": 11,
   "metadata": {},
   "outputs": [],
   "source": [
    "from sklearn.linear_model import LinearRegression, SGDRegressor, LassoCV, RidgeCV, ElasticNetCV\n",
    "from xgboost import XGBRegressor\n",
    "import numpy as np\n",
    "from sklearn import metrics\n",
    "\n",
    "\n",
    "def create_model(model):\n",
    "    print(\"--------------\"+str(model)+\"--------------\")\n",
    "    regressor = model\n",
    "    regressor.fit(X_train, y_train)\n",
    "    X_train.describe()\n",
    "    y_pred = regressor.predict(X_test)\n",
    "    print('R-squared score:', regressor.score(X, Y))\n",
    "    print('Mean Absolute Error:', metrics.mean_absolute_error(y_test, y_pred))\n",
    "    print('Mean Squared Error:', metrics.mean_squared_error(y_test, y_pred))\n",
    "    print('Root Mean Squared Error:', np.sqrt(metrics.mean_squared_error(y_test, y_pred)))\n",
    "   "
   ]
  },
  {
   "cell_type": "code",
   "execution_count": 12,
   "metadata": {},
   "outputs": [],
   "source": [
    "#create_model(LinearRegression())\n",
    "#create_model(LassoCV())\n",
    "#create_model(RidgeCV())\n",
    "#create_model(ElasticNetCV())\n",
    "#create_model(XGBRegressor())\n"
   ]
  },
  {
   "cell_type": "code",
   "execution_count": 14,
   "metadata": {},
   "outputs": [
    {
     "name": "stdout",
     "output_type": "stream",
     "text": [
      "--------------XGBRegressor(base_score=None, booster=None, colsample_bylevel=None,\n",
      "             colsample_bynode=None, colsample_bytree=None,\n",
      "             enable_categorical=False, gamma=None, gpu_id=None,\n",
      "             importance_type=None, interaction_constraints=None,\n",
      "             learning_rate=None, max_delta_step=None, max_depth=None,\n",
      "             min_child_weight=None, missing=nan, monotone_constraints=None,\n",
      "             n_estimators=100, n_jobs=None, num_parallel_tree=None,\n",
      "             predictor=None, random_state=None, reg_alpha=None, reg_lambda=None,\n",
      "             scale_pos_weight=None, subsample=None, tree_method=None,\n",
      "             validate_parameters=None, verbosity=None)--------------\n",
      "R-squared score: 0.9215776771643919\n",
      "Mean Absolute Error: 0.9448312512822266\n",
      "Mean Squared Error: 1.7050163711078323\n",
      "Root Mean Squared Error: 1.3057627545261936\n"
     ]
    }
   ],
   "source": [
    "df_submission_lin_reg = create_model(XGBRegressor())\n",
    "\n"
   ]
  },
  {
   "cell_type": "code",
   "execution_count": null,
   "metadata": {},
   "outputs": [],
   "source": []
  },
  {
   "cell_type": "code",
   "execution_count": null,
   "metadata": {},
   "outputs": [],
   "source": []
  }
 ],
 "metadata": {
  "interpreter": {
   "hash": "b3ba2566441a7c06988d0923437866b63cedc61552a5af99d1f4fb67d367b25f"
  },
  "kernelspec": {
   "display_name": "Python 3",
   "language": "python",
   "name": "python3"
  },
  "language_info": {
   "codemirror_mode": {
    "name": "ipython",
    "version": 3
   },
   "file_extension": ".py",
   "mimetype": "text/x-python",
   "name": "python",
   "nbconvert_exporter": "python",
   "pygments_lexer": "ipython3",
   "version": "3.8.3"
  }
 },
 "nbformat": 4,
 "nbformat_minor": 2
}
