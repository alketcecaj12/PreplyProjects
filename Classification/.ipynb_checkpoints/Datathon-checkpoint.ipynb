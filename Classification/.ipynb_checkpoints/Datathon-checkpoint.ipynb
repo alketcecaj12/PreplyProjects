{
 "cells": [
  {
   "cell_type": "code",
   "execution_count": 21,
   "id": "dc06140e",
   "metadata": {},
   "outputs": [],
   "source": [
    "import pandas as pd\n",
    "import matplotlib.pyplot as plt\n",
    "import numpy as np"
   ]
  },
  {
   "cell_type": "code",
   "execution_count": 22,
   "id": "6bc291b9",
   "metadata": {},
   "outputs": [],
   "source": [
    "data = pd.read_csv('train_data.csv')"
   ]
  },
  {
   "cell_type": "code",
   "execution_count": 23,
   "id": "1b79f0e1",
   "metadata": {},
   "outputs": [
    {
     "data": {
      "text/html": [
       "<div>\n",
       "<style scoped>\n",
       "    .dataframe tbody tr th:only-of-type {\n",
       "        vertical-align: middle;\n",
       "    }\n",
       "\n",
       "    .dataframe tbody tr th {\n",
       "        vertical-align: top;\n",
       "    }\n",
       "\n",
       "    .dataframe thead th {\n",
       "        text-align: right;\n",
       "    }\n",
       "</style>\n",
       "<table border=\"1\" class=\"dataframe\">\n",
       "  <thead>\n",
       "    <tr style=\"text-align: right;\">\n",
       "      <th></th>\n",
       "      <th>ofd_date</th>\n",
       "      <th>country_code</th>\n",
       "      <th>fc_codes</th>\n",
       "      <th>station_code</th>\n",
       "      <th>OFD</th>\n",
       "      <th>Slam</th>\n",
       "      <th>Earlies_Exp</th>\n",
       "      <th>Earlies_Rec</th>\n",
       "      <th>MNR_SNR_Exp</th>\n",
       "      <th>Rollover</th>\n",
       "      <th>Returns</th>\n",
       "      <th>R_Sideline</th>\n",
       "      <th>Sideline</th>\n",
       "    </tr>\n",
       "  </thead>\n",
       "  <tbody>\n",
       "    <tr>\n",
       "      <th>0</th>\n",
       "      <td>2021-06-30</td>\n",
       "      <td>C</td>\n",
       "      <td>F6, F8, F14, F17</td>\n",
       "      <td>D33</td>\n",
       "      <td>14594</td>\n",
       "      <td>14568</td>\n",
       "      <td>782</td>\n",
       "      <td>896</td>\n",
       "      <td>615</td>\n",
       "      <td>767</td>\n",
       "      <td>35</td>\n",
       "      <td>2</td>\n",
       "      <td>4</td>\n",
       "    </tr>\n",
       "    <tr>\n",
       "      <th>1</th>\n",
       "      <td>2021-06-30</td>\n",
       "      <td>C</td>\n",
       "      <td>F6, F8, F9, F14, F17, F18</td>\n",
       "      <td>D37</td>\n",
       "      <td>12736</td>\n",
       "      <td>13111</td>\n",
       "      <td>655</td>\n",
       "      <td>823</td>\n",
       "      <td>211</td>\n",
       "      <td>29</td>\n",
       "      <td>17</td>\n",
       "      <td>2</td>\n",
       "      <td>1</td>\n",
       "    </tr>\n",
       "    <tr>\n",
       "      <th>2</th>\n",
       "      <td>2021-06-30</td>\n",
       "      <td>C</td>\n",
       "      <td>F1, F4, F6, F7, F13, F15, F16</td>\n",
       "      <td>D34</td>\n",
       "      <td>14562</td>\n",
       "      <td>15651</td>\n",
       "      <td>1028</td>\n",
       "      <td>1910</td>\n",
       "      <td>225</td>\n",
       "      <td>35</td>\n",
       "      <td>47</td>\n",
       "      <td>3</td>\n",
       "      <td>1</td>\n",
       "    </tr>\n",
       "    <tr>\n",
       "      <th>3</th>\n",
       "      <td>2021-06-30</td>\n",
       "      <td>C</td>\n",
       "      <td>F2, F6, F7, F10, F12, F13, F14, F15, F19</td>\n",
       "      <td>D45</td>\n",
       "      <td>11165</td>\n",
       "      <td>11467</td>\n",
       "      <td>514</td>\n",
       "      <td>769</td>\n",
       "      <td>56</td>\n",
       "      <td>39</td>\n",
       "      <td>29</td>\n",
       "      <td>0</td>\n",
       "      <td>1</td>\n",
       "    </tr>\n",
       "    <tr>\n",
       "      <th>4</th>\n",
       "      <td>2021-06-30</td>\n",
       "      <td>C</td>\n",
       "      <td>F6, F8, F13, F14, F17</td>\n",
       "      <td>D50</td>\n",
       "      <td>10006</td>\n",
       "      <td>10423</td>\n",
       "      <td>399</td>\n",
       "      <td>842</td>\n",
       "      <td>52</td>\n",
       "      <td>60</td>\n",
       "      <td>65</td>\n",
       "      <td>1</td>\n",
       "      <td>1</td>\n",
       "    </tr>\n",
       "    <tr>\n",
       "      <th>...</th>\n",
       "      <td>...</td>\n",
       "      <td>...</td>\n",
       "      <td>...</td>\n",
       "      <td>...</td>\n",
       "      <td>...</td>\n",
       "      <td>...</td>\n",
       "      <td>...</td>\n",
       "      <td>...</td>\n",
       "      <td>...</td>\n",
       "      <td>...</td>\n",
       "      <td>...</td>\n",
       "      <td>...</td>\n",
       "      <td>...</td>\n",
       "    </tr>\n",
       "    <tr>\n",
       "      <th>11304</th>\n",
       "      <td>2021-02-01</td>\n",
       "      <td>D</td>\n",
       "      <td>F35, F37, F38, F39, F40, F42, F43, F44, F46, F...</td>\n",
       "      <td>D60</td>\n",
       "      <td>16025</td>\n",
       "      <td>15768</td>\n",
       "      <td>487</td>\n",
       "      <td>383</td>\n",
       "      <td>62</td>\n",
       "      <td>69</td>\n",
       "      <td>195</td>\n",
       "      <td>15</td>\n",
       "      <td>1</td>\n",
       "    </tr>\n",
       "    <tr>\n",
       "      <th>11305</th>\n",
       "      <td>2021-02-01</td>\n",
       "      <td>D</td>\n",
       "      <td>F35, F36, F37, F38, F39, F40, F42, F43, F44, F...</td>\n",
       "      <td>D54</td>\n",
       "      <td>18986</td>\n",
       "      <td>18861</td>\n",
       "      <td>318</td>\n",
       "      <td>446</td>\n",
       "      <td>83</td>\n",
       "      <td>100</td>\n",
       "      <td>107</td>\n",
       "      <td>248</td>\n",
       "      <td>1</td>\n",
       "    </tr>\n",
       "    <tr>\n",
       "      <th>11306</th>\n",
       "      <td>2021-02-01</td>\n",
       "      <td>D</td>\n",
       "      <td>F35, F48, F52, F53, F54, F56</td>\n",
       "      <td>D69</td>\n",
       "      <td>12479</td>\n",
       "      <td>12345</td>\n",
       "      <td>163</td>\n",
       "      <td>196</td>\n",
       "      <td>64</td>\n",
       "      <td>64</td>\n",
       "      <td>62</td>\n",
       "      <td>136</td>\n",
       "      <td>0</td>\n",
       "    </tr>\n",
       "    <tr>\n",
       "      <th>11307</th>\n",
       "      <td>2021-02-01</td>\n",
       "      <td>D</td>\n",
       "      <td>F35, F36, F40, F42, F43, F46, F48, F49, F52, F...</td>\n",
       "      <td>D59</td>\n",
       "      <td>16828</td>\n",
       "      <td>16504</td>\n",
       "      <td>248</td>\n",
       "      <td>333</td>\n",
       "      <td>83</td>\n",
       "      <td>135</td>\n",
       "      <td>112</td>\n",
       "      <td>256</td>\n",
       "      <td>1</td>\n",
       "    </tr>\n",
       "    <tr>\n",
       "      <th>11308</th>\n",
       "      <td>2021-02-01</td>\n",
       "      <td>D</td>\n",
       "      <td>F35, F40, F42, F43, F46, F48, F52, F53, F55, F56</td>\n",
       "      <td>D57</td>\n",
       "      <td>18645</td>\n",
       "      <td>18982</td>\n",
       "      <td>314</td>\n",
       "      <td>1177</td>\n",
       "      <td>65</td>\n",
       "      <td>145</td>\n",
       "      <td>126</td>\n",
       "      <td>356</td>\n",
       "      <td>2</td>\n",
       "    </tr>\n",
       "  </tbody>\n",
       "</table>\n",
       "<p>11309 rows × 13 columns</p>\n",
       "</div>"
      ],
      "text/plain": [
       "         ofd_date country_code  \\\n",
       "0      2021-06-30            C   \n",
       "1      2021-06-30            C   \n",
       "2      2021-06-30            C   \n",
       "3      2021-06-30            C   \n",
       "4      2021-06-30            C   \n",
       "...           ...          ...   \n",
       "11304  2021-02-01            D   \n",
       "11305  2021-02-01            D   \n",
       "11306  2021-02-01            D   \n",
       "11307  2021-02-01            D   \n",
       "11308  2021-02-01            D   \n",
       "\n",
       "                                                fc_codes station_code    OFD  \\\n",
       "0                                       F6, F8, F14, F17          D33  14594   \n",
       "1                              F6, F8, F9, F14, F17, F18          D37  12736   \n",
       "2                          F1, F4, F6, F7, F13, F15, F16          D34  14562   \n",
       "3               F2, F6, F7, F10, F12, F13, F14, F15, F19          D45  11165   \n",
       "4                                  F6, F8, F13, F14, F17          D50  10006   \n",
       "...                                                  ...          ...    ...   \n",
       "11304  F35, F37, F38, F39, F40, F42, F43, F44, F46, F...          D60  16025   \n",
       "11305  F35, F36, F37, F38, F39, F40, F42, F43, F44, F...          D54  18986   \n",
       "11306                       F35, F48, F52, F53, F54, F56          D69  12479   \n",
       "11307  F35, F36, F40, F42, F43, F46, F48, F49, F52, F...          D59  16828   \n",
       "11308   F35, F40, F42, F43, F46, F48, F52, F53, F55, F56          D57  18645   \n",
       "\n",
       "        Slam  Earlies_Exp  Earlies_Rec  MNR_SNR_Exp  Rollover  Returns  \\\n",
       "0      14568          782          896          615       767       35   \n",
       "1      13111          655          823          211        29       17   \n",
       "2      15651         1028         1910          225        35       47   \n",
       "3      11467          514          769           56        39       29   \n",
       "4      10423          399          842           52        60       65   \n",
       "...      ...          ...          ...          ...       ...      ...   \n",
       "11304  15768          487          383           62        69      195   \n",
       "11305  18861          318          446           83       100      107   \n",
       "11306  12345          163          196           64        64       62   \n",
       "11307  16504          248          333           83       135      112   \n",
       "11308  18982          314         1177           65       145      126   \n",
       "\n",
       "       R_Sideline  Sideline  \n",
       "0               2         4  \n",
       "1               2         1  \n",
       "2               3         1  \n",
       "3               0         1  \n",
       "4               1         1  \n",
       "...           ...       ...  \n",
       "11304          15         1  \n",
       "11305         248         1  \n",
       "11306         136         0  \n",
       "11307         256         1  \n",
       "11308         356         2  \n",
       "\n",
       "[11309 rows x 13 columns]"
      ]
     },
     "execution_count": 23,
     "metadata": {},
     "output_type": "execute_result"
    }
   ],
   "source": [
    "data"
   ]
  },
  {
   "cell_type": "code",
   "execution_count": 24,
   "id": "801d690e",
   "metadata": {},
   "outputs": [
    {
     "name": "stdout",
     "output_type": "stream",
     "text": [
      "<class 'pandas.core.frame.DataFrame'>\n",
      "RangeIndex: 11309 entries, 0 to 11308\n",
      "Data columns (total 13 columns):\n",
      " #   Column        Non-Null Count  Dtype \n",
      "---  ------        --------------  ----- \n",
      " 0   ofd_date      11309 non-null  object\n",
      " 1   country_code  11309 non-null  object\n",
      " 2   fc_codes      11309 non-null  object\n",
      " 3   station_code  11309 non-null  object\n",
      " 4   OFD           11309 non-null  int64 \n",
      " 5   Slam          11309 non-null  int64 \n",
      " 6   Earlies_Exp   11309 non-null  int64 \n",
      " 7   Earlies_Rec   11309 non-null  int64 \n",
      " 8   MNR_SNR_Exp   11309 non-null  int64 \n",
      " 9   Rollover      11309 non-null  int64 \n",
      " 10  Returns       11309 non-null  int64 \n",
      " 11  R_Sideline    11309 non-null  int64 \n",
      " 12  Sideline      11309 non-null  int64 \n",
      "dtypes: int64(9), object(4)\n",
      "memory usage: 1.1+ MB\n"
     ]
    }
   ],
   "source": [
    "data.info()"
   ]
  },
  {
   "cell_type": "code",
   "execution_count": 25,
   "id": "46009514",
   "metadata": {},
   "outputs": [],
   "source": [
    "dati2 = data[['Rollover','Returns', 'R_Sideline','Sideline']]"
   ]
  },
  {
   "cell_type": "code",
   "execution_count": 26,
   "id": "b0983939",
   "metadata": {},
   "outputs": [
    {
     "data": {
      "text/html": [
       "<div>\n",
       "<style scoped>\n",
       "    .dataframe tbody tr th:only-of-type {\n",
       "        vertical-align: middle;\n",
       "    }\n",
       "\n",
       "    .dataframe tbody tr th {\n",
       "        vertical-align: top;\n",
       "    }\n",
       "\n",
       "    .dataframe thead th {\n",
       "        text-align: right;\n",
       "    }\n",
       "</style>\n",
       "<table border=\"1\" class=\"dataframe\">\n",
       "  <thead>\n",
       "    <tr style=\"text-align: right;\">\n",
       "      <th></th>\n",
       "      <th>Rollover</th>\n",
       "      <th>Returns</th>\n",
       "      <th>R_Sideline</th>\n",
       "      <th>Sideline</th>\n",
       "    </tr>\n",
       "  </thead>\n",
       "  <tbody>\n",
       "    <tr>\n",
       "      <th>0</th>\n",
       "      <td>767</td>\n",
       "      <td>35</td>\n",
       "      <td>2</td>\n",
       "      <td>4</td>\n",
       "    </tr>\n",
       "    <tr>\n",
       "      <th>1</th>\n",
       "      <td>29</td>\n",
       "      <td>17</td>\n",
       "      <td>2</td>\n",
       "      <td>1</td>\n",
       "    </tr>\n",
       "    <tr>\n",
       "      <th>2</th>\n",
       "      <td>35</td>\n",
       "      <td>47</td>\n",
       "      <td>3</td>\n",
       "      <td>1</td>\n",
       "    </tr>\n",
       "    <tr>\n",
       "      <th>3</th>\n",
       "      <td>39</td>\n",
       "      <td>29</td>\n",
       "      <td>0</td>\n",
       "      <td>1</td>\n",
       "    </tr>\n",
       "    <tr>\n",
       "      <th>4</th>\n",
       "      <td>60</td>\n",
       "      <td>65</td>\n",
       "      <td>1</td>\n",
       "      <td>1</td>\n",
       "    </tr>\n",
       "    <tr>\n",
       "      <th>...</th>\n",
       "      <td>...</td>\n",
       "      <td>...</td>\n",
       "      <td>...</td>\n",
       "      <td>...</td>\n",
       "    </tr>\n",
       "    <tr>\n",
       "      <th>11304</th>\n",
       "      <td>69</td>\n",
       "      <td>195</td>\n",
       "      <td>15</td>\n",
       "      <td>1</td>\n",
       "    </tr>\n",
       "    <tr>\n",
       "      <th>11305</th>\n",
       "      <td>100</td>\n",
       "      <td>107</td>\n",
       "      <td>248</td>\n",
       "      <td>1</td>\n",
       "    </tr>\n",
       "    <tr>\n",
       "      <th>11306</th>\n",
       "      <td>64</td>\n",
       "      <td>62</td>\n",
       "      <td>136</td>\n",
       "      <td>0</td>\n",
       "    </tr>\n",
       "    <tr>\n",
       "      <th>11307</th>\n",
       "      <td>135</td>\n",
       "      <td>112</td>\n",
       "      <td>256</td>\n",
       "      <td>1</td>\n",
       "    </tr>\n",
       "    <tr>\n",
       "      <th>11308</th>\n",
       "      <td>145</td>\n",
       "      <td>126</td>\n",
       "      <td>356</td>\n",
       "      <td>2</td>\n",
       "    </tr>\n",
       "  </tbody>\n",
       "</table>\n",
       "<p>11309 rows × 4 columns</p>\n",
       "</div>"
      ],
      "text/plain": [
       "       Rollover  Returns  R_Sideline  Sideline\n",
       "0           767       35           2         4\n",
       "1            29       17           2         1\n",
       "2            35       47           3         1\n",
       "3            39       29           0         1\n",
       "4            60       65           1         1\n",
       "...         ...      ...         ...       ...\n",
       "11304        69      195          15         1\n",
       "11305       100      107         248         1\n",
       "11306        64       62         136         0\n",
       "11307       135      112         256         1\n",
       "11308       145      126         356         2\n",
       "\n",
       "[11309 rows x 4 columns]"
      ]
     },
     "execution_count": 26,
     "metadata": {},
     "output_type": "execute_result"
    }
   ],
   "source": [
    "dati2"
   ]
  },
  {
   "cell_type": "code",
   "execution_count": 27,
   "id": "e9780f74",
   "metadata": {},
   "outputs": [
    {
     "data": {
      "text/plain": [
       "Rollover      0\n",
       "Returns       0\n",
       "R_Sideline    0\n",
       "Sideline      0\n",
       "dtype: int64"
      ]
     },
     "execution_count": 27,
     "metadata": {},
     "output_type": "execute_result"
    }
   ],
   "source": [
    "# check for nans\n",
    "dati2.isna().sum()"
   ]
  },
  {
   "cell_type": "code",
   "execution_count": 28,
   "id": "53b46ce4",
   "metadata": {},
   "outputs": [
    {
     "data": {
      "text/html": [
       "<div>\n",
       "<style scoped>\n",
       "    .dataframe tbody tr th:only-of-type {\n",
       "        vertical-align: middle;\n",
       "    }\n",
       "\n",
       "    .dataframe tbody tr th {\n",
       "        vertical-align: top;\n",
       "    }\n",
       "\n",
       "    .dataframe thead th {\n",
       "        text-align: right;\n",
       "    }\n",
       "</style>\n",
       "<table border=\"1\" class=\"dataframe\">\n",
       "  <thead>\n",
       "    <tr style=\"text-align: right;\">\n",
       "      <th></th>\n",
       "      <th>Rollover</th>\n",
       "      <th>Returns</th>\n",
       "      <th>R_Sideline</th>\n",
       "      <th>Sideline</th>\n",
       "    </tr>\n",
       "  </thead>\n",
       "  <tbody>\n",
       "    <tr>\n",
       "      <th>count</th>\n",
       "      <td>11309.000000</td>\n",
       "      <td>11309.000000</td>\n",
       "      <td>11309.000000</td>\n",
       "      <td>11309.000000</td>\n",
       "    </tr>\n",
       "    <tr>\n",
       "      <th>mean</th>\n",
       "      <td>231.747811</td>\n",
       "      <td>162.216642</td>\n",
       "      <td>181.492970</td>\n",
       "      <td>175.501547</td>\n",
       "    </tr>\n",
       "    <tr>\n",
       "      <th>std</th>\n",
       "      <td>602.885062</td>\n",
       "      <td>303.522951</td>\n",
       "      <td>497.362834</td>\n",
       "      <td>485.388451</td>\n",
       "    </tr>\n",
       "    <tr>\n",
       "      <th>min</th>\n",
       "      <td>0.000000</td>\n",
       "      <td>0.000000</td>\n",
       "      <td>0.000000</td>\n",
       "      <td>0.000000</td>\n",
       "    </tr>\n",
       "    <tr>\n",
       "      <th>25%</th>\n",
       "      <td>51.000000</td>\n",
       "      <td>40.000000</td>\n",
       "      <td>0.000000</td>\n",
       "      <td>0.000000</td>\n",
       "    </tr>\n",
       "    <tr>\n",
       "      <th>50%</th>\n",
       "      <td>87.000000</td>\n",
       "      <td>81.000000</td>\n",
       "      <td>2.000000</td>\n",
       "      <td>2.000000</td>\n",
       "    </tr>\n",
       "    <tr>\n",
       "      <th>75%</th>\n",
       "      <td>183.000000</td>\n",
       "      <td>148.000000</td>\n",
       "      <td>115.000000</td>\n",
       "      <td>119.000000</td>\n",
       "    </tr>\n",
       "    <tr>\n",
       "      <th>max</th>\n",
       "      <td>18839.000000</td>\n",
       "      <td>5479.000000</td>\n",
       "      <td>8090.000000</td>\n",
       "      <td>8121.000000</td>\n",
       "    </tr>\n",
       "  </tbody>\n",
       "</table>\n",
       "</div>"
      ],
      "text/plain": [
       "           Rollover       Returns    R_Sideline      Sideline\n",
       "count  11309.000000  11309.000000  11309.000000  11309.000000\n",
       "mean     231.747811    162.216642    181.492970    175.501547\n",
       "std      602.885062    303.522951    497.362834    485.388451\n",
       "min        0.000000      0.000000      0.000000      0.000000\n",
       "25%       51.000000     40.000000      0.000000      0.000000\n",
       "50%       87.000000     81.000000      2.000000      2.000000\n",
       "75%      183.000000    148.000000    115.000000    119.000000\n",
       "max    18839.000000   5479.000000   8090.000000   8121.000000"
      ]
     },
     "execution_count": 28,
     "metadata": {},
     "output_type": "execute_result"
    }
   ],
   "source": [
    "dati2.describe()"
   ]
  },
  {
   "cell_type": "code",
   "execution_count": 46,
   "id": "a09a5efe",
   "metadata": {},
   "outputs": [
    {
     "name": "stdout",
     "output_type": "stream",
     "text": [
      "Rollover\n"
     ]
    },
    {
     "data": {
      "image/png": "[encoded data removed]",
      "text/plain": [
       "<Figure size 1440x216 with 1 Axes>"
      ]
     },
     "metadata": {
      "needs_background": "light"
     },
     "output_type": "display_data"
    },
    {
     "name": "stdout",
     "output_type": "stream",
     "text": [
      "Returns\n"
     ]
    },
    {
     "data": {
      "image/png": "[encoded data removed]",
      "text/plain": [
       "<Figure size 1440x216 with 1 Axes>"
      ]
     },
     "metadata": {
      "needs_background": "light"
     },
     "output_type": "display_data"
    },
    {
     "name": "stdout",
     "output_type": "stream",
     "text": [
      "R_Sideline\n"
     ]
    },
    {
     "data": {
      "image/png": "[encoded data removed]",
      "text/plain": [
       "<Figure size 1440x216 with 1 Axes>"
      ]
     },
     "metadata": {
      "needs_background": "light"
     },
     "output_type": "display_data"
    },
    {
     "name": "stdout",
     "output_type": "stream",
     "text": [
      "Sideline\n"
     ]
    },
    {
     "data": {
      "image/png": "[encoded data removed]",
      "text/plain": [
       "<Figure size 1440x216 with 1 Axes>"
      ]
     },
     "metadata": {
      "needs_background": "light"
     },
     "output_type": "display_data"
    }
   ],
   "source": [
    "for i in dati2.columns: \n",
    "    print(i)\n",
    "    \n",
    "    plt.figure(figsize = (20, 3))\n",
    "    plt.boxplot(dati2[i], vert = False)\n",
    "    plt.show()\n"
   ]
  },
  {
   "cell_type": "code",
   "execution_count": 34,
   "id": "0e38a794",
   "metadata": {},
   "outputs": [],
   "source": [
    "a = np.array([1, 2, 3, 4, 5, 5, 5, 6, 6, 7, 8, 9])"
   ]
  },
  {
   "cell_type": "code",
   "execution_count": 35,
   "id": "cdeeb944",
   "metadata": {},
   "outputs": [
    {
     "data": {
      "text/plain": [
       "5.083333333333333"
      ]
     },
     "execution_count": 35,
     "metadata": {},
     "output_type": "execute_result"
    }
   ],
   "source": [
    "a.mean()"
   ]
  },
  {
   "cell_type": "code",
   "execution_count": 36,
   "id": "3ee4f2e8",
   "metadata": {},
   "outputs": [
    {
     "data": {
      "image/png": "[encoded data removed]",
      "text/plain": [
       "<Figure size 1440x216 with 1 Axes>"
      ]
     },
     "metadata": {
      "needs_background": "light"
     },
     "output_type": "display_data"
    }
   ],
   "source": [
    "plt.figure(figsize = (20, 3))\n",
    "plt.boxplot(a, vert = False)\n",
    "plt.show()"
   ]
  },
  {
   "cell_type": "code",
   "execution_count": 47,
   "id": "93c59091",
   "metadata": {},
   "outputs": [
    {
     "data": {
      "image/png": "[encoded data removed]",
      "text/plain": [
       "<Figure size 432x288 with 1 Axes>"
      ]
     },
     "metadata": {
      "needs_background": "light"
     },
     "output_type": "display_data"
    }
   ],
   "source": [
    "plt.hist(rollover, bins = 10)\n",
    "plt.show()"
   ]
  },
  {
   "cell_type": "markdown",
   "id": "cb47a525",
   "metadata": {},
   "source": [
    "#### Correlazioni"
   ]
  },
  {
   "cell_type": "code",
   "execution_count": 49,
   "id": "1ab6693f",
   "metadata": {},
   "outputs": [],
   "source": [
    "m = dati2.corr()"
   ]
  },
  {
   "cell_type": "code",
   "execution_count": 51,
   "id": "0c6a8db1",
   "metadata": {},
   "outputs": [
    {
     "data": {
      "text/html": [
       "<div>\n",
       "<style scoped>\n",
       "    .dataframe tbody tr th:only-of-type {\n",
       "        vertical-align: middle;\n",
       "    }\n",
       "\n",
       "    .dataframe tbody tr th {\n",
       "        vertical-align: top;\n",
       "    }\n",
       "\n",
       "    .dataframe thead th {\n",
       "        text-align: right;\n",
       "    }\n",
       "</style>\n",
       "<table border=\"1\" class=\"dataframe\">\n",
       "  <thead>\n",
       "    <tr style=\"text-align: right;\">\n",
       "      <th></th>\n",
       "      <th>Rollover</th>\n",
       "      <th>Returns</th>\n",
       "      <th>R_Sideline</th>\n",
       "      <th>Sideline</th>\n",
       "    </tr>\n",
       "  </thead>\n",
       "  <tbody>\n",
       "    <tr>\n",
       "      <th>Rollover</th>\n",
       "      <td>1.000000</td>\n",
       "      <td>0.098630</td>\n",
       "      <td>0.081563</td>\n",
       "      <td>0.035611</td>\n",
       "    </tr>\n",
       "    <tr>\n",
       "      <th>Returns</th>\n",
       "      <td>0.098630</td>\n",
       "      <td>1.000000</td>\n",
       "      <td>0.493502</td>\n",
       "      <td>0.055071</td>\n",
       "    </tr>\n",
       "    <tr>\n",
       "      <th>R_Sideline</th>\n",
       "      <td>0.081563</td>\n",
       "      <td>0.493502</td>\n",
       "      <td>1.000000</td>\n",
       "      <td>0.139086</td>\n",
       "    </tr>\n",
       "    <tr>\n",
       "      <th>Sideline</th>\n",
       "      <td>0.035611</td>\n",
       "      <td>0.055071</td>\n",
       "      <td>0.139086</td>\n",
       "      <td>1.000000</td>\n",
       "    </tr>\n",
       "  </tbody>\n",
       "</table>\n",
       "</div>"
      ],
      "text/plain": [
       "            Rollover   Returns  R_Sideline  Sideline\n",
       "Rollover    1.000000  0.098630    0.081563  0.035611\n",
       "Returns     0.098630  1.000000    0.493502  0.055071\n",
       "R_Sideline  0.081563  0.493502    1.000000  0.139086\n",
       "Sideline    0.035611  0.055071    0.139086  1.000000"
      ]
     },
     "execution_count": 51,
     "metadata": {},
     "output_type": "execute_result"
    }
   ],
   "source": [
    "m"
   ]
  },
  {
   "cell_type": "code",
   "execution_count": 50,
   "id": "565cec15",
   "metadata": {},
   "outputs": [
    {
     "data": {
      "text/plain": [
       "<AxesSubplot:>"
      ]
     },
     "execution_count": 50,
     "metadata": {},
     "output_type": "execute_result"
    },
    {
     "data": {
      "image/png": "[encoded data removed]",
      "text/plain": [
       "<Figure size 432x288 with 2 Axes>"
      ]
     },
     "metadata": {
      "needs_background": "light"
     },
     "output_type": "display_data"
    }
   ],
   "source": [
    "import seaborn as sb \n",
    "sb.heatmap(m)"
   ]
  },
  {
   "cell_type": "code",
   "execution_count": null,
   "id": "d68dbada",
   "metadata": {},
   "outputs": [],
   "source": []
  }
 ],
 "metadata": {
  "kernelspec": {
   "display_name": "Python 3",
   "language": "python",
   "name": "python3"
  },
  "language_info": {
   "codemirror_mode": {
    "name": "ipython",
    "version": 3
   },
   "file_extension": ".py",
   "mimetype": "text/x-python",
   "name": "python",
   "nbconvert_exporter": "python",
   "pygments_lexer": "ipython3",
   "version": "3.9.5"
  }
 },
 "nbformat": 4,
 "nbformat_minor": 5
}
