{
 "cells": [
  {
   "cell_type": "markdown",
   "metadata": {},
   "source": [
    "# Chapter 3: Data Visualization"
   ]
  },
  {
   "cell_type": "markdown",
   "metadata": {},
   "source": [
    "\n",
    "> (c) 2019-2020 Galit Shmueli, Peter C. Bruce, Peter Gedeck \n",
    ">\n",
    "> _Data Mining for Business Analytics: Concepts, Techniques, and Applications in Python_ (First Edition) \n",
    "> Galit Shmueli, Peter C. Bruce, Peter Gedeck, and Nitin R. Patel. 2019.\n",
    ">\n",
    "> Date: 2020-03-08\n",
    ">\n",
    "> Python Version: 3.8.2\n",
    "> Jupyter Notebook Version: 5.6.1\n",
    ">\n",
    "> Packages:\n",
    ">   - matplotlib: 3.2.0\n",
    ">   - pandas: 1.0.1\n",
    ">\n",
    "> The assistance from Mr. Kuber Deokar and Ms. Anuja Kulkarni in preparing these solutions is gratefully acknowledged.\n"
   ]
  },
  {
   "cell_type": "code",
   "execution_count": 5,
   "metadata": {},
   "outputs": [],
   "source": [
    "# import required packages for this chapter\n",
    "from pathlib import Path\n",
    "\n",
    "import pandas as pd\n",
    "import matplotlib.pylab as plt\n",
    "\n",
    "%matplotlib inline"
   ]
  },
  {
   "cell_type": "markdown",
   "metadata": {},
   "source": [
    "<font color=\"red\"><b>Note: \"MISSING:\" have suggested number of lines but can be completed with more or less code depending on how you write the code.</font>"
   ]
  },
  {
   "cell_type": "markdown",
   "metadata": {},
   "source": [
    "# Problem 3.1 Shipments of Household Appliances: Line Graphs.\n",
    "\n",
    "The file _ApplianceShipments.csv_ contains the series of quarterly shipments (in millions of dollars) of US household appliances between 1985 and 1989.\n",
    "\n",
    "### 3.1.a. Create a well-formatted time plot of the data using Python."
   ]
  },
  {
   "cell_type": "code",
   "execution_count": 6,
   "metadata": {},
   "outputs": [
    {
     "data": {
      "text/plain": [
       "(20, 2)"
      ]
     },
     "execution_count": 6,
     "metadata": {},
     "output_type": "execute_result"
    }
   ],
   "source": [
    "from pathlib import Path\n",
    "\n",
    "import pandas as pd\n",
    "import matplotlib.pylab as plt\n",
    "\n",
    "%matplotlib inline\n",
    "\n",
    "#Write code to get the following output\n",
    "# 1. load the data using Pandas read_csv (1 line of code)\n",
    "# MISSING: one line of code needed.  \n",
    "# SIMILAR EXAMPLE CODE: Chapter 03 - Section Figure 3.9 (Amtrak)\n",
    "Shipments_df = pd.read_csv('Ch-03-ApplianceShipments.csv') \n",
    "\n",
    "# 2. Print the number of rows and columns (1 line of code)\n",
    "# MISSING: one line of code needed.\n",
    "# SIMILAR CODE: Chapter 02 - Section Table 2.3\n",
    "Shipments_df.shape\n"
   ]
  },
  {
   "cell_type": "code",
   "execution_count": 3,
   "metadata": {},
   "outputs": [
    {
     "data": {
      "text/html": [
       "<div>\n",
       "<style scoped>\n",
       "    .dataframe tbody tr th:only-of-type {\n",
       "        vertical-align: middle;\n",
       "    }\n",
       "\n",
       "    .dataframe tbody tr th {\n",
       "        vertical-align: top;\n",
       "    }\n",
       "\n",
       "    .dataframe thead th {\n",
       "        text-align: right;\n",
       "    }\n",
       "</style>\n",
       "<table border=\"1\" class=\"dataframe\">\n",
       "  <thead>\n",
       "    <tr style=\"text-align: right;\">\n",
       "      <th></th>\n",
       "      <th>Quarter</th>\n",
       "      <th>Shipments</th>\n",
       "    </tr>\n",
       "  </thead>\n",
       "  <tbody>\n",
       "    <tr>\n",
       "      <th>0</th>\n",
       "      <td>Q1-1985</td>\n",
       "      <td>4009</td>\n",
       "    </tr>\n",
       "    <tr>\n",
       "      <th>1</th>\n",
       "      <td>Q2-1985</td>\n",
       "      <td>4321</td>\n",
       "    </tr>\n",
       "    <tr>\n",
       "      <th>2</th>\n",
       "      <td>Q3-1985</td>\n",
       "      <td>4224</td>\n",
       "    </tr>\n",
       "    <tr>\n",
       "      <th>3</th>\n",
       "      <td>Q4-1985</td>\n",
       "      <td>3944</td>\n",
       "    </tr>\n",
       "    <tr>\n",
       "      <th>4</th>\n",
       "      <td>Q1-1986</td>\n",
       "      <td>4123</td>\n",
       "    </tr>\n",
       "  </tbody>\n",
       "</table>\n",
       "</div>"
      ],
      "text/plain": [
       "   Quarter  Shipments\n",
       "0  Q1-1985       4009\n",
       "1  Q2-1985       4321\n",
       "2  Q3-1985       4224\n",
       "3  Q4-1985       3944\n",
       "4  Q1-1986       4123"
      ]
     },
     "execution_count": 3,
     "metadata": {},
     "output_type": "execute_result"
    }
   ],
   "source": [
    "# 1. Print the first 5 rows of the dataframe\n",
    "Shipments_df.head()\n",
    "# SIMILAR CODE: Chapter 02 - Section Table 2.3"
   ]
  },
  {
   "cell_type": "code",
   "execution_count": 8,
   "metadata": {},
   "outputs": [
    {
     "ename": "NameError",
     "evalue": "name 'Print' is not defined",
     "output_type": "error",
     "traceback": [
      "\u001b[1;31m---------------------------------------------------------------------------\u001b[0m",
      "\u001b[1;31mNameError\u001b[0m                                 Traceback (most recent call last)",
      "\u001b[1;32m<ipython-input-8-bbd6460febc7>\u001b[0m in \u001b[0;36m<module>\u001b[1;34m\u001b[0m\n\u001b[0;32m     28\u001b[0m \u001b[1;31m#5. Print the resulting Pandas series\u001b[0m\u001b[1;33m\u001b[0m\u001b[1;33m\u001b[0m\u001b[1;33m\u001b[0m\u001b[0m\n\u001b[0;32m     29\u001b[0m \u001b[1;31m# MISSING: one line of code needed.\u001b[0m\u001b[1;33m\u001b[0m\u001b[1;33m\u001b[0m\u001b[1;33m\u001b[0m\u001b[0m\n\u001b[1;32m---> 30\u001b[1;33m \u001b[0mPrint\u001b[0m\u001b[1;33m.\u001b[0m\u001b[0mShipments\u001b[0m\u001b[1;33m\u001b[0m\u001b[1;33m\u001b[0m\u001b[0m\n\u001b[0m",
      "\u001b[1;31mNameError\u001b[0m: name 'Print' is not defined"
     ]
    }
   ],
   "source": [
    "# Convert the data frame to be suitable for time series analysis\n",
    "\n",
    "#See Amtrak Example in book ...\n",
    "\n",
    "# 1. Create date range for quarters (already completed)\n",
    "date_range = pd.date_range(start='1/1/1985', end='12/31/1989', freq='Q')\n",
    "\n",
    "# 2. Recreate the shipments_df dataframe but drop the first column (already completed)\n",
    "#    Don't forget that references start at 0 (zero) in programming languages\n",
    "#    Format for filtering dataframes -->  \n",
    "#                               [rowStart:rowEnd, columnStart:columnEnd]\n",
    "Shipments_df = Shipments_df.iloc[0: , 1:2]\n",
    "\n",
    "# 3. Add the date_range column to the shipments_df dataframe and make sure it is a DATETIME datatype\n",
    "# MISSING: one line of code needed.\n",
    "Shipments_df['Date'] = pd.to_datetime(date_range, format='ridership_ts = pd.Series(Shipments_df.Shipments.values,index=date_range.Date')\n",
    "\n",
    "# HINT: use the pd.to_datetime() function\n",
    "# SIMILAR CODE: Chapter 03 - Section Figure 3.9\n",
    "\n",
    "# 4. Convert the Pandas dataframe called shipments_df into a pandas series called shipment_ts\n",
    "#    - Make the date column the Index\n",
    "#    - Use the Shipments column .values as the data\n",
    "# MISSING: one line of code needed.\n",
    "# SIMILAR CODE: Chapter 03 - Section Figure 3.1\n",
    "\n",
    "\n",
    "#5. Print the resulting Pandas series\n",
    "# MISSING: one line of code needed.\n",
    "Print.Shipments_"
   ]
  },
  {
   "cell_type": "code",
   "execution_count": null,
   "metadata": {},
   "outputs": [],
   "source": [
    "# 1. Using the <dataframeName>.plot() approach create a line plot (time series) of the data\n",
    "#   Leaving the plot type blank causes the linegraph to be used by default\n",
    "# MISSING: one line of code needed.\n",
    "# SIMILAR CODE: Chapter 03 - Section Figure 3.1 \"Using PANDAS\"\n",
    "\n",
    "\n",
    "#2. Add lables\n",
    "# MISSING: TWO lines of code needed.\n",
    "# SIMILAR CODE: Chapter 03 - Section Figure 3.1 \"Using PANDAS\"\n"
   ]
  },
  {
   "cell_type": "markdown",
   "metadata": {},
   "source": [
    "### 3.1.b. Does there appear to be a quarterly pattern? For a closer view of the patterns, zoom in to the range of 3500–5000 on the y-axis."
   ]
  },
  {
   "cell_type": "code",
   "execution_count": null,
   "metadata": {
    "scrolled": true
   },
   "outputs": [],
   "source": [
    "# \"ZOOM IN\" by changing the ylim to 3500-5000\n",
    "# 1. Create a line plot (time series) of the data\n",
    "# MISSING: one line of code needed.\n",
    "shipments_ts.plot(ylim=[3500, 5000], legend=False)\n",
    "# SIMILAR CODE: Chapter 03 - Section Figure 3.1 \"Using PANDAS\"\n",
    "\n",
    "\n",
    "#2. Add lables\n",
    "# MISSING: TWO lines of code needed.\n",
    "# SIMILAR CODE: Chapter 03 - Section Figure 3.1 \"Using PANDAS\"\n",
    "plt.xlabel(’Quarter’) # set x-axis label\n",
    "plt.ylabel(’Shipments (in 000s)’) # set y-axis label\n",
    "\n"
   ]
  },
  {
   "cell_type": "markdown",
   "metadata": {},
   "source": [
    "Yes, there appears a quarterly pattern in the above time series. The time plot shows a repeating pattern each year (more shipments in Q2 and Q3 and less shipments in Q1 and Q4). Limiting the y-axis to the range of 3500 - 5000 shows the quarterly pattern in the time series a bit more clearly."
   ]
  },
  {
   "cell_type": "markdown",
   "metadata": {},
   "source": [
    "### 3.1.c. \n",
    "Using Python, create one chart with four separate lines, one line for each of Q1, Q2, Q3, and Q4. In Python, this can be achieved by adding columns for quarter and year. Then group the data frame by quarter and then plot shipment versus year for each quarter as a separate series on a line graph. Zoom in to the range of 3500–5000 on the y-axis. Does there appear to be a difference between quarters?"
   ]
  },
  {
   "cell_type": "code",
   "execution_count": null,
   "metadata": {},
   "outputs": [],
   "source": [
    "# Create separate time series for each quarter\n",
    "# Line 1 Pandas Series\n",
    "Q1 = shipments_df.iloc[[0, 4, 8, 12, 16], :]\n",
    "Q1_ts = pd.Series(Q1.Shipments.values, index=Q1.Date)\n",
    "\n",
    "\n",
    "#Line 2, 3, 4 Pandas Series\n",
    "# MISSING: 6 lines of code needed.\n",
    "# Hint: Copy the above code 3 more times and change the quaters from q1 to the appropriate quarter\n",
    "\n",
    "Q2 = shipments_df.iloc[[1, 5, 9, 13, 17], :]\n",
    "Q2_ts = pd.Series(Q2.Shipments.values, index=Q2.Date\n",
    "                  \n",
    "Q3 = shipments_df.iloc[[2, 6, 10, 14, 18], :]\n",
    "Q3_ts = pd.Series(Q3.Shipments.values, index=Q3.Date                  \n",
    "                  \n",
    "Q4 = shipments_df.iloc[[3, 5, 6, 15, 19], :]\n",
    "Q4_ts = pd.Series(Q4.Shipments.values, index=Q4.Date"
   ]
  },
  {
   "cell_type": "code",
   "execution_count": null,
   "metadata": {
    "scrolled": true
   },
   "outputs": [],
   "source": [
    "#Plot each of the 4 Pandas Series from above\n",
    "#Plot 1\n",
    "plt.plot(Q1_ts, data=Q1_ts, label='Q1')\n",
    "plt.legend()\n",
    "\n",
    "# Plots 2, 3, 4\n",
    "# MISSING: 6 lines of code needed.\n",
    "# Hint: Copy the above code 3 more times and change the quaters from q1 to the appropriate quarter\n",
    "plt.plot(Q2_ts, data=Q2_ts, label='Q2')\n",
    "plt.legend()\n",
    "plt.plot(Q3_ts, data=Q3_ts, label='Q3')\n",
    "plt.legend()\n",
    "plt.plot(Q4_ts, data=Q4_ts, label='Q4')\n",
    "plt.legend()\n",
    "\n",
    "#Add lables to the x and y axis\n",
    "# MISSING: 2 lines of code needed.\n",
    "# SIMILAR CODE: Chapter 03 - Section Figure 3.1 \"Using MATPLOTLIB\"\n",
    "\n",
    "## line graph\n",
    "plt.plot(shipments_ts.index, shipments_ts)\n",
    "plt.xlabel(’Quarter’) # set x-axis label\n",
    "plt.ylabel(’Shipments’) # set y-axis label\n",
    "\n"
   ]
  },
  {
   "cell_type": "markdown",
   "metadata": {},
   "source": [
    "Yes, we can see differences between the quarters. From the above plot we can see that the shipments in quarters Q2 and Q3 are larger than in quarters Q1 and Q4."
   ]
  },
  {
   "cell_type": "markdown",
   "metadata": {},
   "source": [
    "__3.1.d.__ Using Python, create a line graph of the series at a yearly aggregated level (i.e., the total shipments in each year)."
   ]
  },
  {
   "cell_type": "code",
   "execution_count": null,
   "metadata": {},
   "outputs": [],
   "source": [
    "# 1. Create a line plot (time series) of the data with yearly aggregated series\n",
    "# Hint: add groupby() function to dataframe before plotting\n",
    "# MISSING: 2 lines of code needed.\n",
    "# SIMILAR CODE: Chapter 03 - Section Figure 3.9 \"Average by year (exclude data from 2004)\"\n",
    "# Hint: Do not need the .loc from the example due to not filting rows here\n",
    "byYear = Shipments_df_df.groupby(pd.Grouper(freq=’A’)).mean()\n",
    "ax = byYear.plot(ylim=[3500, 5000], legend=False, ax=axes[1]\n",
    "[1])\n",
    "\n",
    "\n",
    "#Add lables to the x and y axis\n",
    "# MISSING: 2 lines of code needed.\n",
    "# SIMILAR CODE: Chapter 03 - Section Figure 3.9 \"Average by year (exclude data from 2004)\"\n",
    "ax.set_xlabel(’Quarter’); ax.set_ylabel(’Shipments’) #\n",
    "set x and y-axis label\n",
    "plt.tight_layout()\n",
    "plt.show()\n"
   ]
  },
  {
   "cell_type": "markdown",
   "metadata": {},
   "source": [
    "Shipments show increasing trend from 1985-1987. After that it is mostly flat."
   ]
  },
  {
   "cell_type": "markdown",
   "metadata": {},
   "source": [
    "# 3.2. Sales of Riding Mowers: Scatter Plots. \n",
    "\n",
    "A company that manufactures riding mowers wants to identify the best sales prospects for an intensive sales campaign. In\n",
    "particular, the manufacturer is interested in classifying households as prospective owners or nonowners on the basis of Income (in $ 1000s) and Lot Size (in 1000 ft2). The marketing expert looked at a random sample of 24 households, given in the file _RidingMowers.csv_."
   ]
  },
  {
   "cell_type": "markdown",
   "metadata": {},
   "source": [
    "__3.2.a.__ Using Python, create a scatter plot of Lot Size vs. Income, color-coded by the outcome variable owner/nonowner. Make sure to obtain a well-formatted plot (create legible labels and a legend, etc.)."
   ]
  },
  {
   "cell_type": "code",
   "execution_count": null,
   "metadata": {},
   "outputs": [],
   "source": [
    "# 1. load the data using Pandas read_csv (1 line of code)\n",
    "# MISSING: one line of code needed.  \n",
    "# SIMILAR EXAMPLE CODE: Chapter 03 - Section Figure 3.9 (Amtrak)\n",
    "RidingMowers = pd.read_csv('Ch-03-RidingMowers.csv') \n",
    "\n",
    "\n",
    "# 2. Print the number of rows and columns (1 line of code)\n",
    "# MISSING: one line of code needed.\n",
    "# SIMILAR CODE: Chapter 02 - Section Table 2.3\n",
    "RidingMowers.shape\n"
   ]
  },
  {
   "cell_type": "code",
   "execution_count": null,
   "metadata": {},
   "outputs": [],
   "source": [
    "RidingMowers.head()"
   ]
  },
  {
   "cell_type": "code",
   "execution_count": null,
   "metadata": {
    "scrolled": true
   },
   "outputs": [],
   "source": [
    "# scatter plot of Lot Size vs. Income\n",
    "# SIMILAR CODE: Chapter 03 - Section Figure 3.6 \"Color the points by the value of CAT.MEDV\"\n",
    "# Hint: Color the points by Ownership for this assignment.\n",
    "# Color the points by the value of CAT.MEDV\n",
    "RidingMowers.plot.scatter(x=’Income’, y=’Lots_Size’, c=[’C0’ if c == 1\n",
    "else ’C1’ for c in RidingMowers.CAT_MEDV])\n",
    "# Plot first the data points for CAT.MEDV of 0 and then of 1\n",
    "# Setting color to ’none’ gives open circles\n",
    "_, ax = plt.subplots()\n",
    "for catValue, color in (0, ’C1’), (1, ’C0’):\n",
    "subset_df = RidingMowers[RidingMowers.CAT_MEDV == catValue]\n",
    "ax.scatter(subset_df.Income, subset_df.Lots_Size, color=’none’,\n",
    "edgecolor=color)\n",
    "ax.set_xlabel(’Income’)\n",
    "ax.set_ylabel(’Lot_Size’)\n",
    "ax.legend([”CAT.MEDV 0”, ”CAT.MEDV 1”])\n",
    "plt.show()\n"
   ]
  },
  {
   "cell_type": "markdown",
   "metadata": {},
   "source": [
    "Owners appears to have higher income and larger lot sizes as compared to non-owners."
   ]
  }
 ],
 "metadata": {
  "kernelspec": {
   "display_name": "Python 3",
   "language": "python",
   "name": "python3"
  },
  "language_info": {
   "codemirror_mode": {
    "name": "ipython",
    "version": 3
   },
   "file_extension": ".py",
   "mimetype": "text/x-python",
   "name": "python",
   "nbconvert_exporter": "python",
   "pygments_lexer": "ipython3",
   "version": "3.8.3"
  }
 },
 "nbformat": 4,
 "nbformat_minor": 2
}
