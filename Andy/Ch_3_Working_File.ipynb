{
 "cells": [
  {
   "cell_type": "markdown",
   "metadata": {},
   "source": [
    "# Chapter 3: Data Visualization"
   ]
  },
  {
   "cell_type": "markdown",
   "metadata": {},
   "source": [
    "\n",
    "> (c) 2019-2020 Galit Shmueli, Peter C. Bruce, Peter Gedeck \n",
    ">\n",
    "> _Data Mining for Business Analytics: Concepts, Techniques, and Applications in Python_ (First Edition) \n",
    "> Galit Shmueli, Peter C. Bruce, Peter Gedeck, and Nitin R. Patel. 2019.\n",
    ">\n",
    "> Date: 2020-03-08\n",
    ">\n",
    "> Python Version: 3.8.2\n",
    "> Jupyter Notebook Version: 5.6.1\n",
    ">\n",
    "> Packages:\n",
    ">   - matplotlib: 3.2.0\n",
    ">   - pandas: 1.0.1\n",
    ">\n",
    "> The assistance from Mr. Kuber Deokar and Ms. Anuja Kulkarni in preparing these solutions is gratefully acknowledged.\n"
   ]
  },
  {
   "cell_type": "code",
   "execution_count": 2,
   "metadata": {},
   "outputs": [],
   "source": [
    "# import required packages for this chapter\n",
    "from pathlib import Path\n",
    "\n",
    "import pandas as pd\n",
    "import matplotlib.pylab as plt\n",
    "\n",
    "%matplotlib inline"
   ]
  },
  {
   "cell_type": "markdown",
   "metadata": {},
   "source": [
    "<font color=\"red\"><b>Note: \"MISSING:\" have suggested number of lines but can be completed with more or less code depending on how you write the code.</font>"
   ]
  },
  {
   "cell_type": "markdown",
   "metadata": {},
   "source": [
    "# Problem 3.1 Shipments of Household Appliances: Line Graphs.\n",
    "\n",
    "The file _ApplianceShipments.csv_ contains the series of quarterly shipments (in millions of dollars) of US household appliances between 1985 and 1989.\n",
    "\n",
    "### 3.1.a. Create a well-formatted time plot of the data using Python."
   ]
  },
  {
   "cell_type": "code",
   "execution_count": 43,
   "metadata": {},
   "outputs": [
    {
     "data": {
      "text/plain": [
       "(20, 2)"
      ]
     },
     "execution_count": 43,
     "metadata": {},
     "output_type": "execute_result"
    }
   ],
   "source": [
    "from pathlib import Path\n",
    "\n",
    "import pandas as pd\n",
    "import matplotlib.pylab as plt\n",
    "\n",
    "%matplotlib inline\n",
    "\n",
    "#Write code to get the following output\n",
    "# 1. load the data using Pandas read_csv (1 line of code)\n",
    "# MISSING: one line of code needed.  \n",
    "# SIMILAR EXAMPLE CODE: Chapter 03 - Section Figure 3.9 (Amtrak)\n",
    "Shipments_df = pd.read_csv('Ch-03-ApplianceShipments.csv') \n",
    "\n",
    "# 2. Print the number of rows and columns (1 line of code)\n",
    "# MISSING: one line of code needed.\n",
    "# SIMILAR CODE: Chapter 02 - Section Table 2.3\n",
    "Shipments_df.shape\n"
   ]
  },
  {
   "cell_type": "code",
   "execution_count": 44,
   "metadata": {},
   "outputs": [
    {
     "data": {
      "text/html": [
       "<div>\n",
       "<style scoped>\n",
       "    .dataframe tbody tr th:only-of-type {\n",
       "        vertical-align: middle;\n",
       "    }\n",
       "\n",
       "    .dataframe tbody tr th {\n",
       "        vertical-align: top;\n",
       "    }\n",
       "\n",
       "    .dataframe thead th {\n",
       "        text-align: right;\n",
       "    }\n",
       "</style>\n",
       "<table border=\"1\" class=\"dataframe\">\n",
       "  <thead>\n",
       "    <tr style=\"text-align: right;\">\n",
       "      <th></th>\n",
       "      <th>Quarter</th>\n",
       "      <th>Shipments</th>\n",
       "    </tr>\n",
       "  </thead>\n",
       "  <tbody>\n",
       "    <tr>\n",
       "      <th>0</th>\n",
       "      <td>Q1-1985</td>\n",
       "      <td>4009</td>\n",
       "    </tr>\n",
       "    <tr>\n",
       "      <th>1</th>\n",
       "      <td>Q2-1985</td>\n",
       "      <td>4321</td>\n",
       "    </tr>\n",
       "    <tr>\n",
       "      <th>2</th>\n",
       "      <td>Q3-1985</td>\n",
       "      <td>4224</td>\n",
       "    </tr>\n",
       "    <tr>\n",
       "      <th>3</th>\n",
       "      <td>Q4-1985</td>\n",
       "      <td>3944</td>\n",
       "    </tr>\n",
       "    <tr>\n",
       "      <th>4</th>\n",
       "      <td>Q1-1986</td>\n",
       "      <td>4123</td>\n",
       "    </tr>\n",
       "  </tbody>\n",
       "</table>\n",
       "</div>"
      ],
      "text/plain": [
       "   Quarter  Shipments\n",
       "0  Q1-1985       4009\n",
       "1  Q2-1985       4321\n",
       "2  Q3-1985       4224\n",
       "3  Q4-1985       3944\n",
       "4  Q1-1986       4123"
      ]
     },
     "execution_count": 44,
     "metadata": {},
     "output_type": "execute_result"
    }
   ],
   "source": [
    "# 1. Print the first 5 rows of the dataframe\n",
    "Shipments_df.head()\n",
    "# SIMILAR CODE: Chapter 02 - Section Table 2.3"
   ]
  },
  {
   "cell_type": "code",
   "execution_count": 46,
   "metadata": {},
   "outputs": [
    {
     "data": {
      "text/plain": [
       "0     4009\n",
       "1     4321\n",
       "2     4224\n",
       "3     3944\n",
       "4     4123\n",
       "5     4522\n",
       "6     4657\n",
       "7     4030\n",
       "8     4493\n",
       "9     4806\n",
       "10    4551\n",
       "11    4485\n",
       "12    4595\n",
       "13    4799\n",
       "14    4417\n",
       "15    4258\n",
       "16    4245\n",
       "17    4900\n",
       "18    4585\n",
       "19    4533\n",
       "Name: Shipments, dtype: int64"
      ]
     },
     "execution_count": 46,
     "metadata": {},
     "output_type": "execute_result"
    }
   ],
   "source": [
    "# Convert the data frame to be suitable for time series analysis\n",
    "\n",
    "#See Amtrak Example in book ...\n",
    "\n",
    "# 1. Create date range for quarters (already completed)\n",
    "date_range = pd.date_range(start='1/1/1985', end='12/31/1989', freq='Q')\n",
    "\n",
    "# 2. Recreate the shipments_df dataframe but drop the first column (already completed)\n",
    "#    Don't forget that references start at 0 (zero) in programming languages\n",
    "#    Format for filtering dataframes -->  \n",
    "#                               [rowStart:rowEnd, columnStart:columnEnd]\n",
    "Shipments_df_col = Shipments_df.iloc[0:len(Shipments_df) , 1]\n",
    "\n",
    "Shipments_df_col"
   ]
  },
  {
   "cell_type": "code",
   "execution_count": 52,
   "metadata": {},
   "outputs": [
    {
     "name": "stdout",
     "output_type": "stream",
     "text": [
      "            Quarter  Shipments\n",
      "Date                          \n",
      "1985-03-31  Q1-1985       4009\n",
      "1985-06-30  Q2-1985       4321\n",
      "1985-09-30  Q3-1985       4224\n",
      "1985-12-31  Q4-1985       3944\n",
      "1986-03-31  Q1-1986       4123\n",
      "1986-06-30  Q2-1986       4522\n",
      "1986-09-30  Q3-1986       4657\n",
      "1986-12-31  Q4-1986       4030\n",
      "1987-03-31  Q1-1987       4493\n",
      "1987-06-30  Q2-1987       4806\n",
      "1987-09-30  Q3-1987       4551\n",
      "1987-12-31  Q4-1987       4485\n",
      "1988-03-31  Q1-1988       4595\n",
      "1988-06-30  Q2-1988       4799\n",
      "1988-09-30  Q3-1988       4417\n",
      "1988-12-31  Q4-1988       4258\n",
      "1989-03-31  Q1-1989       4245\n",
      "1989-06-30  Q2-1989       4900\n",
      "1989-09-30  Q3-1989       4585\n",
      "1989-12-31  Q4-1989       4533\n"
     ]
    }
   ],
   "source": [
    "# 3. Add the date_range column to the shipments_df dataframe and make sure it is a DATETIME datatype\n",
    "# MISSING: one line of code needed.\n",
    "Shipments_df['Date'] = pd.to_datetime(date_range, format='ridership_ts') \n",
    "\n",
    "# HINT: use the pd.to_datetime() function\n",
    "# SIMILAR CODE: Chapter 03 - Section Figure 3.9\n",
    "\n",
    "# 4. Convert the Pandas dataframe called shipments_df into a pandas series called shipment_ts\n",
    "#    - Make the date column the Index\n",
    "#    - Use the Shipments column .values as the data\n",
    "# MISSING: one line of code needed.\n",
    "# SIMILAR CODE: Chapter 03 - Section Figure 3.1\n",
    "\n",
    "shipment_ts = Shipments_df\n",
    "shipment_ts = shipment_ts.set_index(['Date'])\n",
    "\n",
    "\n",
    "#5. Print the resulting Pandas series\n",
    "# MISSING: one line of code needed.\n",
    "print(shipment_ts)"
   ]
  },
  {
   "cell_type": "code",
   "execution_count": 54,
   "metadata": {},
   "outputs": [
    {
     "data": {
      "text/plain": [
       "Text(0, 0.5, 'Shipments (in 000s)')"
      ]
     },
     "execution_count": 54,
     "metadata": {},
     "output_type": "execute_result"
    },
    {
     "data": {
      "image/png": "[encoded data removed]",
      "text/plain": [
       "<Figure size 432x288 with 1 Axes>"
      ]
     },
     "metadata": {
      "needs_background": "light"
     },
     "output_type": "display_data"
    }
   ],
   "source": [
    "# 1. Using the <dataframeName>.plot() approach create a line plot (time series) of the data\n",
    "#   Leaving the plot type blank causes the linegraph to be used by default\n",
    "# MISSING: one line of code needed.\n",
    "# SIMILAR CODE: Chapter 03 - Section Figure 3.1 \"Using PANDAS\"\n",
    "\n",
    "plt.plot(shipment_ts['Shipments'])\n",
    "\n",
    "#2. Add lables\n",
    "# MISSING: TWO lines of code needed.\n",
    "# SIMILAR CODE: Chapter 03 - Section Figure 3.1 \"Using PANDAS\"\n",
    "plt.xlabel('Quarter') # set x-axis label\n",
    "plt.ylabel('Shipments (in 000s)') # set y-axis label"
   ]
  },
  {
   "cell_type": "markdown",
   "metadata": {},
   "source": [
    "### 3.1.b. Does there appear to be a quarterly pattern? For a closer view of the patterns, zoom in to the range of 3500–5000 on the y-axis."
   ]
  },
  {
   "cell_type": "code",
   "execution_count": 55,
   "metadata": {
    "scrolled": true
   },
   "outputs": [
    {
     "data": {
      "text/plain": [
       "Text(0, 0.5, 'Shipments (in 000s)')"
      ]
     },
     "execution_count": 55,
     "metadata": {},
     "output_type": "execute_result"
    },
    {
     "data": {
      "image/png": "[encoded data removed]",
      "text/plain": [
       "<Figure size 432x288 with 1 Axes>"
      ]
     },
     "metadata": {
      "needs_background": "light"
     },
     "output_type": "display_data"
    }
   ],
   "source": [
    "# \"ZOOM IN\" by changing the ylim to 3500-5000\n",
    "# 1. Create a line plot (time series) of the data\n",
    "# MISSING: one line of code needed.\n",
    "shipment_ts.plot(ylim=[3500, 5000], legend=False)\n",
    "# SIMILAR CODE: Chapter 03 - Section Figure 3.1 \"Using PANDAS\"\n",
    "\n",
    "\n",
    "#2. Add lables\n",
    "# MISSING: TWO lines of code needed.\n",
    "# SIMILAR CODE: Chapter 03 - Section Figure 3.1 \"Using PANDAS\"\n",
    "plt.xlabel('Quarter') # set x-axis label\n",
    "plt.ylabel('Shipments (in 000s)') # set y-axis label\n",
    "\n"
   ]
  },
  {
   "cell_type": "code",
   "execution_count": 69,
   "metadata": {
    "scrolled": true
   },
   "outputs": [
    {
     "data": {
      "text/html": [
       "<div>\n",
       "<style scoped>\n",
       "    .dataframe tbody tr th:only-of-type {\n",
       "        vertical-align: middle;\n",
       "    }\n",
       "\n",
       "    .dataframe tbody tr th {\n",
       "        vertical-align: top;\n",
       "    }\n",
       "\n",
       "    .dataframe thead th {\n",
       "        text-align: right;\n",
       "    }\n",
       "</style>\n",
       "<table border=\"1\" class=\"dataframe\">\n",
       "  <thead>\n",
       "    <tr style=\"text-align: right;\">\n",
       "      <th></th>\n",
       "      <th>Quarter</th>\n",
       "      <th>Shipments</th>\n",
       "    </tr>\n",
       "    <tr>\n",
       "      <th>Date</th>\n",
       "      <th></th>\n",
       "      <th></th>\n",
       "    </tr>\n",
       "  </thead>\n",
       "  <tbody>\n",
       "    <tr>\n",
       "      <th>1985-03-31</th>\n",
       "      <td>Q1-1985</td>\n",
       "      <td>4009</td>\n",
       "    </tr>\n",
       "    <tr>\n",
       "      <th>1985-06-30</th>\n",
       "      <td>Q2-1985</td>\n",
       "      <td>4321</td>\n",
       "    </tr>\n",
       "    <tr>\n",
       "      <th>1985-09-30</th>\n",
       "      <td>Q3-1985</td>\n",
       "      <td>4224</td>\n",
       "    </tr>\n",
       "    <tr>\n",
       "      <th>1985-12-31</th>\n",
       "      <td>Q4-1985</td>\n",
       "      <td>3944</td>\n",
       "    </tr>\n",
       "    <tr>\n",
       "      <th>1986-03-31</th>\n",
       "      <td>Q1-1986</td>\n",
       "      <td>4123</td>\n",
       "    </tr>\n",
       "    <tr>\n",
       "      <th>1986-06-30</th>\n",
       "      <td>Q2-1986</td>\n",
       "      <td>4522</td>\n",
       "    </tr>\n",
       "    <tr>\n",
       "      <th>1986-09-30</th>\n",
       "      <td>Q3-1986</td>\n",
       "      <td>4657</td>\n",
       "    </tr>\n",
       "    <tr>\n",
       "      <th>1986-12-31</th>\n",
       "      <td>Q4-1986</td>\n",
       "      <td>4030</td>\n",
       "    </tr>\n",
       "    <tr>\n",
       "      <th>1987-03-31</th>\n",
       "      <td>Q1-1987</td>\n",
       "      <td>4493</td>\n",
       "    </tr>\n",
       "    <tr>\n",
       "      <th>1987-06-30</th>\n",
       "      <td>Q2-1987</td>\n",
       "      <td>4806</td>\n",
       "    </tr>\n",
       "    <tr>\n",
       "      <th>1987-09-30</th>\n",
       "      <td>Q3-1987</td>\n",
       "      <td>4551</td>\n",
       "    </tr>\n",
       "    <tr>\n",
       "      <th>1987-12-31</th>\n",
       "      <td>Q4-1987</td>\n",
       "      <td>4485</td>\n",
       "    </tr>\n",
       "    <tr>\n",
       "      <th>1988-03-31</th>\n",
       "      <td>Q1-1988</td>\n",
       "      <td>4595</td>\n",
       "    </tr>\n",
       "    <tr>\n",
       "      <th>1988-06-30</th>\n",
       "      <td>Q2-1988</td>\n",
       "      <td>4799</td>\n",
       "    </tr>\n",
       "    <tr>\n",
       "      <th>1988-09-30</th>\n",
       "      <td>Q3-1988</td>\n",
       "      <td>4417</td>\n",
       "    </tr>\n",
       "    <tr>\n",
       "      <th>1988-12-31</th>\n",
       "      <td>Q4-1988</td>\n",
       "      <td>4258</td>\n",
       "    </tr>\n",
       "    <tr>\n",
       "      <th>1989-03-31</th>\n",
       "      <td>Q1-1989</td>\n",
       "      <td>4245</td>\n",
       "    </tr>\n",
       "    <tr>\n",
       "      <th>1989-06-30</th>\n",
       "      <td>Q2-1989</td>\n",
       "      <td>4900</td>\n",
       "    </tr>\n",
       "    <tr>\n",
       "      <th>1989-09-30</th>\n",
       "      <td>Q3-1989</td>\n",
       "      <td>4585</td>\n",
       "    </tr>\n",
       "    <tr>\n",
       "      <th>1989-12-31</th>\n",
       "      <td>Q4-1989</td>\n",
       "      <td>4533</td>\n",
       "    </tr>\n",
       "  </tbody>\n",
       "</table>\n",
       "</div>"
      ],
      "text/plain": [
       "            Quarter  Shipments\n",
       "Date                          \n",
       "1985-03-31  Q1-1985       4009\n",
       "1985-06-30  Q2-1985       4321\n",
       "1985-09-30  Q3-1985       4224\n",
       "1985-12-31  Q4-1985       3944\n",
       "1986-03-31  Q1-1986       4123\n",
       "1986-06-30  Q2-1986       4522\n",
       "1986-09-30  Q3-1986       4657\n",
       "1986-12-31  Q4-1986       4030\n",
       "1987-03-31  Q1-1987       4493\n",
       "1987-06-30  Q2-1987       4806\n",
       "1987-09-30  Q3-1987       4551\n",
       "1987-12-31  Q4-1987       4485\n",
       "1988-03-31  Q1-1988       4595\n",
       "1988-06-30  Q2-1988       4799\n",
       "1988-09-30  Q3-1988       4417\n",
       "1988-12-31  Q4-1988       4258\n",
       "1989-03-31  Q1-1989       4245\n",
       "1989-06-30  Q2-1989       4900\n",
       "1989-09-30  Q3-1989       4585\n",
       "1989-12-31  Q4-1989       4533"
      ]
     },
     "execution_count": 69,
     "metadata": {},
     "output_type": "execute_result"
    }
   ],
   "source": [
    "shipment_ts"
   ]
  },
  {
   "cell_type": "markdown",
   "metadata": {},
   "source": [
    "Yes, there appears a quarterly pattern in the above time series. The time plot shows a repeating pattern each year (more shipments in Q2 and Q3 and less shipments in Q1 and Q4). Limiting the y-axis to the range of 3500 - 5000 shows the quarterly pattern in the time series a bit more clearly."
   ]
  },
  {
   "cell_type": "markdown",
   "metadata": {},
   "source": [
    "### 3.1.c. \n",
    "Using Python, create one chart with four separate lines, one line for each of Q1, Q2, Q3, and Q4. In Python, this can be achieved by adding columns for quarter and year. Then group the data frame by quarter and then plot shipment versus year for each quarter as a separate series on a line graph. Zoom in to the range of 3500–5000 on the y-axis. Does there appear to be a difference between quarters?"
   ]
  },
  {
   "cell_type": "code",
   "execution_count": 68,
   "metadata": {},
   "outputs": [
    {
     "name": "stdout",
     "output_type": "stream",
     "text": [
      "Date\n",
      "1985-03-31    4009\n",
      "1986-03-31    4123\n",
      "1987-03-31    4493\n",
      "1988-03-31    4595\n",
      "1989-03-31    4245\n",
      "dtype: int64\n"
     ]
    }
   ],
   "source": [
    "# Create separate time series for each quarter\n",
    "# Line 1 Pandas Series\n",
    "Q1 = Shipments_df.iloc[[0, 4, 8, 12, 16], :]\n",
    "Q1_ts = pd.Series(Q1.Shipments.values, index=Q1.Date)\n",
    "print(Q1_ts)\n",
    "#Line 2, 3, 4 Pandas Series\n",
    "# MISSING: 6 lines of code needed.\n",
    "# Hint: Copy the above code 3 more times and change the quaters from q1 to the appropriate quarter\n",
    "\n",
    "Q2 = Shipments_df.iloc[[1, 5, 9, 13, 17], :]\n",
    "Q2_ts = pd.Series(Q2.Shipments.values, index=Q2.Date)\n",
    "                  \n",
    "Q3 = Shipments_df.iloc[[2, 6, 10, 14, 18], :]\n",
    "Q3_ts = pd.Series(Q3.Shipments.values, index=Q3.Date )                 \n",
    "                  \n",
    "Q4 = Shipments_df.iloc[[3, 5, 6, 15, 19], :]\n",
    "Q4_ts = pd.Series(Q4.Shipments.values, index=Q4.Date)\n"
   ]
  },
  {
   "cell_type": "code",
   "execution_count": 74,
   "metadata": {
    "scrolled": true
   },
   "outputs": [
    {
     "data": {
      "text/plain": [
       "Text(0, 0.5, 'Shipments')"
      ]
     },
     "execution_count": 74,
     "metadata": {},
     "output_type": "execute_result"
    },
    {
     "data": {
      "image/png": "[encoded data removed]",
      "text/plain": [
       "<Figure size 432x288 with 1 Axes>"
      ]
     },
     "metadata": {
      "needs_background": "light"
     },
     "output_type": "display_data"
    }
   ],
   "source": [
    "#Plot each of the 4 Pandas Series from above\n",
    "#Plot 1\n",
    "plt.plot(Q1_ts, data=Q1_ts, label='Q1')\n",
    "plt.legend()\n",
    "\n",
    "# Plots 2, 3, 4\n",
    "# MISSING: 6 lines of code needed.\n",
    "# Hint: Copy the above code 3 more times and change the quaters from q1 to the appropriate quarter\n",
    "plt.plot(Q2_ts, data=Q2_ts, label='Q2')\n",
    "plt.legend()\n",
    "plt.plot(Q3_ts, data=Q3_ts, label='Q3')\n",
    "plt.legend()\n",
    "plt.plot(Q4_ts, data=Q4_ts, label='Q4')\n",
    "plt.legend()\n",
    "\n",
    "#Add lables to the x and y axis\n",
    "# MISSING: 2 lines of code needed.\n",
    "# SIMILAR CODE: Chapter 03 - Section Figure 3.1 \"Using MATPLOTLIB\"\n",
    "\n",
    "plt.xlabel('Quarter') # set x-axis label\n",
    "plt.ylabel('Shipments') # set y-axis label\n",
    "\n"
   ]
  },
  {
   "cell_type": "markdown",
   "metadata": {},
   "source": [
    "Yes, we can see differences between the quarters. From the above plot we can see that the shipments in quarters Q2 and Q3 are larger than in quarters Q1 and Q4."
   ]
  },
  {
   "cell_type": "markdown",
   "metadata": {},
   "source": [
    "__3.1.d.__ Using Python, create a line graph of the series at a yearly aggregated level (i.e., the total shipments in each year)."
   ]
  },
  {
   "cell_type": "code",
   "execution_count": 81,
   "metadata": {},
   "outputs": [
    {
     "data": {
      "image/png": "[encoded data removed]",
      "text/plain": [
       "<Figure size 432x288 with 1 Axes>"
      ]
     },
     "metadata": {
      "needs_background": "light"
     },
     "output_type": "display_data"
    }
   ],
   "source": [
    "# 1. Create a line plot (time series) of the data with yearly aggregated series\n",
    "# Hint: add groupby() function to dataframe before plotting\n",
    "# MISSING: 2 lines of code needed.\n",
    "# SIMILAR CODE: Chapter 03 - Section Figure 3.9 \"Average by year (exclude data from 2004)\"\n",
    "# Hint: Do not need the .loc from the example due to not filting rows here\n",
    "byYear = shipment_ts.groupby(pd.Grouper(freq='A')).mean()\n",
    "ax = byYear.plot(ylim=[3500, 5000], legend=False)\n",
    "\n",
    "\n",
    "#Add lables to the x and y axis\n",
    "# MISSING: 2 lines of code needed.\n",
    "# SIMILAR CODE: Chapter 03 - Section Figure 3.9 \"Average by year (exclude data from 2004)\"\n",
    "ax.set_xlabel('Quarter'); ax.set_ylabel('Shipments') #\n",
    "#set x and y-axis label\n",
    "plt.tight_layout()\n",
    "plt.show()\n"
   ]
  },
  {
   "cell_type": "markdown",
   "metadata": {},
   "source": [
    "Shipments show increasing trend from 1985-1987. After that it is mostly flat."
   ]
  },
  {
   "cell_type": "markdown",
   "metadata": {},
   "source": [
    "# 3.2. Sales of Riding Mowers: Scatter Plots. \n",
    "\n",
    "A company that manufactures riding mowers wants to identify the best sales prospects for an intensive sales campaign. In\n",
    "particular, the manufacturer is interested in classifying households as prospective owners or nonowners on the basis of Income (in $ 1000s) and Lot Size (in 1000 ft2). The marketing expert looked at a random sample of 24 households, given in the file _RidingMowers.csv_."
   ]
  },
  {
   "cell_type": "markdown",
   "metadata": {},
   "source": [
    "__3.2.a.__ Using Python, create a scatter plot of Lot Size vs. Income, color-coded by the outcome variable owner/nonowner. Make sure to obtain a well-formatted plot (create legible labels and a legend, etc.)."
   ]
  },
  {
   "cell_type": "code",
   "execution_count": 56,
   "metadata": {},
   "outputs": [
    {
     "data": {
      "text/plain": [
       "(24, 3)"
      ]
     },
     "execution_count": 56,
     "metadata": {},
     "output_type": "execute_result"
    }
   ],
   "source": [
    "# 1. load the data using Pandas read_csv (1 line of code)\n",
    "# MISSING: one line of code needed.  \n",
    "# SIMILAR EXAMPLE CODE: Chapter 03 - Section Figure 3.9 (Amtrak)\n",
    "RidingMowers = pd.read_csv('Ch-03-RidingMowers.csv') \n",
    "\n",
    "\n",
    "# 2. Print the number of rows and columns (1 line of code)\n",
    "# MISSING: one line of code needed.\n",
    "# SIMILAR CODE: Chapter 02 - Section Table 2.3\n",
    "RidingMowers.shape\n"
   ]
  },
  {
   "cell_type": "code",
   "execution_count": 13,
   "metadata": {},
   "outputs": [
    {
     "data": {
      "text/html": [
       "<div>\n",
       "<style scoped>\n",
       "    .dataframe tbody tr th:only-of-type {\n",
       "        vertical-align: middle;\n",
       "    }\n",
       "\n",
       "    .dataframe tbody tr th {\n",
       "        vertical-align: top;\n",
       "    }\n",
       "\n",
       "    .dataframe thead th {\n",
       "        text-align: right;\n",
       "    }\n",
       "</style>\n",
       "<table border=\"1\" class=\"dataframe\">\n",
       "  <thead>\n",
       "    <tr style=\"text-align: right;\">\n",
       "      <th></th>\n",
       "      <th>Income</th>\n",
       "      <th>Lot_Size</th>\n",
       "      <th>Ownership</th>\n",
       "    </tr>\n",
       "  </thead>\n",
       "  <tbody>\n",
       "    <tr>\n",
       "      <th>0</th>\n",
       "      <td>60.0</td>\n",
       "      <td>18.4</td>\n",
       "      <td>Owner</td>\n",
       "    </tr>\n",
       "    <tr>\n",
       "      <th>1</th>\n",
       "      <td>85.5</td>\n",
       "      <td>16.8</td>\n",
       "      <td>Owner</td>\n",
       "    </tr>\n",
       "    <tr>\n",
       "      <th>2</th>\n",
       "      <td>64.8</td>\n",
       "      <td>21.6</td>\n",
       "      <td>Owner</td>\n",
       "    </tr>\n",
       "    <tr>\n",
       "      <th>3</th>\n",
       "      <td>61.5</td>\n",
       "      <td>20.8</td>\n",
       "      <td>Owner</td>\n",
       "    </tr>\n",
       "    <tr>\n",
       "      <th>4</th>\n",
       "      <td>87.0</td>\n",
       "      <td>23.6</td>\n",
       "      <td>Owner</td>\n",
       "    </tr>\n",
       "  </tbody>\n",
       "</table>\n",
       "</div>"
      ],
      "text/plain": [
       "   Income  Lot_Size Ownership\n",
       "0    60.0      18.4     Owner\n",
       "1    85.5      16.8     Owner\n",
       "2    64.8      21.6     Owner\n",
       "3    61.5      20.8     Owner\n",
       "4    87.0      23.6     Owner"
      ]
     },
     "execution_count": 13,
     "metadata": {},
     "output_type": "execute_result"
    }
   ],
   "source": [
    "RidingMowers.head()"
   ]
  },
  {
   "cell_type": "code",
   "execution_count": 115,
   "metadata": {
    "scrolled": true
   },
   "outputs": [
    {
     "data": {
      "text/plain": [
       "<matplotlib.axes._subplots.AxesSubplot at 0x21b3eb5f9a0>"
      ]
     },
     "execution_count": 115,
     "metadata": {},
     "output_type": "execute_result"
    },
    {
     "data": {
      "image/png": "[encoded data removed]",
      "text/plain": [
       "<Figure size 432x288 with 1 Axes>"
      ]
     },
     "metadata": {
      "needs_background": "light"
     },
     "output_type": "display_data"
    }
   ],
   "source": [
    "# scatter plot of Lot Size vs. Income\n",
    "# SIMILAR CODE: Chapter 03 - Section Figure 3.6 \"Color the points by the value of CAT.MEDV\"\n",
    "# Hint: Color the points by Ownership for this assignment.\n",
    "# Color the points by the value of CAT.MEDV\n",
    "RidingMowers.Ownership = pd.Categorical(RidingMowers.Ownership)\n",
    "RidingMowers['CAT_MEDV'] = RidingMowers.Ownership.cat.codes\n",
    "\n",
    "\n",
    "RidingMowers.plot.scatter(x='Income', y='Lot_Size', c=['C0' if c == 1 else 'C1' for c in RidingMowers.CAT_MEDV])\n",
    "\n"
   ]
  },
  {
   "cell_type": "markdown",
   "metadata": {},
   "source": [
    "Owners appears to have higher income and larger lot sizes as compared to non-owners."
   ]
  },
  {
   "cell_type": "code",
   "execution_count": null,
   "metadata": {},
   "outputs": [],
   "source": []
  },
  {
   "cell_type": "code",
   "execution_count": null,
   "metadata": {},
   "outputs": [],
   "source": []
  }
 ],
 "metadata": {
  "kernelspec": {
   "display_name": "Python 3",
   "language": "python",
   "name": "python3"
  },
  "language_info": {
   "codemirror_mode": {
    "name": "ipython",
    "version": 3
   },
   "file_extension": ".py",
   "mimetype": "text/x-python",
   "name": "python",
   "nbconvert_exporter": "python",
   "pygments_lexer": "ipython3",
   "version": "3.9.5"
  }
 },
 "nbformat": 4,
 "nbformat_minor": 2
}
